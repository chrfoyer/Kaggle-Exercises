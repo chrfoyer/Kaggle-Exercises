{
 "cells": [
  {
   "cell_type": "markdown",
   "id": "b0a045ef",
   "metadata": {
    "papermill": {
     "duration": 0.004804,
     "end_time": "2023-03-20T22:55:30.858219",
     "exception": false,
     "start_time": "2023-03-20T22:55:30.853415",
     "status": "completed"
    },
    "tags": []
   },
   "source": [
    "**This notebook is an exercise in the [Introduction to Machine Learning](https://www.kaggle.com/learn/intro-to-machine-learning) course.  You can reference the tutorial at [this link](https://www.kaggle.com/dansbecker/underfitting-and-overfitting).**\n",
    "\n",
    "---\n"
   ]
  },
  {
   "cell_type": "markdown",
   "id": "0b78ff7c",
   "metadata": {
    "papermill": {
     "duration": 0.003306,
     "end_time": "2023-03-20T22:55:30.865421",
     "exception": false,
     "start_time": "2023-03-20T22:55:30.862115",
     "status": "completed"
    },
    "tags": []
   },
   "source": [
    "## Recap\n",
    "You've built your first model, and now it's time to optimize the size of the tree to make better predictions. Run this cell to set up your coding environment where the previous step left off."
   ]
  },
  {
   "cell_type": "code",
   "execution_count": 1,
   "id": "24eb10b1",
   "metadata": {
    "execution": {
     "iopub.execute_input": "2023-03-20T22:55:30.874750Z",
     "iopub.status.busy": "2023-03-20T22:55:30.874084Z",
     "iopub.status.idle": "2023-03-20T22:55:32.294257Z",
     "shell.execute_reply": "2023-03-20T22:55:32.292877Z"
    },
    "papermill": {
     "duration": 1.428423,
     "end_time": "2023-03-20T22:55:32.297324",
     "exception": false,
     "start_time": "2023-03-20T22:55:30.868901",
     "status": "completed"
    },
    "tags": []
   },
   "outputs": [
    {
     "name": "stdout",
     "output_type": "stream",
     "text": [
      "Validation MAE: 29,653\n",
      "\n",
      "Setup complete\n"
     ]
    }
   ],
   "source": [
    "# Code you have previously used to load data\n",
    "import pandas as pd\n",
    "from sklearn.metrics import mean_absolute_error\n",
    "from sklearn.model_selection import train_test_split\n",
    "from sklearn.tree import DecisionTreeRegressor\n",
    "\n",
    "\n",
    "# Path of the file to read\n",
    "iowa_file_path = '../input/home-data-for-ml-course/train.csv'\n",
    "\n",
    "home_data = pd.read_csv(iowa_file_path)\n",
    "# Create target object and call it y\n",
    "y = home_data.SalePrice\n",
    "# Create X\n",
    "features = ['LotArea', 'YearBuilt', '1stFlrSF', '2ndFlrSF', 'FullBath', 'BedroomAbvGr', 'TotRmsAbvGrd']\n",
    "X = home_data[features]\n",
    "\n",
    "# Split into validation and training data\n",
    "train_X, val_X, train_y, val_y = train_test_split(X, y, random_state=1)\n",
    "\n",
    "# Specify Model\n",
    "iowa_model = DecisionTreeRegressor(random_state=1)\n",
    "# Fit Model\n",
    "iowa_model.fit(train_X, train_y)\n",
    "\n",
    "# Make validation predictions and calculate mean absolute error\n",
    "val_predictions = iowa_model.predict(val_X)\n",
    "val_mae = mean_absolute_error(val_predictions, val_y)\n",
    "print(\"Validation MAE: {:,.0f}\".format(val_mae))\n",
    "\n",
    "# Set up code checking\n",
    "from learntools.core import binder\n",
    "binder.bind(globals())\n",
    "from learntools.machine_learning.ex5 import *\n",
    "print(\"\\nSetup complete\")"
   ]
  },
  {
   "cell_type": "markdown",
   "id": "c2a8c964",
   "metadata": {
    "papermill": {
     "duration": 0.003325,
     "end_time": "2023-03-20T22:55:32.304474",
     "exception": false,
     "start_time": "2023-03-20T22:55:32.301149",
     "status": "completed"
    },
    "tags": []
   },
   "source": [
    "# Exercises\n",
    "You could write the function `get_mae` yourself. For now, we'll supply it. This is the same function you read about in the previous lesson. Just run the cell below."
   ]
  },
  {
   "cell_type": "code",
   "execution_count": 2,
   "id": "35478e83",
   "metadata": {
    "execution": {
     "iopub.execute_input": "2023-03-20T22:55:32.313582Z",
     "iopub.status.busy": "2023-03-20T22:55:32.313173Z",
     "iopub.status.idle": "2023-03-20T22:55:32.319451Z",
     "shell.execute_reply": "2023-03-20T22:55:32.318145Z"
    },
    "papermill": {
     "duration": 0.013931,
     "end_time": "2023-03-20T22:55:32.322025",
     "exception": false,
     "start_time": "2023-03-20T22:55:32.308094",
     "status": "completed"
    },
    "tags": []
   },
   "outputs": [],
   "source": [
    "def get_mae(max_leaf_nodes, train_X, val_X, train_y, val_y):\n",
    "    model = DecisionTreeRegressor(max_leaf_nodes=max_leaf_nodes, random_state=0)\n",
    "    model.fit(train_X, train_y)\n",
    "    preds_val = model.predict(val_X)\n",
    "    mae = mean_absolute_error(val_y, preds_val)\n",
    "    return(mae)"
   ]
  },
  {
   "cell_type": "markdown",
   "id": "e7dd7a98",
   "metadata": {
    "papermill": {
     "duration": 0.00352,
     "end_time": "2023-03-20T22:55:32.329361",
     "exception": false,
     "start_time": "2023-03-20T22:55:32.325841",
     "status": "completed"
    },
    "tags": []
   },
   "source": [
    "## Step 1: Compare Different Tree Sizes\n",
    "Write a loop that tries the following values for *max_leaf_nodes* from a set of possible values.\n",
    "\n",
    "Call the *get_mae* function on each value of max_leaf_nodes. Store the output in some way that allows you to select the value of `max_leaf_nodes` that gives the most accurate model on your data."
   ]
  },
  {
   "cell_type": "code",
   "execution_count": 3,
   "id": "a7fd1f84",
   "metadata": {
    "execution": {
     "iopub.execute_input": "2023-03-20T22:55:32.338869Z",
     "iopub.status.busy": "2023-03-20T22:55:32.338045Z",
     "iopub.status.idle": "2023-03-20T22:55:32.389015Z",
     "shell.execute_reply": "2023-03-20T22:55:32.387764Z"
    },
    "papermill": {
     "duration": 0.058744,
     "end_time": "2023-03-20T22:55:32.391704",
     "exception": false,
     "start_time": "2023-03-20T22:55:32.332960",
     "status": "completed"
    },
    "tags": []
   },
   "outputs": [
    {
     "data": {
      "application/javascript": [
       "parent.postMessage({\"jupyterEvent\": \"custom.exercise_interaction\", \"data\": {\"outcomeType\": 1, \"valueTowardsCompletion\": 0.5, \"interactionType\": 1, \"questionType\": 1, \"questionId\": \"1_BestTreeSize\", \"learnToolsVersion\": \"0.3.4\", \"failureMessage\": \"\", \"exceptionClass\": \"\", \"trace\": \"\"}}, \"*\")"
      ],
      "text/plain": [
       "<IPython.core.display.Javascript object>"
      ]
     },
     "metadata": {},
     "output_type": "display_data"
    },
    {
     "data": {
      "text/markdown": [
       "<span style=\"color:#33cc33\">Correct</span>"
      ],
      "text/plain": [
       "Correct"
      ]
     },
     "metadata": {},
     "output_type": "display_data"
    }
   ],
   "source": [
    "candidate_max_leaf_nodes = [5, 25, 50, 100, 250, 500]\n",
    "# Write loop to find the ideal tree size from candidate_max_leaf_nodes\n",
    "min = 1000000000000\n",
    "for cand in candidate_max_leaf_nodes:\n",
    "    current_mae = get_mae(cand, train_X, val_X, train_y, val_y)\n",
    "    if current_mae < min:\n",
    "        min = current_mae\n",
    "        res = cand\n",
    "\n",
    "# Store the best value of max_leaf_nodes (it will be either 5, 25, 50, 100, 250 or 500)\n",
    "best_tree_size = res\n",
    "\n",
    "# Check your answer\n",
    "step_1.check()"
   ]
  },
  {
   "cell_type": "code",
   "execution_count": 4,
   "id": "c812208d",
   "metadata": {
    "execution": {
     "iopub.execute_input": "2023-03-20T22:55:32.402167Z",
     "iopub.status.busy": "2023-03-20T22:55:32.400909Z",
     "iopub.status.idle": "2023-03-20T22:55:32.406511Z",
     "shell.execute_reply": "2023-03-20T22:55:32.405172Z"
    },
    "papermill": {
     "duration": 0.01351,
     "end_time": "2023-03-20T22:55:32.409082",
     "exception": false,
     "start_time": "2023-03-20T22:55:32.395572",
     "status": "completed"
    },
    "tags": []
   },
   "outputs": [],
   "source": [
    "# The lines below will show you a hint or the solution.\n",
    "# step_1.hint() \n",
    "# step_1.solution()"
   ]
  },
  {
   "cell_type": "markdown",
   "id": "b1fb20ad",
   "metadata": {
    "papermill": {
     "duration": 0.003627,
     "end_time": "2023-03-20T22:55:32.416721",
     "exception": false,
     "start_time": "2023-03-20T22:55:32.413094",
     "status": "completed"
    },
    "tags": []
   },
   "source": [
    "## Step 2: Fit Model Using All Data\n",
    "You know the best tree size. If you were going to deploy this model in practice, you would make it even more accurate by using all of the data and keeping that tree size.  That is, you don't need to hold out the validation data now that you've made all your modeling decisions."
   ]
  },
  {
   "cell_type": "code",
   "execution_count": 5,
   "id": "c4fec70f",
   "metadata": {
    "execution": {
     "iopub.execute_input": "2023-03-20T22:55:32.427137Z",
     "iopub.status.busy": "2023-03-20T22:55:32.426041Z",
     "iopub.status.idle": "2023-03-20T22:55:32.444214Z",
     "shell.execute_reply": "2023-03-20T22:55:32.443114Z"
    },
    "papermill": {
     "duration": 0.025856,
     "end_time": "2023-03-20T22:55:32.446496",
     "exception": false,
     "start_time": "2023-03-20T22:55:32.420640",
     "status": "completed"
    },
    "tags": []
   },
   "outputs": [
    {
     "data": {
      "application/javascript": [
       "parent.postMessage({\"jupyterEvent\": \"custom.exercise_interaction\", \"data\": {\"outcomeType\": 1, \"valueTowardsCompletion\": 0.5, \"interactionType\": 1, \"questionType\": 2, \"questionId\": \"2_FitModelWithAllData\", \"learnToolsVersion\": \"0.3.4\", \"failureMessage\": \"\", \"exceptionClass\": \"\", \"trace\": \"\"}}, \"*\")"
      ],
      "text/plain": [
       "<IPython.core.display.Javascript object>"
      ]
     },
     "metadata": {},
     "output_type": "display_data"
    },
    {
     "data": {
      "text/markdown": [
       "<span style=\"color:#33cc33\">Correct</span>"
      ],
      "text/plain": [
       "Correct"
      ]
     },
     "metadata": {},
     "output_type": "display_data"
    }
   ],
   "source": [
    "# Fill in argument to make optimal size and uncomment\n",
    "final_model = DecisionTreeRegressor(max_leaf_nodes=best_tree_size, random_state=0)\n",
    "\n",
    "# fit the final model and uncomment the next two lines\n",
    "final_model.fit(X, y)\n",
    "\n",
    "# Check your answer\n",
    "step_2.check()"
   ]
  },
  {
   "cell_type": "code",
   "execution_count": 6,
   "id": "4690dcfa",
   "metadata": {
    "execution": {
     "iopub.execute_input": "2023-03-20T22:55:32.456631Z",
     "iopub.status.busy": "2023-03-20T22:55:32.456161Z",
     "iopub.status.idle": "2023-03-20T22:55:32.461193Z",
     "shell.execute_reply": "2023-03-20T22:55:32.459845Z"
    },
    "papermill": {
     "duration": 0.013141,
     "end_time": "2023-03-20T22:55:32.463700",
     "exception": false,
     "start_time": "2023-03-20T22:55:32.450559",
     "status": "completed"
    },
    "tags": []
   },
   "outputs": [],
   "source": [
    "# step_2.hint()\n",
    "# step_2.solution()"
   ]
  },
  {
   "cell_type": "markdown",
   "id": "edc59164",
   "metadata": {
    "papermill": {
     "duration": 0.003948,
     "end_time": "2023-03-20T22:55:32.471993",
     "exception": false,
     "start_time": "2023-03-20T22:55:32.468045",
     "status": "completed"
    },
    "tags": []
   },
   "source": [
    "You've tuned this model and improved your results. But we are still using Decision Tree models, which are not very sophisticated by modern machine learning standards. In the next step you will learn to use Random Forests to improve your models even more.\n",
    "\n",
    "# Keep Going\n",
    "\n",
    "You are ready for **[Random Forests](https://www.kaggle.com/dansbecker/random-forests).**\n"
   ]
  },
  {
   "cell_type": "markdown",
   "id": "d76b2acf",
   "metadata": {
    "papermill": {
     "duration": 0.003906,
     "end_time": "2023-03-20T22:55:32.480126",
     "exception": false,
     "start_time": "2023-03-20T22:55:32.476220",
     "status": "completed"
    },
    "tags": []
   },
   "source": [
    "---\n",
    "\n",
    "\n",
    "\n",
    "\n",
    "*Have questions or comments? Visit the [course discussion forum](https://www.kaggle.com/learn/intro-to-machine-learning/discussion) to chat with other learners.*"
   ]
  }
 ],
 "metadata": {
  "kernelspec": {
   "display_name": "Python 3",
   "language": "python",
   "name": "python3"
  },
  "language_info": {
   "codemirror_mode": {
    "name": "ipython",
    "version": 3
   },
   "file_extension": ".py",
   "mimetype": "text/x-python",
   "name": "python",
   "nbconvert_exporter": "python",
   "pygments_lexer": "ipython3",
   "version": "3.7.12"
  },
  "papermill": {
   "default_parameters": {},
   "duration": 12.93126,
   "end_time": "2023-03-20T22:55:33.307647",
   "environment_variables": {},
   "exception": null,
   "input_path": "__notebook__.ipynb",
   "output_path": "__notebook__.ipynb",
   "parameters": {},
   "start_time": "2023-03-20T22:55:20.376387",
   "version": "2.4.0"
  }
 },
 "nbformat": 4,
 "nbformat_minor": 5
}
