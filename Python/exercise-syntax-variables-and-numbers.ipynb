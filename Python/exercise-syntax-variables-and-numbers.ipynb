{
 "cells": [
  {
   "cell_type": "markdown",
   "id": "59fcf31c",
   "metadata": {
    "papermill": {
     "duration": 0.008261,
     "end_time": "2023-03-18T15:00:41.865669",
     "exception": false,
     "start_time": "2023-03-18T15:00:41.857408",
     "status": "completed"
    },
    "tags": []
   },
   "source": [
    "**This notebook is an exercise in the [Python](https://www.kaggle.com/learn/python) course.  You can reference the tutorial at [this link](https://www.kaggle.com/colinmorris/hello-python).**\n",
    "\n",
    "---\n"
   ]
  },
  {
   "cell_type": "markdown",
   "id": "70964d86",
   "metadata": {
    "papermill": {
     "duration": 0.009424,
     "end_time": "2023-03-18T15:00:41.886121",
     "exception": false,
     "start_time": "2023-03-18T15:00:41.876697",
     "status": "completed"
    },
    "tags": []
   },
   "source": [
    "Welcome to your first set of Python coding problems.  If this is your first time using Kaggle Notebooks, welcome! \n",
    "\n",
    "Notebooks are composed of blocks (called \"cells\") of text and code. Each of these is editable, though you'll mainly be editing the code cells to answer some questions.\n",
    "\n",
    "To get started, try running the code cell below (by pressing the ► button, or clicking on the cell and pressing ctrl+enter on your keyboard)."
   ]
  },
  {
   "cell_type": "code",
   "execution_count": null,
   "id": "8fa83fb4",
   "metadata": {
    "papermill": {
     "duration": 0.009482,
     "end_time": "2023-03-18T15:00:41.905190",
     "exception": false,
     "start_time": "2023-03-18T15:00:41.895708",
     "status": "completed"
    },
    "tags": []
   },
   "outputs": [],
   "source": []
  },
  {
   "cell_type": "code",
   "execution_count": 1,
   "id": "7848bb32",
   "metadata": {
    "execution": {
     "iopub.execute_input": "2023-03-18T15:00:41.922533Z",
     "iopub.status.busy": "2023-03-18T15:00:41.921559Z",
     "iopub.status.idle": "2023-03-18T15:00:41.937716Z",
     "shell.execute_reply": "2023-03-18T15:00:41.935465Z"
    },
    "papermill": {
     "duration": 0.028432,
     "end_time": "2023-03-18T15:00:41.941478",
     "exception": false,
     "start_time": "2023-03-18T15:00:41.913046",
     "status": "completed"
    },
    "tags": []
   },
   "outputs": [
    {
     "name": "stdout",
     "output_type": "stream",
     "text": [
      "You've successfully run some Python code\n",
      "Congratulations!\n",
      "You are not yet ready for the interview\n"
     ]
    }
   ],
   "source": [
    "print(\"You've successfully run some Python code\")\n",
    "print(\"Congratulations!\")\n",
    "print(\"You are not yet ready for the interview\")"
   ]
  },
  {
   "cell_type": "markdown",
   "id": "bff86497",
   "metadata": {
    "papermill": {
     "duration": 0.006443,
     "end_time": "2023-03-18T15:00:41.955103",
     "exception": false,
     "start_time": "2023-03-18T15:00:41.948660",
     "status": "completed"
    },
    "tags": []
   },
   "source": [
    "Try adding another line of code in the cell above and re-running it. \n",
    "\n",
    "Now let's get a little fancier:  Add a new code cell by clicking on an existing code cell, hitting the escape key, and then hitting the `a` or `b` key.  The `a` key will add a cell above the current cell, and `b` adds a cell below.\n",
    "\n",
    "Great! Now you know how to use Notebooks.\n",
    "\n",
    "Each hands-on exercise starts by setting up our feedback and code checking mechanism. Run the code cell below to do that. Then you'll be ready to move on to question 0."
   ]
  },
  {
   "cell_type": "code",
   "execution_count": 2,
   "id": "4743951c",
   "metadata": {
    "_kg_hide-input": true,
    "_kg_hide-output": true,
    "execution": {
     "iopub.execute_input": "2023-03-18T15:00:41.970695Z",
     "iopub.status.busy": "2023-03-18T15:00:41.969819Z",
     "iopub.status.idle": "2023-03-18T15:00:42.003276Z",
     "shell.execute_reply": "2023-03-18T15:00:42.001819Z"
    },
    "papermill": {
     "duration": 0.044558,
     "end_time": "2023-03-18T15:00:42.006346",
     "exception": false,
     "start_time": "2023-03-18T15:00:41.961788",
     "status": "completed"
    },
    "tags": []
   },
   "outputs": [
    {
     "name": "stdout",
     "output_type": "stream",
     "text": [
      "Setup complete! You're ready to start question 0.\n"
     ]
    }
   ],
   "source": [
    "from learntools.core import binder; binder.bind(globals())\n",
    "from learntools.python.ex1 import *\n",
    "print(\"Setup complete! You're ready to start question 0.\")"
   ]
  },
  {
   "cell_type": "markdown",
   "id": "ba99c6ee",
   "metadata": {
    "papermill": {
     "duration": 0.006446,
     "end_time": "2023-03-18T15:00:42.019706",
     "exception": false,
     "start_time": "2023-03-18T15:00:42.013260",
     "status": "completed"
    },
    "tags": []
   },
   "source": [
    "# 0.\n",
    "\n",
    "*This is a silly question intended as an introduction to the format we use for hands-on exercises throughout all Kaggle courses.*\n",
    "\n",
    "**What is your favorite color? **\n",
    "\n",
    "To complete this question, create a variable called `color` in the cell below with an appropriate value. The function call `q0.check()` (which we've already provided in the cell below) will check your answer."
   ]
  },
  {
   "cell_type": "code",
   "execution_count": 3,
   "id": "7035888f",
   "metadata": {
    "execution": {
     "iopub.execute_input": "2023-03-18T15:00:42.035493Z",
     "iopub.status.busy": "2023-03-18T15:00:42.034446Z",
     "iopub.status.idle": "2023-03-18T15:00:42.045159Z",
     "shell.execute_reply": "2023-03-18T15:00:42.044302Z"
    },
    "papermill": {
     "duration": 0.020985,
     "end_time": "2023-03-18T15:00:42.047401",
     "exception": false,
     "start_time": "2023-03-18T15:00:42.026416",
     "status": "completed"
    },
    "tags": []
   },
   "outputs": [
    {
     "data": {
      "application/javascript": [
       "parent.postMessage({\"jupyterEvent\": \"custom.exercise_interaction\", \"data\": {\"outcomeType\": 1, \"valueTowardsCompletion\": 0.25, \"interactionType\": 1, \"questionType\": 2, \"questionId\": \"0_ExerciseFormatTutorial\", \"learnToolsVersion\": \"0.3.4\", \"failureMessage\": \"\", \"exceptionClass\": \"\", \"trace\": \"\"}}, \"*\")"
      ],
      "text/plain": [
       "<IPython.core.display.Javascript object>"
      ]
     },
     "metadata": {},
     "output_type": "display_data"
    },
    {
     "data": {
      "text/markdown": [
       "<span style=\"color:#33cc33\">Correct:</span> What?! You got it right without needing a hint or anything? Drats. Well hey, you should still continue to the next step to get some practice asking for a hint and checking solutions. (Even though you obviously don't need any help here.)"
      ],
      "text/plain": [
       "Correct: What?! You got it right without needing a hint or anything? Drats. Well hey, you should still continue to the next step to get some practice asking for a hint and checking solutions. (Even though you obviously don't need any help here.)"
      ]
     },
     "metadata": {},
     "output_type": "display_data"
    }
   ],
   "source": [
    "# create a variable called color with an appropriate value on the line below\n",
    "# (Remember, strings in Python must be enclosed in 'single' or \"double\" quotes)\n",
    "____\n",
    "color = \"blue\"\n",
    "# Check your answer\n",
    "q0.check()"
   ]
  },
  {
   "cell_type": "markdown",
   "id": "5c1cb4a4",
   "metadata": {
    "papermill": {
     "duration": 0.006652,
     "end_time": "2023-03-18T15:00:42.061055",
     "exception": false,
     "start_time": "2023-03-18T15:00:42.054403",
     "status": "completed"
    },
    "tags": []
   },
   "source": [
    "Didn't get the right answer? How do you not even know your own favorite color?!\n",
    "\n",
    "Delete the `#` in the line below to make one of the lines run. You can choose between getting a hint or the full answer by choosing which line to remove the `#` from. \n",
    "\n",
    "Removing the `#` is called uncommenting, because it changes that line from a \"comment\" which Python doesn't run to code, which Python does run."
   ]
  },
  {
   "cell_type": "code",
   "execution_count": 4,
   "id": "0ae17b5b",
   "metadata": {
    "execution": {
     "iopub.execute_input": "2023-03-18T15:00:42.078241Z",
     "iopub.status.busy": "2023-03-18T15:00:42.077481Z",
     "iopub.status.idle": "2023-03-18T15:00:42.086510Z",
     "shell.execute_reply": "2023-03-18T15:00:42.085341Z"
    },
    "papermill": {
     "duration": 0.020979,
     "end_time": "2023-03-18T15:00:42.088911",
     "exception": false,
     "start_time": "2023-03-18T15:00:42.067932",
     "status": "completed"
    },
    "tags": []
   },
   "outputs": [
    {
     "data": {
      "application/javascript": [
       "parent.postMessage({\"jupyterEvent\": \"custom.exercise_interaction\", \"data\": {\"interactionType\": 2, \"questionType\": 2, \"questionId\": \"0_ExerciseFormatTutorial\", \"learnToolsVersion\": \"0.3.4\", \"valueTowardsCompletion\": 0.0, \"failureMessage\": \"\", \"exceptionClass\": \"\", \"trace\": \"\", \"outcomeType\": 4}}, \"*\")"
      ],
      "text/plain": [
       "<IPython.core.display.Javascript object>"
      ]
     },
     "metadata": {},
     "output_type": "display_data"
    },
    {
     "data": {
      "text/markdown": [
       "<span style=\"color:#3366cc\">Hint:</span> Your favorite color rhymes with *glue*."
      ],
      "text/plain": [
       "Hint: Your favorite color rhymes with *glue*."
      ]
     },
     "metadata": {},
     "output_type": "display_data"
    }
   ],
   "source": [
    "q0.hint()\n",
    "#q0.solution()"
   ]
  },
  {
   "cell_type": "markdown",
   "id": "8cab2be1",
   "metadata": {
    "papermill": {
     "duration": 0.006773,
     "end_time": "2023-03-18T15:00:42.102893",
     "exception": false,
     "start_time": "2023-03-18T15:00:42.096120",
     "status": "completed"
    },
    "tags": []
   },
   "source": [
    "The upcoming questions work the same way. The only thing that will change are the question numbers. For the next question, you'll call `q1.check()`, `q1.hint()`, `q1.solution()`, for question 2, you'll call `q2.check()`, and so on."
   ]
  },
  {
   "cell_type": "markdown",
   "id": "5ab5d0fe",
   "metadata": {
    "papermill": {
     "duration": 0.006895,
     "end_time": "2023-03-18T15:00:42.116808",
     "exception": false,
     "start_time": "2023-03-18T15:00:42.109913",
     "status": "completed"
    },
    "tags": []
   },
   "source": [
    "<hr/>\n",
    "\n",
    "# 1.\n",
    "\n",
    "Complete the code below. In case it's helpful, here is the table of available arithmetic operations:\n",
    "\n",
    "\n",
    "\n",
    "| Operator     | Name           | Description                                            |\n",
    "|--------------|----------------|--------------------------------------------------------|\n",
    "| ``a + b``    | Addition       | Sum of ``a`` and ``b``                                 |\n",
    "| ``a - b``    | Subtraction    | Difference of ``a`` and ``b``                          |\n",
    "| ``a * b``    | Multiplication | Product of ``a`` and ``b``                             |\n",
    "| ``a / b``    | True division  | Quotient of ``a`` and ``b``                            |\n",
    "| ``a // b``   | Floor division | Quotient of ``a`` and ``b``, removing fractional parts |\n",
    "| ``a % b``    | Modulus        | Integer remainder after division of ``a`` by ``b``     |\n",
    "| ``a ** b``   | Exponentiation | ``a`` raised to the power of ``b``                     |\n",
    "| ``-a``       | Negation       | The negative of ``a``                                  |\n",
    "\n",
    "<span style=\"display:none\"></span>\n"
   ]
  },
  {
   "cell_type": "code",
   "execution_count": 5,
   "id": "cdecca1c",
   "metadata": {
    "execution": {
     "iopub.execute_input": "2023-03-18T15:00:42.133171Z",
     "iopub.status.busy": "2023-03-18T15:00:42.132376Z",
     "iopub.status.idle": "2023-03-18T15:00:42.142618Z",
     "shell.execute_reply": "2023-03-18T15:00:42.141506Z"
    },
    "papermill": {
     "duration": 0.021075,
     "end_time": "2023-03-18T15:00:42.144923",
     "exception": false,
     "start_time": "2023-03-18T15:00:42.123848",
     "status": "completed"
    },
    "tags": []
   },
   "outputs": [
    {
     "data": {
      "application/javascript": [
       "parent.postMessage({\"jupyterEvent\": \"custom.exercise_interaction\", \"data\": {\"outcomeType\": 1, \"valueTowardsCompletion\": 0.25, \"interactionType\": 1, \"questionType\": 1, \"questionId\": \"1_CircleArea\", \"learnToolsVersion\": \"0.3.4\", \"failureMessage\": \"\", \"exceptionClass\": \"\", \"trace\": \"\"}}, \"*\")"
      ],
      "text/plain": [
       "<IPython.core.display.Javascript object>"
      ]
     },
     "metadata": {},
     "output_type": "display_data"
    },
    {
     "data": {
      "text/markdown": [
       "<span style=\"color:#33cc33\">Correct</span>"
      ],
      "text/plain": [
       "Correct"
      ]
     },
     "metadata": {},
     "output_type": "display_data"
    }
   ],
   "source": [
    "pi = 3.14159 # approximate\n",
    "diameter = 3\n",
    "\n",
    "# Create a variable called 'radius' equal to half the diameter\n",
    "____\n",
    "radius = diameter / 2\n",
    "# Create a variable called 'area', using the formula for the area of a circle: pi times the radius squared\n",
    "____\n",
    "area = pi * radius * radius\n",
    "# Check your answer\n",
    "q1.check()"
   ]
  },
  {
   "cell_type": "code",
   "execution_count": 6,
   "id": "b70f1be6",
   "metadata": {
    "execution": {
     "iopub.execute_input": "2023-03-18T15:00:42.162129Z",
     "iopub.status.busy": "2023-03-18T15:00:42.161342Z",
     "iopub.status.idle": "2023-03-18T15:00:42.166136Z",
     "shell.execute_reply": "2023-03-18T15:00:42.165009Z"
    },
    "papermill": {
     "duration": 0.015924,
     "end_time": "2023-03-18T15:00:42.168502",
     "exception": false,
     "start_time": "2023-03-18T15:00:42.152578",
     "status": "completed"
    },
    "tags": []
   },
   "outputs": [],
   "source": [
    "# Uncomment and run the lines below if you need help.\n",
    "#q1.hint()\n",
    "#q1.solution()"
   ]
  },
  {
   "cell_type": "markdown",
   "id": "bf76d7df",
   "metadata": {
    "papermill": {
     "duration": 0.007212,
     "end_time": "2023-03-18T15:00:42.183342",
     "exception": false,
     "start_time": "2023-03-18T15:00:42.176130",
     "status": "completed"
    },
    "tags": []
   },
   "source": [
    "<hr/>\n",
    "\n",
    "# 2.\n",
    "\n",
    "Add code to the following cell to swap variables `a` and `b` (so that `a` refers to the object previously referred to by `b` and vice versa)."
   ]
  },
  {
   "cell_type": "code",
   "execution_count": 7,
   "id": "1ab8171e",
   "metadata": {
    "execution": {
     "iopub.execute_input": "2023-03-18T15:00:42.200576Z",
     "iopub.status.busy": "2023-03-18T15:00:42.200137Z",
     "iopub.status.idle": "2023-03-18T15:00:42.210930Z",
     "shell.execute_reply": "2023-03-18T15:00:42.209637Z"
    },
    "papermill": {
     "duration": 0.022395,
     "end_time": "2023-03-18T15:00:42.213420",
     "exception": false,
     "start_time": "2023-03-18T15:00:42.191025",
     "status": "completed"
    },
    "tags": []
   },
   "outputs": [
    {
     "data": {
      "application/javascript": [
       "parent.postMessage({\"jupyterEvent\": \"custom.exercise_interaction\", \"data\": {\"outcomeType\": 1, \"valueTowardsCompletion\": 0.25, \"interactionType\": 1, \"questionType\": 2, \"questionId\": \"2_VariableSwap\", \"learnToolsVersion\": \"0.3.4\", \"failureMessage\": \"\", \"exceptionClass\": \"\", \"trace\": \"\"}}, \"*\")"
      ],
      "text/plain": [
       "<IPython.core.display.Javascript object>"
      ]
     },
     "metadata": {},
     "output_type": "display_data"
    },
    {
     "data": {
      "text/markdown": [
       "<span style=\"color:#33cc33\">Correct:</span> \n",
       "\n",
       "The most straightforward solution is to use a third variable to temporarily store one of the old values. e.g.:\n",
       "\n",
       "    tmp = a\n",
       "    a = b\n",
       "    b = tmp\n",
       "\n",
       "If you've read lots of Python code, you might have seen the following trick to swap two variables in one line:\n",
       "\n",
       "    a, b = b, a\n",
       "\n",
       "We'll demystify this bit of Python magic later when we talk about *tuples*."
      ],
      "text/plain": [
       "Correct: \n",
       "\n",
       "The most straightforward solution is to use a third variable to temporarily store one of the old values. e.g.:\n",
       "\n",
       "    tmp = a\n",
       "    a = b\n",
       "    b = tmp\n",
       "\n",
       "If you've read lots of Python code, you might have seen the following trick to swap two variables in one line:\n",
       "\n",
       "    a, b = b, a\n",
       "\n",
       "We'll demystify this bit of Python magic later when we talk about *tuples*."
      ]
     },
     "metadata": {},
     "output_type": "display_data"
    }
   ],
   "source": [
    "########### Setup code - don't touch this part ######################\n",
    "# If you're curious, these are examples of lists. We'll talk about \n",
    "# them in depth a few lessons from now. For now, just know that they're\n",
    "# yet another type of Python object, like int or float.\n",
    "a = [1, 2, 3]\n",
    "b = [3, 2, 1]\n",
    "q2.store_original_ids()\n",
    "######################################################################\n",
    "\n",
    "# Your code goes here. Swap the values to which a and b refer.\n",
    "# If you get stuck, you can always uncomment one or both of the lines in\n",
    "# the next cell for a hint, or to peek at the solution.\n",
    "c = a\n",
    "a = b\n",
    "b = c\n",
    "######################################################################\n",
    "\n",
    "# Check your answer\n",
    "q2.check()"
   ]
  },
  {
   "cell_type": "code",
   "execution_count": 8,
   "id": "6df9d9c8",
   "metadata": {
    "execution": {
     "iopub.execute_input": "2023-03-18T15:00:42.231331Z",
     "iopub.status.busy": "2023-03-18T15:00:42.230576Z",
     "iopub.status.idle": "2023-03-18T15:00:42.234887Z",
     "shell.execute_reply": "2023-03-18T15:00:42.234050Z"
    },
    "papermill": {
     "duration": 0.015633,
     "end_time": "2023-03-18T15:00:42.236924",
     "exception": false,
     "start_time": "2023-03-18T15:00:42.221291",
     "status": "completed"
    },
    "tags": []
   },
   "outputs": [],
   "source": [
    "#q2.hint()"
   ]
  },
  {
   "cell_type": "code",
   "execution_count": 9,
   "id": "16722f86",
   "metadata": {
    "execution": {
     "iopub.execute_input": "2023-03-18T15:00:42.254481Z",
     "iopub.status.busy": "2023-03-18T15:00:42.254071Z",
     "iopub.status.idle": "2023-03-18T15:00:42.258387Z",
     "shell.execute_reply": "2023-03-18T15:00:42.257148Z"
    },
    "papermill": {
     "duration": 0.016562,
     "end_time": "2023-03-18T15:00:42.261325",
     "exception": false,
     "start_time": "2023-03-18T15:00:42.244763",
     "status": "completed"
    },
    "tags": []
   },
   "outputs": [],
   "source": [
    "#q2.solution()"
   ]
  },
  {
   "cell_type": "markdown",
   "id": "7522af6a",
   "metadata": {
    "papermill": {
     "duration": 0.010364,
     "end_time": "2023-03-18T15:00:42.281267",
     "exception": false,
     "start_time": "2023-03-18T15:00:42.270903",
     "status": "completed"
    },
    "tags": []
   },
   "source": [
    "<hr/>\n",
    "\n",
    "# 3a.\n",
    "\n",
    "Add parentheses to the following expression so that it evaluates to 1."
   ]
  },
  {
   "cell_type": "code",
   "execution_count": 10,
   "id": "5f0f81c1",
   "metadata": {
    "execution": {
     "iopub.execute_input": "2023-03-18T15:00:42.301311Z",
     "iopub.status.busy": "2023-03-18T15:00:42.300540Z",
     "iopub.status.idle": "2023-03-18T15:00:42.306490Z",
     "shell.execute_reply": "2023-03-18T15:00:42.305686Z"
    },
    "papermill": {
     "duration": 0.019799,
     "end_time": "2023-03-18T15:00:42.309144",
     "exception": false,
     "start_time": "2023-03-18T15:00:42.289345",
     "status": "completed"
    },
    "tags": []
   },
   "outputs": [
    {
     "data": {
      "text/plain": [
       "1"
      ]
     },
     "execution_count": 10,
     "metadata": {},
     "output_type": "execute_result"
    }
   ],
   "source": [
    "(5 - 3) // 2"
   ]
  },
  {
   "cell_type": "code",
   "execution_count": 11,
   "id": "90ab9672",
   "metadata": {
    "execution": {
     "iopub.execute_input": "2023-03-18T15:00:42.332850Z",
     "iopub.status.busy": "2023-03-18T15:00:42.331857Z",
     "iopub.status.idle": "2023-03-18T15:00:42.336942Z",
     "shell.execute_reply": "2023-03-18T15:00:42.335852Z"
    },
    "papermill": {
     "duration": 0.018069,
     "end_time": "2023-03-18T15:00:42.339408",
     "exception": false,
     "start_time": "2023-03-18T15:00:42.321339",
     "status": "completed"
    },
    "tags": []
   },
   "outputs": [],
   "source": [
    "#q3.a.hint()"
   ]
  },
  {
   "cell_type": "code",
   "execution_count": 12,
   "id": "7226ad89",
   "metadata": {
    "execution": {
     "iopub.execute_input": "2023-03-18T15:00:42.361358Z",
     "iopub.status.busy": "2023-03-18T15:00:42.360592Z",
     "iopub.status.idle": "2023-03-18T15:00:42.368469Z",
     "shell.execute_reply": "2023-03-18T15:00:42.367668Z"
    },
    "papermill": {
     "duration": 0.019795,
     "end_time": "2023-03-18T15:00:42.370547",
     "exception": false,
     "start_time": "2023-03-18T15:00:42.350752",
     "status": "completed"
    },
    "tags": []
   },
   "outputs": [
    {
     "data": {
      "application/javascript": [
       "parent.postMessage({\"jupyterEvent\": \"custom.exercise_interaction\", \"data\": {\"interactionType\": 3, \"questionType\": 4, \"questionId\": \"3.1_ArithmeticParensEasy\", \"learnToolsVersion\": \"0.3.4\", \"valueTowardsCompletion\": 0.0, \"failureMessage\": \"\", \"exceptionClass\": \"\", \"trace\": \"\", \"outcomeType\": 4}}, \"*\")"
      ],
      "text/plain": [
       "<IPython.core.display.Javascript object>"
      ]
     },
     "metadata": {},
     "output_type": "display_data"
    },
    {
     "data": {
      "text/markdown": [
       "<span style=\"color:#33cc99\">Solution:</span> \n",
       "```python\n",
       "(5 - 3) // 2\n",
       "```"
      ],
      "text/plain": [
       "Solution: \n",
       "```python\n",
       "(5 - 3) // 2\n",
       "```"
      ]
     },
     "metadata": {},
     "output_type": "display_data"
    }
   ],
   "source": [
    "# Check your answer (Run this code cell to receive credit!)\n",
    "q3.a.solution()"
   ]
  },
  {
   "cell_type": "markdown",
   "id": "bdbdd307",
   "metadata": {
    "papermill": {
     "duration": 0.008117,
     "end_time": "2023-03-18T15:00:42.387199",
     "exception": false,
     "start_time": "2023-03-18T15:00:42.379082",
     "status": "completed"
    },
    "tags": []
   },
   "source": [
    "# 3b.  <span title=\"A bit spicy\" style=\"color: darkgreen \">🌶️</span>\n",
    "\n",
    "<small>Questions, like this one, marked a spicy pepper are a bit harder.</small>\n",
    "\n",
    "Add parentheses to the following expression so that it evaluates to 0."
   ]
  },
  {
   "cell_type": "code",
   "execution_count": 13,
   "id": "14729075",
   "metadata": {
    "execution": {
     "iopub.execute_input": "2023-03-18T15:00:42.405538Z",
     "iopub.status.busy": "2023-03-18T15:00:42.405075Z",
     "iopub.status.idle": "2023-03-18T15:00:42.411834Z",
     "shell.execute_reply": "2023-03-18T15:00:42.410981Z"
    },
    "papermill": {
     "duration": 0.018636,
     "end_time": "2023-03-18T15:00:42.414155",
     "exception": false,
     "start_time": "2023-03-18T15:00:42.395519",
     "status": "completed"
    },
    "tags": []
   },
   "outputs": [
    {
     "data": {
      "text/plain": [
       "0"
      ]
     },
     "execution_count": 13,
     "metadata": {},
     "output_type": "execute_result"
    }
   ],
   "source": [
    "8 - 3 * 2 - (1 + 1)"
   ]
  },
  {
   "cell_type": "code",
   "execution_count": 14,
   "id": "ec1f017c",
   "metadata": {
    "execution": {
     "iopub.execute_input": "2023-03-18T15:00:42.433093Z",
     "iopub.status.busy": "2023-03-18T15:00:42.432019Z",
     "iopub.status.idle": "2023-03-18T15:00:42.437825Z",
     "shell.execute_reply": "2023-03-18T15:00:42.436376Z"
    },
    "papermill": {
     "duration": 0.017783,
     "end_time": "2023-03-18T15:00:42.440202",
     "exception": false,
     "start_time": "2023-03-18T15:00:42.422419",
     "status": "completed"
    },
    "tags": []
   },
   "outputs": [],
   "source": [
    "#q3.b.hint()"
   ]
  },
  {
   "cell_type": "code",
   "execution_count": 15,
   "id": "4f9d6983",
   "metadata": {
    "execution": {
     "iopub.execute_input": "2023-03-18T15:00:42.459382Z",
     "iopub.status.busy": "2023-03-18T15:00:42.458959Z",
     "iopub.status.idle": "2023-03-18T15:00:42.469863Z",
     "shell.execute_reply": "2023-03-18T15:00:42.468738Z"
    },
    "papermill": {
     "duration": 0.023697,
     "end_time": "2023-03-18T15:00:42.472642",
     "exception": false,
     "start_time": "2023-03-18T15:00:42.448945",
     "status": "completed"
    },
    "tags": []
   },
   "outputs": [
    {
     "data": {
      "application/javascript": [
       "parent.postMessage({\"jupyterEvent\": \"custom.exercise_interaction\", \"data\": {\"interactionType\": 3, \"questionType\": 4, \"questionId\": \"3.2_ArithmeticParensHard\", \"learnToolsVersion\": \"0.3.4\", \"valueTowardsCompletion\": 0.0, \"failureMessage\": \"\", \"exceptionClass\": \"\", \"trace\": \"\", \"outcomeType\": 4}}, \"*\")"
      ],
      "text/plain": [
       "<IPython.core.display.Javascript object>"
      ]
     },
     "metadata": {},
     "output_type": "display_data"
    },
    {
     "data": {
      "text/markdown": [
       "<span style=\"color:#33cc99\">Solution:</span> `(8 - 3) * (2 - (1 + 1))` is one solution. There may be others."
      ],
      "text/plain": [
       "Solution: `(8 - 3) * (2 - (1 + 1))` is one solution. There may be others."
      ]
     },
     "metadata": {},
     "output_type": "display_data"
    }
   ],
   "source": [
    "# Check your answer (Run this code cell to receive credit!)\n",
    "q3.b.solution()"
   ]
  },
  {
   "cell_type": "markdown",
   "id": "4cda7b30",
   "metadata": {
    "papermill": {
     "duration": 0.008532,
     "end_time": "2023-03-18T15:00:42.490261",
     "exception": false,
     "start_time": "2023-03-18T15:00:42.481729",
     "status": "completed"
    },
    "tags": []
   },
   "source": [
    "<hr/>\n",
    "\n",
    "# 4. \n",
    "Alice, Bob and Carol have agreed to pool their Halloween candy and split it evenly among themselves.\n",
    "For the sake of their friendship, any candies left over will be smashed. For example, if they collectively\n",
    "bring home 91 candies, they'll take 30 each and smash 1.\n",
    "\n",
    "Write an arithmetic expression below to calculate how many candies they must smash for a given haul."
   ]
  },
  {
   "cell_type": "code",
   "execution_count": 16,
   "id": "0c1ea132",
   "metadata": {
    "execution": {
     "iopub.execute_input": "2023-03-18T15:00:42.510280Z",
     "iopub.status.busy": "2023-03-18T15:00:42.509009Z",
     "iopub.status.idle": "2023-03-18T15:00:42.519600Z",
     "shell.execute_reply": "2023-03-18T15:00:42.518452Z"
    },
    "papermill": {
     "duration": 0.023284,
     "end_time": "2023-03-18T15:00:42.522209",
     "exception": false,
     "start_time": "2023-03-18T15:00:42.498925",
     "status": "completed"
    },
    "tags": []
   },
   "outputs": [
    {
     "data": {
      "application/javascript": [
       "parent.postMessage({\"jupyterEvent\": \"custom.exercise_interaction\", \"data\": {\"outcomeType\": 1, \"valueTowardsCompletion\": 0.25, \"interactionType\": 1, \"questionType\": 1, \"questionId\": \"4_CandySplitting\", \"learnToolsVersion\": \"0.3.4\", \"failureMessage\": \"\", \"exceptionClass\": \"\", \"trace\": \"\"}}, \"*\")"
      ],
      "text/plain": [
       "<IPython.core.display.Javascript object>"
      ]
     },
     "metadata": {},
     "output_type": "display_data"
    },
    {
     "data": {
      "text/markdown": [
       "<span style=\"color:#33cc33\">Correct</span>"
      ],
      "text/plain": [
       "Correct"
      ]
     },
     "metadata": {},
     "output_type": "display_data"
    }
   ],
   "source": [
    "# Variables representing the number of candies collected by alice, bob, and carol\n",
    "alice_candies = 121\n",
    "bob_candies = 77\n",
    "carol_candies = 109\n",
    "\n",
    "# Your code goes here! Replace the right-hand side of this assignment with an expression\n",
    "# involving alice_candies, bob_candies, and carol_candies\n",
    "to_smash = (alice_candies + bob_candies + carol_candies) % 3\n",
    "\n",
    "# Check your answer\n",
    "q4.check()"
   ]
  },
  {
   "cell_type": "code",
   "execution_count": 17,
   "id": "2da44242",
   "metadata": {
    "execution": {
     "iopub.execute_input": "2023-03-18T15:00:42.542380Z",
     "iopub.status.busy": "2023-03-18T15:00:42.541360Z",
     "iopub.status.idle": "2023-03-18T15:00:42.546270Z",
     "shell.execute_reply": "2023-03-18T15:00:42.545161Z"
    },
    "papermill": {
     "duration": 0.017791,
     "end_time": "2023-03-18T15:00:42.548819",
     "exception": false,
     "start_time": "2023-03-18T15:00:42.531028",
     "status": "completed"
    },
    "tags": []
   },
   "outputs": [],
   "source": [
    "#q4.hint()\n",
    "#q4.solution()"
   ]
  },
  {
   "cell_type": "markdown",
   "id": "2be2d9cd",
   "metadata": {
    "papermill": {
     "duration": 0.008489,
     "end_time": "2023-03-18T15:00:42.566308",
     "exception": false,
     "start_time": "2023-03-18T15:00:42.557819",
     "status": "completed"
    },
    "tags": []
   },
   "source": [
    "# Keep Going\n",
    "\n",
    "Next up, you'll **[learn to write new functions and understand functions others write](https://www.kaggle.com/colinmorris/functions-and-getting-help)**. This will make you at least 10 times more productive as a Python programmer. "
   ]
  },
  {
   "cell_type": "markdown",
   "id": "a3ccf0b8",
   "metadata": {
    "papermill": {
     "duration": 0.008463,
     "end_time": "2023-03-18T15:00:42.583699",
     "exception": false,
     "start_time": "2023-03-18T15:00:42.575236",
     "status": "completed"
    },
    "tags": []
   },
   "source": [
    "---\n",
    "\n",
    "\n",
    "\n",
    "\n",
    "*Have questions or comments? Visit the [course discussion forum](https://www.kaggle.com/learn/python/discussion) to chat with other learners.*"
   ]
  }
 ],
 "metadata": {
  "kernelspec": {
   "display_name": "Python 3",
   "language": "python",
   "name": "python3"
  },
  "language_info": {
   "codemirror_mode": {
    "name": "ipython",
    "version": 3
   },
   "file_extension": ".py",
   "mimetype": "text/x-python",
   "name": "python",
   "nbconvert_exporter": "python",
   "pygments_lexer": "ipython3",
   "version": "3.7.12"
  },
  "papermill": {
   "default_parameters": {},
   "duration": 10.665873,
   "end_time": "2023-03-18T15:00:42.812825",
   "environment_variables": {},
   "exception": null,
   "input_path": "__notebook__.ipynb",
   "output_path": "__notebook__.ipynb",
   "parameters": {},
   "start_time": "2023-03-18T15:00:32.146952",
   "version": "2.4.0"
  }
 },
 "nbformat": 4,
 "nbformat_minor": 5
}
