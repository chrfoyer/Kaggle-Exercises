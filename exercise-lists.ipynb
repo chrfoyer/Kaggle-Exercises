{
 "cells": [
  {
   "cell_type": "markdown",
   "id": "9c342f69",
   "metadata": {
    "papermill": {
     "duration": 0.008653,
     "end_time": "2023-03-18T15:00:01.690655",
     "exception": false,
     "start_time": "2023-03-18T15:00:01.682002",
     "status": "completed"
    },
    "tags": []
   },
   "source": [
    "**This notebook is an exercise in the [Python](https://www.kaggle.com/learn/python) course.  You can reference the tutorial at [this link](https://www.kaggle.com/colinmorris/lists).**\n",
    "\n",
    "---\n"
   ]
  },
  {
   "cell_type": "markdown",
   "id": "0cdb70e7",
   "metadata": {
    "papermill": {
     "duration": 0.006721,
     "end_time": "2023-03-18T15:00:01.705807",
     "exception": false,
     "start_time": "2023-03-18T15:00:01.699086",
     "status": "completed"
    },
    "tags": []
   },
   "source": [
    "Things get more interesting with lists. You'll apply your new knowledge to solve the questions below. Remember to run the following cell first."
   ]
  },
  {
   "cell_type": "code",
   "execution_count": 1,
   "id": "6ef8cfbe",
   "metadata": {
    "execution": {
     "iopub.execute_input": "2023-03-18T15:00:01.717711Z",
     "iopub.status.busy": "2023-03-18T15:00:01.717231Z",
     "iopub.status.idle": "2023-03-18T15:00:01.760690Z",
     "shell.execute_reply": "2023-03-18T15:00:01.759114Z"
    },
    "papermill": {
     "duration": 0.053915,
     "end_time": "2023-03-18T15:00:01.764676",
     "exception": false,
     "start_time": "2023-03-18T15:00:01.710761",
     "status": "completed"
    },
    "tags": []
   },
   "outputs": [
    {
     "name": "stdout",
     "output_type": "stream",
     "text": [
      "Setup complete.\n"
     ]
    }
   ],
   "source": [
    "from learntools.core import binder; binder.bind(globals())\n",
    "from learntools.python.ex4 import *\n",
    "print('Setup complete.')"
   ]
  },
  {
   "cell_type": "markdown",
   "id": "70758833",
   "metadata": {
    "papermill": {
     "duration": 0.004841,
     "end_time": "2023-03-18T15:00:01.775206",
     "exception": false,
     "start_time": "2023-03-18T15:00:01.770365",
     "status": "completed"
    },
    "tags": []
   },
   "source": [
    "# 1.\n",
    "\n",
    "Complete the function below according to its docstring."
   ]
  },
  {
   "cell_type": "code",
   "execution_count": 2,
   "id": "0bba5a37",
   "metadata": {
    "execution": {
     "iopub.execute_input": "2023-03-18T15:00:01.787478Z",
     "iopub.status.busy": "2023-03-18T15:00:01.786636Z",
     "iopub.status.idle": "2023-03-18T15:00:01.798083Z",
     "shell.execute_reply": "2023-03-18T15:00:01.797236Z"
    },
    "papermill": {
     "duration": 0.019961,
     "end_time": "2023-03-18T15:00:01.800163",
     "exception": false,
     "start_time": "2023-03-18T15:00:01.780202",
     "status": "completed"
    },
    "tags": []
   },
   "outputs": [
    {
     "data": {
      "application/javascript": [
       "parent.postMessage({\"jupyterEvent\": \"custom.exercise_interaction\", \"data\": {\"outcomeType\": 1, \"valueTowardsCompletion\": 0.2, \"interactionType\": 1, \"questionType\": 2, \"questionId\": \"1_SelectSecondItem\", \"learnToolsVersion\": \"0.3.4\", \"failureMessage\": \"\", \"exceptionClass\": \"\", \"trace\": \"\"}}, \"*\")"
      ],
      "text/plain": [
       "<IPython.core.display.Javascript object>"
      ]
     },
     "metadata": {},
     "output_type": "display_data"
    },
    {
     "data": {
      "text/markdown": [
       "<span style=\"color:#33cc33\">Correct</span>"
      ],
      "text/plain": [
       "Correct"
      ]
     },
     "metadata": {},
     "output_type": "display_data"
    }
   ],
   "source": [
    "def select_second(L):\n",
    "    \"\"\"Return the second element of the given list. If the list has no second\n",
    "    element, return None.\n",
    "    \"\"\"\n",
    "    if len(L) > 1:\n",
    "        return L[1];\n",
    "    else:\n",
    "        return None;\n",
    "\n",
    "# Check your answer\n",
    "q1.check()"
   ]
  },
  {
   "cell_type": "code",
   "execution_count": 3,
   "id": "346df0fe",
   "metadata": {
    "execution": {
     "iopub.execute_input": "2023-03-18T15:00:01.812800Z",
     "iopub.status.busy": "2023-03-18T15:00:01.812389Z",
     "iopub.status.idle": "2023-03-18T15:00:01.817464Z",
     "shell.execute_reply": "2023-03-18T15:00:01.816152Z"
    },
    "papermill": {
     "duration": 0.014106,
     "end_time": "2023-03-18T15:00:01.819784",
     "exception": false,
     "start_time": "2023-03-18T15:00:01.805678",
     "status": "completed"
    },
    "tags": []
   },
   "outputs": [],
   "source": [
    "#q1.hint()\n",
    "#q1.solution()"
   ]
  },
  {
   "cell_type": "markdown",
   "id": "46347776",
   "metadata": {
    "papermill": {
     "duration": 0.004918,
     "end_time": "2023-03-18T15:00:01.830062",
     "exception": false,
     "start_time": "2023-03-18T15:00:01.825144",
     "status": "completed"
    },
    "tags": []
   },
   "source": [
    "# 2.\n",
    "\n",
    "You are analyzing sports teams.  Members of each team are stored in a list. The Coach is the first name in the list, the captain is the second name in the list, and other players are listed after that. \n",
    "These lists are stored in another list, which starts with the best team and proceeds through the list to the worst team last.  Complete the function below to select the **captain** of the worst team."
   ]
  },
  {
   "cell_type": "code",
   "execution_count": 4,
   "id": "f7079e2f",
   "metadata": {
    "execution": {
     "iopub.execute_input": "2023-03-18T15:00:01.842525Z",
     "iopub.status.busy": "2023-03-18T15:00:01.842056Z",
     "iopub.status.idle": "2023-03-18T15:00:01.851056Z",
     "shell.execute_reply": "2023-03-18T15:00:01.849787Z"
    },
    "papermill": {
     "duration": 0.018184,
     "end_time": "2023-03-18T15:00:01.853508",
     "exception": false,
     "start_time": "2023-03-18T15:00:01.835324",
     "status": "completed"
    },
    "tags": []
   },
   "outputs": [
    {
     "data": {
      "application/javascript": [
       "parent.postMessage({\"jupyterEvent\": \"custom.exercise_interaction\", \"data\": {\"outcomeType\": 1, \"valueTowardsCompletion\": 0.2, \"interactionType\": 1, \"questionType\": 2, \"questionId\": \"2_LosingTeamCaptain\", \"learnToolsVersion\": \"0.3.4\", \"failureMessage\": \"\", \"exceptionClass\": \"\", \"trace\": \"\"}}, \"*\")"
      ],
      "text/plain": [
       "<IPython.core.display.Javascript object>"
      ]
     },
     "metadata": {},
     "output_type": "display_data"
    },
    {
     "data": {
      "text/markdown": [
       "<span style=\"color:#33cc33\">Correct</span>"
      ],
      "text/plain": [
       "Correct"
      ]
     },
     "metadata": {},
     "output_type": "display_data"
    }
   ],
   "source": [
    "def losing_team_captain(teams):\n",
    "    \"\"\"Given a list of teams, where each team is a list of names, return the 2nd player (captain)\n",
    "    from the last listed team\n",
    "    \"\"\"\n",
    "    return teams[-1][1];\n",
    "\n",
    "# Check your answer\n",
    "q2.check()"
   ]
  },
  {
   "cell_type": "code",
   "execution_count": 5,
   "id": "7dd80517",
   "metadata": {
    "collapsed": true,
    "execution": {
     "iopub.execute_input": "2023-03-18T15:00:01.867097Z",
     "iopub.status.busy": "2023-03-18T15:00:01.865894Z",
     "iopub.status.idle": "2023-03-18T15:00:01.870521Z",
     "shell.execute_reply": "2023-03-18T15:00:01.869595Z"
    },
    "jupyter": {
     "outputs_hidden": true
    },
    "papermill": {
     "duration": 0.014018,
     "end_time": "2023-03-18T15:00:01.873063",
     "exception": false,
     "start_time": "2023-03-18T15:00:01.859045",
     "status": "completed"
    },
    "tags": []
   },
   "outputs": [],
   "source": [
    "#q2.hint()\n",
    "#q2.solution()"
   ]
  },
  {
   "cell_type": "markdown",
   "id": "213e5e01",
   "metadata": {
    "papermill": {
     "duration": 0.005273,
     "end_time": "2023-03-18T15:00:01.884251",
     "exception": false,
     "start_time": "2023-03-18T15:00:01.878978",
     "status": "completed"
    },
    "tags": []
   },
   "source": [
    "# 3.\n",
    "\n",
    "The next iteration of Mario Kart will feature an extra-infuriating new item, the *Purple Shell*. When used, it warps the last place racer into first place and the first place racer into last place. Complete the function below to implement the Purple Shell's effect."
   ]
  },
  {
   "cell_type": "code",
   "execution_count": 6,
   "id": "288eef11",
   "metadata": {
    "execution": {
     "iopub.execute_input": "2023-03-18T15:00:01.897564Z",
     "iopub.status.busy": "2023-03-18T15:00:01.896672Z",
     "iopub.status.idle": "2023-03-18T15:00:01.907975Z",
     "shell.execute_reply": "2023-03-18T15:00:01.906886Z"
    },
    "papermill": {
     "duration": 0.020789,
     "end_time": "2023-03-18T15:00:01.910552",
     "exception": false,
     "start_time": "2023-03-18T15:00:01.889763",
     "status": "completed"
    },
    "tags": []
   },
   "outputs": [
    {
     "data": {
      "application/javascript": [
       "parent.postMessage({\"jupyterEvent\": \"custom.exercise_interaction\", \"data\": {\"outcomeType\": 1, \"valueTowardsCompletion\": 0.2, \"interactionType\": 1, \"questionType\": 2, \"questionId\": \"3_PurpleShell\", \"learnToolsVersion\": \"0.3.4\", \"failureMessage\": \"\", \"exceptionClass\": \"\", \"trace\": \"\"}}, \"*\")"
      ],
      "text/plain": [
       "<IPython.core.display.Javascript object>"
      ]
     },
     "metadata": {},
     "output_type": "display_data"
    },
    {
     "data": {
      "text/markdown": [
       "<span style=\"color:#33cc33\">Correct</span>"
      ],
      "text/plain": [
       "Correct"
      ]
     },
     "metadata": {},
     "output_type": "display_data"
    }
   ],
   "source": [
    "def purple_shell(racers):\n",
    "    \"\"\"Given a list of racers, set the first place racer (at the front of the list) to last\n",
    "    place and vice versa.\n",
    "    \n",
    "    >>> r = [\"Mario\", \"Bowser\", \"Luigi\"]\n",
    "    >>> purple_shell(r)\n",
    "    >>> r\n",
    "    [\"Luigi\", \"Bowser\", \"Mario\"]\n",
    "    \"\"\"\n",
    "    racers[0], racers[-1] = racers[-1], racers[0];\n",
    "\n",
    "# Check your answer\n",
    "q3.check()"
   ]
  },
  {
   "cell_type": "code",
   "execution_count": 7,
   "id": "24938dfe",
   "metadata": {
    "collapsed": true,
    "execution": {
     "iopub.execute_input": "2023-03-18T15:00:01.923828Z",
     "iopub.status.busy": "2023-03-18T15:00:01.923442Z",
     "iopub.status.idle": "2023-03-18T15:00:01.927837Z",
     "shell.execute_reply": "2023-03-18T15:00:01.926678Z"
    },
    "jupyter": {
     "outputs_hidden": true
    },
    "papermill": {
     "duration": 0.013981,
     "end_time": "2023-03-18T15:00:01.930210",
     "exception": false,
     "start_time": "2023-03-18T15:00:01.916229",
     "status": "completed"
    },
    "tags": []
   },
   "outputs": [],
   "source": [
    "#q3.hint()\n",
    "#q3.solution()"
   ]
  },
  {
   "cell_type": "markdown",
   "id": "91a0b9e3",
   "metadata": {
    "papermill": {
     "duration": 0.00657,
     "end_time": "2023-03-18T15:00:01.942631",
     "exception": false,
     "start_time": "2023-03-18T15:00:01.936061",
     "status": "completed"
    },
    "tags": []
   },
   "source": [
    "# 4.\n",
    "\n",
    "What are the lengths of the following lists? Fill in the variable `lengths` with your predictions. (Try to make a prediction for each list *without* just calling `len()` on it.)"
   ]
  },
  {
   "cell_type": "code",
   "execution_count": 8,
   "id": "6b15a411",
   "metadata": {
    "execution": {
     "iopub.execute_input": "2023-03-18T15:00:01.955938Z",
     "iopub.status.busy": "2023-03-18T15:00:01.955557Z",
     "iopub.status.idle": "2023-03-18T15:00:01.965466Z",
     "shell.execute_reply": "2023-03-18T15:00:01.964288Z"
    },
    "papermill": {
     "duration": 0.019406,
     "end_time": "2023-03-18T15:00:01.967687",
     "exception": false,
     "start_time": "2023-03-18T15:00:01.948281",
     "status": "completed"
    },
    "tags": []
   },
   "outputs": [
    {
     "data": {
      "application/javascript": [
       "parent.postMessage({\"jupyterEvent\": \"custom.exercise_interaction\", \"data\": {\"outcomeType\": 1, \"valueTowardsCompletion\": 0.2, \"interactionType\": 1, \"questionType\": 1, \"questionId\": \"4_UnderstandLen\", \"learnToolsVersion\": \"0.3.4\", \"failureMessage\": \"\", \"exceptionClass\": \"\", \"trace\": \"\"}}, \"*\")"
      ],
      "text/plain": [
       "<IPython.core.display.Javascript object>"
      ]
     },
     "metadata": {},
     "output_type": "display_data"
    },
    {
     "data": {
      "text/markdown": [
       "<span style=\"color:#33cc33\">Correct:</span> \n",
       "\n",
       "\n",
       "- a: There are three items in this list. Nothing tricky yet.\n",
       "- b: The list `[2, 3]` counts as a single item. It has one item before it. So we have 2 items in the list\n",
       "- c: The empty list has 0 items\n",
       "- d: The expression is the same as the list `[2, 3]`, which has length 2."
      ],
      "text/plain": [
       "Correct: \n",
       "\n",
       "\n",
       "- a: There are three items in this list. Nothing tricky yet.\n",
       "- b: The list `[2, 3]` counts as a single item. It has one item before it. So we have 2 items in the list\n",
       "- c: The empty list has 0 items\n",
       "- d: The expression is the same as the list `[2, 3]`, which has length 2."
      ]
     },
     "metadata": {},
     "output_type": "display_data"
    }
   ],
   "source": [
    "a = [1, 2, 3]\n",
    "b = [1, [2, 3]]\n",
    "c = []\n",
    "d = [1, 2, 3][1:]\n",
    "\n",
    "# Put your predictions in the list below. Lengths should contain 4 numbers, the\n",
    "# first being the length of a, the second being the length of b and so on.\n",
    "lengths = [3, 2, 0, 2]\n",
    "\n",
    "# Check your answer\n",
    "q4.check()"
   ]
  },
  {
   "cell_type": "code",
   "execution_count": 9,
   "id": "4c74b7e6",
   "metadata": {
    "collapsed": true,
    "execution": {
     "iopub.execute_input": "2023-03-18T15:00:01.981507Z",
     "iopub.status.busy": "2023-03-18T15:00:01.981047Z",
     "iopub.status.idle": "2023-03-18T15:00:01.986258Z",
     "shell.execute_reply": "2023-03-18T15:00:01.985014Z"
    },
    "jupyter": {
     "outputs_hidden": true
    },
    "papermill": {
     "duration": 0.014902,
     "end_time": "2023-03-18T15:00:01.988639",
     "exception": false,
     "start_time": "2023-03-18T15:00:01.973737",
     "status": "completed"
    },
    "tags": []
   },
   "outputs": [],
   "source": [
    "# line below provides some explanation\n",
    "#q4.solution()"
   ]
  },
  {
   "cell_type": "markdown",
   "id": "b7bd3dff",
   "metadata": {
    "papermill": {
     "duration": 0.005802,
     "end_time": "2023-03-18T15:00:02.001298",
     "exception": false,
     "start_time": "2023-03-18T15:00:01.995496",
     "status": "completed"
    },
    "tags": []
   },
   "source": [
    "# 5. <span title=\"A bit spicy\" style=\"color: darkgreen \">🌶️</span>\n",
    "\n",
    "We're using lists to record people who attended our party and what order they arrived in. For example, the following list represents a party with 7 guests, in which Adela showed up first and Ford was the last to arrive:\n",
    "\n",
    "    party_attendees = ['Adela', 'Fleda', 'Owen', 'May', 'Mona', 'Gilbert', 'Ford']\n",
    "\n",
    "A guest is considered 'fashionably late' if they arrived after at least half of the party's guests. However, they must not be the very last guest (that's taking it too far). In the above example, Mona and Gilbert are the only guests who were fashionably late.\n",
    "\n",
    "Complete the function below which takes a list of party attendees as well as a person, and tells us whether that person is fashionably late."
   ]
  },
  {
   "cell_type": "code",
   "execution_count": 10,
   "id": "1b56d008",
   "metadata": {
    "execution": {
     "iopub.execute_input": "2023-03-18T15:00:02.017851Z",
     "iopub.status.busy": "2023-03-18T15:00:02.016509Z",
     "iopub.status.idle": "2023-03-18T15:00:02.030815Z",
     "shell.execute_reply": "2023-03-18T15:00:02.029535Z"
    },
    "papermill": {
     "duration": 0.026115,
     "end_time": "2023-03-18T15:00:02.033555",
     "exception": false,
     "start_time": "2023-03-18T15:00:02.007440",
     "status": "completed"
    },
    "tags": []
   },
   "outputs": [
    {
     "data": {
      "application/javascript": [
       "parent.postMessage({\"jupyterEvent\": \"custom.exercise_interaction\", \"data\": {\"outcomeType\": 1, \"valueTowardsCompletion\": 0.2, \"interactionType\": 1, \"questionType\": 2, \"questionId\": \"5_FashionablyLate\", \"learnToolsVersion\": \"0.3.4\", \"failureMessage\": \"\", \"exceptionClass\": \"\", \"trace\": \"\"}}, \"*\")"
      ],
      "text/plain": [
       "<IPython.core.display.Javascript object>"
      ]
     },
     "metadata": {},
     "output_type": "display_data"
    },
    {
     "data": {
      "text/markdown": [
       "<span style=\"color:#33cc33\">Correct</span>"
      ],
      "text/plain": [
       "Correct"
      ]
     },
     "metadata": {},
     "output_type": "display_data"
    }
   ],
   "source": [
    "def fashionably_late(arrivals, name):\n",
    "    \"\"\"Given an ordered list of arrivals to the party and a name, return whether the guest with that\n",
    "    name was fashionably late.\n",
    "    \"\"\"\n",
    "    return ((arrivals.index(name) != len(arrivals) - 1)and(arrivals.index(name) >= len(arrivals)/2 ))\n",
    "\n",
    "# Check your answer\n",
    "q5.check()"
   ]
  },
  {
   "cell_type": "code",
   "execution_count": 11,
   "id": "d4b38372",
   "metadata": {
    "collapsed": true,
    "execution": {
     "iopub.execute_input": "2023-03-18T15:00:02.054698Z",
     "iopub.status.busy": "2023-03-18T15:00:02.053490Z",
     "iopub.status.idle": "2023-03-18T15:00:02.059242Z",
     "shell.execute_reply": "2023-03-18T15:00:02.057947Z"
    },
    "jupyter": {
     "outputs_hidden": true
    },
    "papermill": {
     "duration": 0.020945,
     "end_time": "2023-03-18T15:00:02.061910",
     "exception": false,
     "start_time": "2023-03-18T15:00:02.040965",
     "status": "completed"
    },
    "tags": []
   },
   "outputs": [],
   "source": [
    "#q5.hint()\n",
    "#q5.solution()"
   ]
  },
  {
   "cell_type": "markdown",
   "id": "2547734c",
   "metadata": {
    "papermill": {
     "duration": 0.00623,
     "end_time": "2023-03-18T15:00:02.074822",
     "exception": false,
     "start_time": "2023-03-18T15:00:02.068592",
     "status": "completed"
    },
    "tags": []
   },
   "source": [
    "# Keep Going\n",
    "\n",
    "That's it for lists and tuples! Now you have the baseline knowledge to **[learn about loops](https://www.kaggle.com/colinmorris/loops-and-list-comprehensions)**, which is where lists and tuples get really interesting. "
   ]
  },
  {
   "cell_type": "markdown",
   "id": "e31a07c5",
   "metadata": {
    "papermill": {
     "duration": 0.006122,
     "end_time": "2023-03-18T15:00:02.087462",
     "exception": false,
     "start_time": "2023-03-18T15:00:02.081340",
     "status": "completed"
    },
    "tags": []
   },
   "source": [
    "---\n",
    "\n",
    "\n",
    "\n",
    "\n",
    "*Have questions or comments? Visit the [course discussion forum](https://www.kaggle.com/learn/python/discussion) to chat with other learners.*"
   ]
  }
 ],
 "metadata": {
  "kernelspec": {
   "display_name": "Python 3",
   "language": "python",
   "name": "python3"
  },
  "language_info": {
   "codemirror_mode": {
    "name": "ipython",
    "version": 3
   },
   "file_extension": ".py",
   "mimetype": "text/x-python",
   "name": "python",
   "nbconvert_exporter": "python",
   "pygments_lexer": "ipython3",
   "version": "3.7.12"
  },
  "papermill": {
   "default_parameters": {},
   "duration": 10.91359,
   "end_time": "2023-03-18T15:00:02.821734",
   "environment_variables": {},
   "exception": null,
   "input_path": "__notebook__.ipynb",
   "output_path": "__notebook__.ipynb",
   "parameters": {},
   "start_time": "2023-03-18T14:59:51.908144",
   "version": "2.4.0"
  }
 },
 "nbformat": 4,
 "nbformat_minor": 5
}
