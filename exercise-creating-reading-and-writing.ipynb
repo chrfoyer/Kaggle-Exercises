{
 "cells": [
  {
   "cell_type": "markdown",
   "id": "adfd2d69",
   "metadata": {
    "papermill": {
     "duration": 0.006733,
     "end_time": "2023-03-20T23:32:40.086834",
     "exception": false,
     "start_time": "2023-03-20T23:32:40.080101",
     "status": "completed"
    },
    "tags": []
   },
   "source": [
    "**This notebook is an exercise in the [Pandas](https://www.kaggle.com/learn/pandas) course.  You can reference the tutorial at [this link](https://www.kaggle.com/residentmario/creating-reading-and-writing).**\n",
    "\n",
    "---\n"
   ]
  },
  {
   "cell_type": "markdown",
   "id": "6e1e65f3",
   "metadata": {
    "papermill": {
     "duration": 0.00503,
     "end_time": "2023-03-20T23:32:40.097353",
     "exception": false,
     "start_time": "2023-03-20T23:32:40.092323",
     "status": "completed"
    },
    "tags": []
   },
   "source": [
    "# Introduction\n",
    "\n",
    "The first step in most data analytics projects is reading the data file. In this exercise, you'll create Series and DataFrame objects, both by hand and by reading data files.\n",
    "\n",
    "Run the code cell below to load libraries you will need (including code to check your answers)."
   ]
  },
  {
   "cell_type": "code",
   "execution_count": 1,
   "id": "5968cd04",
   "metadata": {
    "execution": {
     "iopub.execute_input": "2023-03-20T23:32:40.110840Z",
     "iopub.status.busy": "2023-03-20T23:32:40.110015Z",
     "iopub.status.idle": "2023-03-20T23:32:41.609163Z",
     "shell.execute_reply": "2023-03-20T23:32:41.608192Z"
    },
    "papermill": {
     "duration": 1.510018,
     "end_time": "2023-03-20T23:32:41.612609",
     "exception": false,
     "start_time": "2023-03-20T23:32:40.102591",
     "status": "completed"
    },
    "tags": []
   },
   "outputs": [
    {
     "name": "stdout",
     "output_type": "stream",
     "text": [
      "Setup complete.\n"
     ]
    }
   ],
   "source": [
    "import pandas as pd\n",
    "pd.set_option('max_rows', 5)\n",
    "from learntools.core import binder; binder.bind(globals())\n",
    "from learntools.pandas.creating_reading_and_writing import *\n",
    "print(\"Setup complete.\")"
   ]
  },
  {
   "cell_type": "markdown",
   "id": "bd255fa8",
   "metadata": {
    "papermill": {
     "duration": 0.008103,
     "end_time": "2023-03-20T23:32:41.629160",
     "exception": false,
     "start_time": "2023-03-20T23:32:41.621057",
     "status": "completed"
    },
    "tags": []
   },
   "source": [
    "# Exercises"
   ]
  },
  {
   "cell_type": "markdown",
   "id": "d10fecb6",
   "metadata": {
    "papermill": {
     "duration": 0.005082,
     "end_time": "2023-03-20T23:32:41.639829",
     "exception": false,
     "start_time": "2023-03-20T23:32:41.634747",
     "status": "completed"
    },
    "tags": []
   },
   "source": [
    "## 1.\n",
    "\n",
    "In the cell below, create a DataFrame `fruits` that looks like this:\n",
    "\n",
    "![](https://i.imgur.com/Ax3pp2A.png)"
   ]
  },
  {
   "cell_type": "code",
   "execution_count": 2,
   "id": "05849af5",
   "metadata": {
    "execution": {
     "iopub.execute_input": "2023-03-20T23:32:41.652489Z",
     "iopub.status.busy": "2023-03-20T23:32:41.652101Z",
     "iopub.status.idle": "2023-03-20T23:32:41.678581Z",
     "shell.execute_reply": "2023-03-20T23:32:41.677224Z"
    },
    "papermill": {
     "duration": 0.035683,
     "end_time": "2023-03-20T23:32:41.681046",
     "exception": false,
     "start_time": "2023-03-20T23:32:41.645363",
     "status": "completed"
    },
    "tags": []
   },
   "outputs": [
    {
     "data": {
      "application/javascript": [
       "parent.postMessage({\"jupyterEvent\": \"custom.exercise_interaction\", \"data\": {\"outcomeType\": 1, \"valueTowardsCompletion\": 0.16666666666666666, \"interactionType\": 1, \"questionType\": 1, \"questionId\": \"1_FruitDfCreation\", \"learnToolsVersion\": \"0.3.4\", \"failureMessage\": \"\", \"exceptionClass\": \"\", \"trace\": \"\"}}, \"*\")"
      ],
      "text/plain": [
       "<IPython.core.display.Javascript object>"
      ]
     },
     "metadata": {},
     "output_type": "display_data"
    },
    {
     "data": {
      "text/markdown": [
       "<span style=\"color:#33cc33\">Correct</span>"
      ],
      "text/plain": [
       "Correct"
      ]
     },
     "metadata": {},
     "output_type": "display_data"
    },
    {
     "data": {
      "text/html": [
       "<div>\n",
       "<style scoped>\n",
       "    .dataframe tbody tr th:only-of-type {\n",
       "        vertical-align: middle;\n",
       "    }\n",
       "\n",
       "    .dataframe tbody tr th {\n",
       "        vertical-align: top;\n",
       "    }\n",
       "\n",
       "    .dataframe thead th {\n",
       "        text-align: right;\n",
       "    }\n",
       "</style>\n",
       "<table border=\"1\" class=\"dataframe\">\n",
       "  <thead>\n",
       "    <tr style=\"text-align: right;\">\n",
       "      <th></th>\n",
       "      <th>Apples</th>\n",
       "      <th>Bananas</th>\n",
       "    </tr>\n",
       "  </thead>\n",
       "  <tbody>\n",
       "    <tr>\n",
       "      <th>0</th>\n",
       "      <td>30</td>\n",
       "      <td>21</td>\n",
       "    </tr>\n",
       "  </tbody>\n",
       "</table>\n",
       "</div>"
      ],
      "text/plain": [
       "   Apples  Bananas\n",
       "0      30       21"
      ]
     },
     "execution_count": 2,
     "metadata": {},
     "output_type": "execute_result"
    }
   ],
   "source": [
    "# Your code goes here. Create a dataframe matching the above diagram and assign it to the variable fruits.\n",
    "fruits = pd.DataFrame({\"Apples\": [30], \"Bananas\": [21]})\n",
    "\n",
    "# Check your answer\n",
    "q1.check()\n",
    "fruits"
   ]
  },
  {
   "cell_type": "code",
   "execution_count": 3,
   "id": "a514fcde",
   "metadata": {
    "execution": {
     "iopub.execute_input": "2023-03-20T23:32:41.694480Z",
     "iopub.status.busy": "2023-03-20T23:32:41.694087Z",
     "iopub.status.idle": "2023-03-20T23:32:41.698477Z",
     "shell.execute_reply": "2023-03-20T23:32:41.697268Z"
    },
    "papermill": {
     "duration": 0.013722,
     "end_time": "2023-03-20T23:32:41.700729",
     "exception": false,
     "start_time": "2023-03-20T23:32:41.687007",
     "status": "completed"
    },
    "tags": []
   },
   "outputs": [],
   "source": [
    "#q1.hint()\n",
    "#q1.solution()"
   ]
  },
  {
   "cell_type": "markdown",
   "id": "ca8e1c28",
   "metadata": {
    "papermill": {
     "duration": 0.005526,
     "end_time": "2023-03-20T23:32:41.712117",
     "exception": false,
     "start_time": "2023-03-20T23:32:41.706591",
     "status": "completed"
    },
    "tags": []
   },
   "source": [
    "## 2.\n",
    "\n",
    "Create a dataframe `fruit_sales` that matches the diagram below:\n",
    "\n",
    "![](https://i.imgur.com/CHPn7ZF.png)"
   ]
  },
  {
   "cell_type": "code",
   "execution_count": 4,
   "id": "e375e7a8",
   "metadata": {
    "execution": {
     "iopub.execute_input": "2023-03-20T23:32:41.726082Z",
     "iopub.status.busy": "2023-03-20T23:32:41.725285Z",
     "iopub.status.idle": "2023-03-20T23:32:41.741855Z",
     "shell.execute_reply": "2023-03-20T23:32:41.740817Z"
    },
    "papermill": {
     "duration": 0.026211,
     "end_time": "2023-03-20T23:32:41.744109",
     "exception": false,
     "start_time": "2023-03-20T23:32:41.717898",
     "status": "completed"
    },
    "tags": []
   },
   "outputs": [
    {
     "data": {
      "application/javascript": [
       "parent.postMessage({\"jupyterEvent\": \"custom.exercise_interaction\", \"data\": {\"outcomeType\": 1, \"valueTowardsCompletion\": 0.16666666666666666, \"interactionType\": 1, \"questionType\": 1, \"questionId\": \"2_FruitSalesDfCreation\", \"learnToolsVersion\": \"0.3.4\", \"failureMessage\": \"\", \"exceptionClass\": \"\", \"trace\": \"\"}}, \"*\")"
      ],
      "text/plain": [
       "<IPython.core.display.Javascript object>"
      ]
     },
     "metadata": {},
     "output_type": "display_data"
    },
    {
     "data": {
      "text/markdown": [
       "<span style=\"color:#33cc33\">Correct</span>"
      ],
      "text/plain": [
       "Correct"
      ]
     },
     "metadata": {},
     "output_type": "display_data"
    },
    {
     "data": {
      "text/html": [
       "<div>\n",
       "<style scoped>\n",
       "    .dataframe tbody tr th:only-of-type {\n",
       "        vertical-align: middle;\n",
       "    }\n",
       "\n",
       "    .dataframe tbody tr th {\n",
       "        vertical-align: top;\n",
       "    }\n",
       "\n",
       "    .dataframe thead th {\n",
       "        text-align: right;\n",
       "    }\n",
       "</style>\n",
       "<table border=\"1\" class=\"dataframe\">\n",
       "  <thead>\n",
       "    <tr style=\"text-align: right;\">\n",
       "      <th></th>\n",
       "      <th>Apples</th>\n",
       "      <th>Bananas</th>\n",
       "    </tr>\n",
       "  </thead>\n",
       "  <tbody>\n",
       "    <tr>\n",
       "      <th>2017 Sales</th>\n",
       "      <td>35</td>\n",
       "      <td>21</td>\n",
       "    </tr>\n",
       "    <tr>\n",
       "      <th>2018 Sales</th>\n",
       "      <td>41</td>\n",
       "      <td>34</td>\n",
       "    </tr>\n",
       "  </tbody>\n",
       "</table>\n",
       "</div>"
      ],
      "text/plain": [
       "            Apples  Bananas\n",
       "2017 Sales      35       21\n",
       "2018 Sales      41       34"
      ]
     },
     "execution_count": 4,
     "metadata": {},
     "output_type": "execute_result"
    }
   ],
   "source": [
    "# Your code goes here. Create a dataframe matching the above diagram and assign it to the variable fruit_sales.\n",
    "fruit_sales = pd.DataFrame({\"Apples\": [35, 41], \"Bananas\": [21, 34]}, index=[\"2017 Sales\", \"2018 Sales\"])\n",
    "\n",
    "# Check your answer\n",
    "q2.check()\n",
    "fruit_sales"
   ]
  },
  {
   "cell_type": "code",
   "execution_count": 5,
   "id": "e8dff48b",
   "metadata": {
    "execution": {
     "iopub.execute_input": "2023-03-20T23:32:41.758779Z",
     "iopub.status.busy": "2023-03-20T23:32:41.758114Z",
     "iopub.status.idle": "2023-03-20T23:32:41.762671Z",
     "shell.execute_reply": "2023-03-20T23:32:41.761742Z"
    },
    "papermill": {
     "duration": 0.014473,
     "end_time": "2023-03-20T23:32:41.764927",
     "exception": false,
     "start_time": "2023-03-20T23:32:41.750454",
     "status": "completed"
    },
    "tags": []
   },
   "outputs": [],
   "source": [
    "#q2.hint()\n",
    "#q2.solution()"
   ]
  },
  {
   "cell_type": "markdown",
   "id": "56bd9450",
   "metadata": {
    "papermill": {
     "duration": 0.006142,
     "end_time": "2023-03-20T23:32:41.777676",
     "exception": false,
     "start_time": "2023-03-20T23:32:41.771534",
     "status": "completed"
    },
    "tags": []
   },
   "source": [
    "## 3.\n",
    "\n",
    "Create a variable `ingredients` with a Series that looks like:\n",
    "\n",
    "```\n",
    "Flour     4 cups\n",
    "Milk       1 cup\n",
    "Eggs     2 large\n",
    "Spam       1 can\n",
    "Name: Dinner, dtype: object\n",
    "```"
   ]
  },
  {
   "cell_type": "code",
   "execution_count": 6,
   "id": "0a929b37",
   "metadata": {
    "execution": {
     "iopub.execute_input": "2023-03-20T23:32:41.793609Z",
     "iopub.status.busy": "2023-03-20T23:32:41.792906Z",
     "iopub.status.idle": "2023-03-20T23:32:41.806705Z",
     "shell.execute_reply": "2023-03-20T23:32:41.805784Z"
    },
    "papermill": {
     "duration": 0.025011,
     "end_time": "2023-03-20T23:32:41.809074",
     "exception": false,
     "start_time": "2023-03-20T23:32:41.784063",
     "status": "completed"
    },
    "tags": []
   },
   "outputs": [
    {
     "data": {
      "application/javascript": [
       "parent.postMessage({\"jupyterEvent\": \"custom.exercise_interaction\", \"data\": {\"outcomeType\": 1, \"valueTowardsCompletion\": 0.16666666666666666, \"interactionType\": 1, \"questionType\": 2, \"questionId\": \"3_RecipeSeriesCreation\", \"learnToolsVersion\": \"0.3.4\", \"failureMessage\": \"\", \"exceptionClass\": \"\", \"trace\": \"\"}}, \"*\")"
      ],
      "text/plain": [
       "<IPython.core.display.Javascript object>"
      ]
     },
     "metadata": {},
     "output_type": "display_data"
    },
    {
     "data": {
      "text/markdown": [
       "<span style=\"color:#33cc33\">Correct</span>"
      ],
      "text/plain": [
       "Correct"
      ]
     },
     "metadata": {},
     "output_type": "display_data"
    },
    {
     "data": {
      "text/plain": [
       "Flour     4 cups\n",
       "Milk       1 cup\n",
       "Eggs     2 large\n",
       "Spam       1 can\n",
       "Name: Dinner, dtype: object"
      ]
     },
     "execution_count": 6,
     "metadata": {},
     "output_type": "execute_result"
    }
   ],
   "source": [
    "ingredients = pd.Series([\"4 cups\", \"1 cup\", \"2 large\", \"1 can\"], index=[\"Flour\", \"Milk\", \"Eggs\", \"Spam\"], name=\"Dinner\")\n",
    "\n",
    "# Check your answer\n",
    "q3.check()\n",
    "ingredients"
   ]
  },
  {
   "cell_type": "code",
   "execution_count": 7,
   "id": "ece2c01d",
   "metadata": {
    "execution": {
     "iopub.execute_input": "2023-03-20T23:32:41.825033Z",
     "iopub.status.busy": "2023-03-20T23:32:41.824300Z",
     "iopub.status.idle": "2023-03-20T23:32:41.828931Z",
     "shell.execute_reply": "2023-03-20T23:32:41.828096Z"
    },
    "papermill": {
     "duration": 0.015162,
     "end_time": "2023-03-20T23:32:41.831134",
     "exception": false,
     "start_time": "2023-03-20T23:32:41.815972",
     "status": "completed"
    },
    "tags": []
   },
   "outputs": [],
   "source": [
    "#q3.hint()\n",
    "#q3.solution()"
   ]
  },
  {
   "cell_type": "markdown",
   "id": "de805803",
   "metadata": {
    "papermill": {
     "duration": 0.010553,
     "end_time": "2023-03-20T23:32:41.848503",
     "exception": false,
     "start_time": "2023-03-20T23:32:41.837950",
     "status": "completed"
    },
    "tags": []
   },
   "source": [
    "## 4.\n",
    "\n",
    "Read the following csv dataset of wine reviews into a DataFrame called `reviews`:\n",
    "\n",
    "![](https://i.imgur.com/74RCZtU.png)\n",
    "\n",
    "The filepath to the csv file is `../input/wine-reviews/winemag-data_first150k.csv`. The first few lines look like:\n",
    "\n",
    "```\n",
    ",country,description,designation,points,price,province,region_1,region_2,variety,winery\n",
    "0,US,\"This tremendous 100% varietal wine[...]\",Martha's Vineyard,96,235.0,California,Napa Valley,Napa,Cabernet Sauvignon,Heitz\n",
    "1,Spain,\"Ripe aromas of fig, blackberry and[...]\",Carodorum Selección Especial Reserva,96,110.0,Northern Spain,Toro,,Tinta de Toro,Bodega Carmen Rodríguez\n",
    "```"
   ]
  },
  {
   "cell_type": "code",
   "execution_count": 8,
   "id": "4bb9e371",
   "metadata": {
    "execution": {
     "iopub.execute_input": "2023-03-20T23:32:41.866116Z",
     "iopub.status.busy": "2023-03-20T23:32:41.865682Z",
     "iopub.status.idle": "2023-03-20T23:32:42.720844Z",
     "shell.execute_reply": "2023-03-20T23:32:42.719501Z"
    },
    "papermill": {
     "duration": 0.865986,
     "end_time": "2023-03-20T23:32:42.723415",
     "exception": false,
     "start_time": "2023-03-20T23:32:41.857429",
     "status": "completed"
    },
    "tags": []
   },
   "outputs": [
    {
     "data": {
      "application/javascript": [
       "parent.postMessage({\"jupyterEvent\": \"custom.exercise_interaction\", \"data\": {\"outcomeType\": 1, \"valueTowardsCompletion\": 0.16666666666666666, \"interactionType\": 1, \"questionType\": 1, \"questionId\": \"4_ReadWineCsv\", \"learnToolsVersion\": \"0.3.4\", \"failureMessage\": \"\", \"exceptionClass\": \"\", \"trace\": \"\"}}, \"*\")"
      ],
      "text/plain": [
       "<IPython.core.display.Javascript object>"
      ]
     },
     "metadata": {},
     "output_type": "display_data"
    },
    {
     "data": {
      "text/markdown": [
       "<span style=\"color:#33cc33\">Correct</span>"
      ],
      "text/plain": [
       "Correct"
      ]
     },
     "metadata": {},
     "output_type": "display_data"
    },
    {
     "data": {
      "text/html": [
       "<div>\n",
       "<style scoped>\n",
       "    .dataframe tbody tr th:only-of-type {\n",
       "        vertical-align: middle;\n",
       "    }\n",
       "\n",
       "    .dataframe tbody tr th {\n",
       "        vertical-align: top;\n",
       "    }\n",
       "\n",
       "    .dataframe thead th {\n",
       "        text-align: right;\n",
       "    }\n",
       "</style>\n",
       "<table border=\"1\" class=\"dataframe\">\n",
       "  <thead>\n",
       "    <tr style=\"text-align: right;\">\n",
       "      <th></th>\n",
       "      <th>country</th>\n",
       "      <th>description</th>\n",
       "      <th>designation</th>\n",
       "      <th>points</th>\n",
       "      <th>price</th>\n",
       "      <th>province</th>\n",
       "      <th>region_1</th>\n",
       "      <th>region_2</th>\n",
       "      <th>variety</th>\n",
       "      <th>winery</th>\n",
       "    </tr>\n",
       "  </thead>\n",
       "  <tbody>\n",
       "    <tr>\n",
       "      <th>0</th>\n",
       "      <td>US</td>\n",
       "      <td>This tremendous 100% varietal wine hails from ...</td>\n",
       "      <td>Martha's Vineyard</td>\n",
       "      <td>96</td>\n",
       "      <td>235.0</td>\n",
       "      <td>California</td>\n",
       "      <td>Napa Valley</td>\n",
       "      <td>Napa</td>\n",
       "      <td>Cabernet Sauvignon</td>\n",
       "      <td>Heitz</td>\n",
       "    </tr>\n",
       "    <tr>\n",
       "      <th>1</th>\n",
       "      <td>Spain</td>\n",
       "      <td>Ripe aromas of fig, blackberry and cassis are ...</td>\n",
       "      <td>Carodorum Selección Especial Reserva</td>\n",
       "      <td>96</td>\n",
       "      <td>110.0</td>\n",
       "      <td>Northern Spain</td>\n",
       "      <td>Toro</td>\n",
       "      <td>NaN</td>\n",
       "      <td>Tinta de Toro</td>\n",
       "      <td>Bodega Carmen Rodríguez</td>\n",
       "    </tr>\n",
       "    <tr>\n",
       "      <th>...</th>\n",
       "      <td>...</td>\n",
       "      <td>...</td>\n",
       "      <td>...</td>\n",
       "      <td>...</td>\n",
       "      <td>...</td>\n",
       "      <td>...</td>\n",
       "      <td>...</td>\n",
       "      <td>...</td>\n",
       "      <td>...</td>\n",
       "      <td>...</td>\n",
       "    </tr>\n",
       "    <tr>\n",
       "      <th>150928</th>\n",
       "      <td>France</td>\n",
       "      <td>A perfect salmon shade, with scents of peaches...</td>\n",
       "      <td>Grand Brut Rosé</td>\n",
       "      <td>90</td>\n",
       "      <td>52.0</td>\n",
       "      <td>Champagne</td>\n",
       "      <td>Champagne</td>\n",
       "      <td>NaN</td>\n",
       "      <td>Champagne Blend</td>\n",
       "      <td>Gosset</td>\n",
       "    </tr>\n",
       "    <tr>\n",
       "      <th>150929</th>\n",
       "      <td>Italy</td>\n",
       "      <td>More Pinot Grigios should taste like this. A r...</td>\n",
       "      <td>NaN</td>\n",
       "      <td>90</td>\n",
       "      <td>15.0</td>\n",
       "      <td>Northeastern Italy</td>\n",
       "      <td>Alto Adige</td>\n",
       "      <td>NaN</td>\n",
       "      <td>Pinot Grigio</td>\n",
       "      <td>Alois Lageder</td>\n",
       "    </tr>\n",
       "  </tbody>\n",
       "</table>\n",
       "<p>150930 rows × 10 columns</p>\n",
       "</div>"
      ],
      "text/plain": [
       "       country                                        description  \\\n",
       "0           US  This tremendous 100% varietal wine hails from ...   \n",
       "1        Spain  Ripe aromas of fig, blackberry and cassis are ...   \n",
       "...        ...                                                ...   \n",
       "150928  France  A perfect salmon shade, with scents of peaches...   \n",
       "150929   Italy  More Pinot Grigios should taste like this. A r...   \n",
       "\n",
       "                                 designation  points  price  \\\n",
       "0                          Martha's Vineyard      96  235.0   \n",
       "1       Carodorum Selección Especial Reserva      96  110.0   \n",
       "...                                      ...     ...    ...   \n",
       "150928                       Grand Brut Rosé      90   52.0   \n",
       "150929                                   NaN      90   15.0   \n",
       "\n",
       "                  province     region_1 region_2             variety  \\\n",
       "0               California  Napa Valley     Napa  Cabernet Sauvignon   \n",
       "1           Northern Spain         Toro      NaN       Tinta de Toro   \n",
       "...                    ...          ...      ...                 ...   \n",
       "150928           Champagne    Champagne      NaN     Champagne Blend   \n",
       "150929  Northeastern Italy   Alto Adige      NaN        Pinot Grigio   \n",
       "\n",
       "                         winery  \n",
       "0                         Heitz  \n",
       "1       Bodega Carmen Rodríguez  \n",
       "...                         ...  \n",
       "150928                   Gosset  \n",
       "150929            Alois Lageder  \n",
       "\n",
       "[150930 rows x 10 columns]"
      ]
     },
     "execution_count": 8,
     "metadata": {},
     "output_type": "execute_result"
    }
   ],
   "source": [
    "reviews = pd.read_csv(\"../input/wine-reviews/winemag-data_first150k.csv\", index_col=0)\n",
    "\n",
    "# Check your answer\n",
    "q4.check()\n",
    "reviews"
   ]
  },
  {
   "cell_type": "code",
   "execution_count": 9,
   "id": "07c2a2da",
   "metadata": {
    "execution": {
     "iopub.execute_input": "2023-03-20T23:32:42.740044Z",
     "iopub.status.busy": "2023-03-20T23:32:42.739633Z",
     "iopub.status.idle": "2023-03-20T23:32:42.757725Z",
     "shell.execute_reply": "2023-03-20T23:32:42.756508Z"
    },
    "papermill": {
     "duration": 0.029387,
     "end_time": "2023-03-20T23:32:42.760305",
     "exception": false,
     "start_time": "2023-03-20T23:32:42.730918",
     "status": "completed"
    },
    "tags": []
   },
   "outputs": [
    {
     "data": {
      "text/html": [
       "<div>\n",
       "<style scoped>\n",
       "    .dataframe tbody tr th:only-of-type {\n",
       "        vertical-align: middle;\n",
       "    }\n",
       "\n",
       "    .dataframe tbody tr th {\n",
       "        vertical-align: top;\n",
       "    }\n",
       "\n",
       "    .dataframe thead th {\n",
       "        text-align: right;\n",
       "    }\n",
       "</style>\n",
       "<table border=\"1\" class=\"dataframe\">\n",
       "  <thead>\n",
       "    <tr style=\"text-align: right;\">\n",
       "      <th></th>\n",
       "      <th>country</th>\n",
       "      <th>description</th>\n",
       "      <th>designation</th>\n",
       "      <th>points</th>\n",
       "      <th>price</th>\n",
       "      <th>province</th>\n",
       "      <th>region_1</th>\n",
       "      <th>region_2</th>\n",
       "      <th>variety</th>\n",
       "      <th>winery</th>\n",
       "    </tr>\n",
       "  </thead>\n",
       "  <tbody>\n",
       "    <tr>\n",
       "      <th>0</th>\n",
       "      <td>US</td>\n",
       "      <td>This tremendous 100% varietal wine hails from ...</td>\n",
       "      <td>Martha's Vineyard</td>\n",
       "      <td>96</td>\n",
       "      <td>235.0</td>\n",
       "      <td>California</td>\n",
       "      <td>Napa Valley</td>\n",
       "      <td>Napa</td>\n",
       "      <td>Cabernet Sauvignon</td>\n",
       "      <td>Heitz</td>\n",
       "    </tr>\n",
       "    <tr>\n",
       "      <th>1</th>\n",
       "      <td>Spain</td>\n",
       "      <td>Ripe aromas of fig, blackberry and cassis are ...</td>\n",
       "      <td>Carodorum Selección Especial Reserva</td>\n",
       "      <td>96</td>\n",
       "      <td>110.0</td>\n",
       "      <td>Northern Spain</td>\n",
       "      <td>Toro</td>\n",
       "      <td>NaN</td>\n",
       "      <td>Tinta de Toro</td>\n",
       "      <td>Bodega Carmen Rodríguez</td>\n",
       "    </tr>\n",
       "    <tr>\n",
       "      <th>2</th>\n",
       "      <td>US</td>\n",
       "      <td>Mac Watson honors the memory of a wine once ma...</td>\n",
       "      <td>Special Selected Late Harvest</td>\n",
       "      <td>96</td>\n",
       "      <td>90.0</td>\n",
       "      <td>California</td>\n",
       "      <td>Knights Valley</td>\n",
       "      <td>Sonoma</td>\n",
       "      <td>Sauvignon Blanc</td>\n",
       "      <td>Macauley</td>\n",
       "    </tr>\n",
       "    <tr>\n",
       "      <th>3</th>\n",
       "      <td>US</td>\n",
       "      <td>This spent 20 months in 30% new French oak, an...</td>\n",
       "      <td>Reserve</td>\n",
       "      <td>96</td>\n",
       "      <td>65.0</td>\n",
       "      <td>Oregon</td>\n",
       "      <td>Willamette Valley</td>\n",
       "      <td>Willamette Valley</td>\n",
       "      <td>Pinot Noir</td>\n",
       "      <td>Ponzi</td>\n",
       "    </tr>\n",
       "    <tr>\n",
       "      <th>4</th>\n",
       "      <td>France</td>\n",
       "      <td>This is the top wine from La Bégude, named aft...</td>\n",
       "      <td>La Brûlade</td>\n",
       "      <td>95</td>\n",
       "      <td>66.0</td>\n",
       "      <td>Provence</td>\n",
       "      <td>Bandol</td>\n",
       "      <td>NaN</td>\n",
       "      <td>Provence red blend</td>\n",
       "      <td>Domaine de la Bégude</td>\n",
       "    </tr>\n",
       "  </tbody>\n",
       "</table>\n",
       "</div>"
      ],
      "text/plain": [
       "  country                                        description  \\\n",
       "0      US  This tremendous 100% varietal wine hails from ...   \n",
       "1   Spain  Ripe aromas of fig, blackberry and cassis are ...   \n",
       "2      US  Mac Watson honors the memory of a wine once ma...   \n",
       "3      US  This spent 20 months in 30% new French oak, an...   \n",
       "4  France  This is the top wine from La Bégude, named aft...   \n",
       "\n",
       "                            designation  points  price        province  \\\n",
       "0                     Martha's Vineyard      96  235.0      California   \n",
       "1  Carodorum Selección Especial Reserva      96  110.0  Northern Spain   \n",
       "2         Special Selected Late Harvest      96   90.0      California   \n",
       "3                               Reserve      96   65.0          Oregon   \n",
       "4                            La Brûlade      95   66.0        Provence   \n",
       "\n",
       "            region_1           region_2             variety  \\\n",
       "0        Napa Valley               Napa  Cabernet Sauvignon   \n",
       "1               Toro                NaN       Tinta de Toro   \n",
       "2     Knights Valley             Sonoma     Sauvignon Blanc   \n",
       "3  Willamette Valley  Willamette Valley          Pinot Noir   \n",
       "4             Bandol                NaN  Provence red blend   \n",
       "\n",
       "                    winery  \n",
       "0                    Heitz  \n",
       "1  Bodega Carmen Rodríguez  \n",
       "2                 Macauley  \n",
       "3                    Ponzi  \n",
       "4     Domaine de la Bégude  "
      ]
     },
     "execution_count": 9,
     "metadata": {},
     "output_type": "execute_result"
    }
   ],
   "source": [
    "reviews.head()"
   ]
  },
  {
   "cell_type": "code",
   "execution_count": 10,
   "id": "f316f777",
   "metadata": {
    "execution": {
     "iopub.execute_input": "2023-03-20T23:32:42.778279Z",
     "iopub.status.busy": "2023-03-20T23:32:42.777853Z",
     "iopub.status.idle": "2023-03-20T23:32:42.782690Z",
     "shell.execute_reply": "2023-03-20T23:32:42.781486Z"
    },
    "papermill": {
     "duration": 0.0165,
     "end_time": "2023-03-20T23:32:42.785076",
     "exception": false,
     "start_time": "2023-03-20T23:32:42.768576",
     "status": "completed"
    },
    "tags": []
   },
   "outputs": [],
   "source": [
    "#q4.hint()\n",
    "#q4.solution()"
   ]
  },
  {
   "cell_type": "markdown",
   "id": "78151d2f",
   "metadata": {
    "papermill": {
     "duration": 0.007389,
     "end_time": "2023-03-20T23:32:42.800161",
     "exception": false,
     "start_time": "2023-03-20T23:32:42.792772",
     "status": "completed"
    },
    "tags": []
   },
   "source": [
    "## 5.\n",
    "\n",
    "Run the cell below to create and display a DataFrame called `animals`:"
   ]
  },
  {
   "cell_type": "code",
   "execution_count": 11,
   "id": "e6d92765",
   "metadata": {
    "execution": {
     "iopub.execute_input": "2023-03-20T23:32:42.816840Z",
     "iopub.status.busy": "2023-03-20T23:32:42.816409Z",
     "iopub.status.idle": "2023-03-20T23:32:42.828168Z",
     "shell.execute_reply": "2023-03-20T23:32:42.826955Z"
    },
    "papermill": {
     "duration": 0.022977,
     "end_time": "2023-03-20T23:32:42.830650",
     "exception": false,
     "start_time": "2023-03-20T23:32:42.807673",
     "status": "completed"
    },
    "tags": []
   },
   "outputs": [
    {
     "data": {
      "text/html": [
       "<div>\n",
       "<style scoped>\n",
       "    .dataframe tbody tr th:only-of-type {\n",
       "        vertical-align: middle;\n",
       "    }\n",
       "\n",
       "    .dataframe tbody tr th {\n",
       "        vertical-align: top;\n",
       "    }\n",
       "\n",
       "    .dataframe thead th {\n",
       "        text-align: right;\n",
       "    }\n",
       "</style>\n",
       "<table border=\"1\" class=\"dataframe\">\n",
       "  <thead>\n",
       "    <tr style=\"text-align: right;\">\n",
       "      <th></th>\n",
       "      <th>Cows</th>\n",
       "      <th>Goats</th>\n",
       "    </tr>\n",
       "  </thead>\n",
       "  <tbody>\n",
       "    <tr>\n",
       "      <th>Year 1</th>\n",
       "      <td>12</td>\n",
       "      <td>22</td>\n",
       "    </tr>\n",
       "    <tr>\n",
       "      <th>Year 2</th>\n",
       "      <td>20</td>\n",
       "      <td>19</td>\n",
       "    </tr>\n",
       "  </tbody>\n",
       "</table>\n",
       "</div>"
      ],
      "text/plain": [
       "        Cows  Goats\n",
       "Year 1    12     22\n",
       "Year 2    20     19"
      ]
     },
     "execution_count": 11,
     "metadata": {},
     "output_type": "execute_result"
    }
   ],
   "source": [
    "animals = pd.DataFrame({'Cows': [12, 20], 'Goats': [22, 19]}, index=['Year 1', 'Year 2'])\n",
    "animals"
   ]
  },
  {
   "cell_type": "markdown",
   "id": "3f26322c",
   "metadata": {
    "papermill": {
     "duration": 0.007714,
     "end_time": "2023-03-20T23:32:42.846451",
     "exception": false,
     "start_time": "2023-03-20T23:32:42.838737",
     "status": "completed"
    },
    "tags": []
   },
   "source": [
    "In the cell below, write code to save this DataFrame to disk as a csv file with the name `cows_and_goats.csv`."
   ]
  },
  {
   "cell_type": "code",
   "execution_count": 12,
   "id": "0ca11347",
   "metadata": {
    "execution": {
     "iopub.execute_input": "2023-03-20T23:32:42.864422Z",
     "iopub.status.busy": "2023-03-20T23:32:42.863330Z",
     "iopub.status.idle": "2023-03-20T23:32:42.880902Z",
     "shell.execute_reply": "2023-03-20T23:32:42.879911Z"
    },
    "papermill": {
     "duration": 0.028906,
     "end_time": "2023-03-20T23:32:42.883098",
     "exception": false,
     "start_time": "2023-03-20T23:32:42.854192",
     "status": "completed"
    },
    "tags": []
   },
   "outputs": [
    {
     "data": {
      "application/javascript": [
       "parent.postMessage({\"jupyterEvent\": \"custom.exercise_interaction\", \"data\": {\"outcomeType\": 1, \"valueTowardsCompletion\": 0.16666666666666666, \"interactionType\": 1, \"questionType\": 2, \"questionId\": \"5_SaveAnimalsCsv\", \"learnToolsVersion\": \"0.3.4\", \"failureMessage\": \"\", \"exceptionClass\": \"\", \"trace\": \"\"}}, \"*\")"
      ],
      "text/plain": [
       "<IPython.core.display.Javascript object>"
      ]
     },
     "metadata": {},
     "output_type": "display_data"
    },
    {
     "data": {
      "text/markdown": [
       "<span style=\"color:#33cc33\">Correct</span>"
      ],
      "text/plain": [
       "Correct"
      ]
     },
     "metadata": {},
     "output_type": "display_data"
    }
   ],
   "source": [
    "# Your code goes here\n",
    "animals.to_csv(\"cows_and_goats.csv\")\n",
    "\n",
    "# Check your answer\n",
    "q5.check()"
   ]
  },
  {
   "cell_type": "code",
   "execution_count": 13,
   "id": "89b7ab0c",
   "metadata": {
    "execution": {
     "iopub.execute_input": "2023-03-20T23:32:42.901605Z",
     "iopub.status.busy": "2023-03-20T23:32:42.900488Z",
     "iopub.status.idle": "2023-03-20T23:32:42.905572Z",
     "shell.execute_reply": "2023-03-20T23:32:42.904650Z"
    },
    "papermill": {
     "duration": 0.016721,
     "end_time": "2023-03-20T23:32:42.907789",
     "exception": false,
     "start_time": "2023-03-20T23:32:42.891068",
     "status": "completed"
    },
    "tags": []
   },
   "outputs": [],
   "source": [
    "#q5.hint()\n",
    "#q5.solution()"
   ]
  },
  {
   "cell_type": "code",
   "execution_count": 14,
   "id": "03aac23b",
   "metadata": {
    "execution": {
     "iopub.execute_input": "2023-03-20T23:32:42.926575Z",
     "iopub.status.busy": "2023-03-20T23:32:42.925357Z",
     "iopub.status.idle": "2023-03-20T23:32:42.938052Z",
     "shell.execute_reply": "2023-03-20T23:32:42.936919Z"
    },
    "papermill": {
     "duration": 0.024339,
     "end_time": "2023-03-20T23:32:42.940226",
     "exception": false,
     "start_time": "2023-03-20T23:32:42.915887",
     "status": "completed"
    },
    "tags": []
   },
   "outputs": [
    {
     "data": {
      "text/html": [
       "<div>\n",
       "<style scoped>\n",
       "    .dataframe tbody tr th:only-of-type {\n",
       "        vertical-align: middle;\n",
       "    }\n",
       "\n",
       "    .dataframe tbody tr th {\n",
       "        vertical-align: top;\n",
       "    }\n",
       "\n",
       "    .dataframe thead th {\n",
       "        text-align: right;\n",
       "    }\n",
       "</style>\n",
       "<table border=\"1\" class=\"dataframe\">\n",
       "  <thead>\n",
       "    <tr style=\"text-align: right;\">\n",
       "      <th></th>\n",
       "      <th>Cows</th>\n",
       "      <th>Goats</th>\n",
       "    </tr>\n",
       "  </thead>\n",
       "  <tbody>\n",
       "    <tr>\n",
       "      <th>Year 1</th>\n",
       "      <td>12</td>\n",
       "      <td>22</td>\n",
       "    </tr>\n",
       "    <tr>\n",
       "      <th>Year 2</th>\n",
       "      <td>20</td>\n",
       "      <td>19</td>\n",
       "    </tr>\n",
       "  </tbody>\n",
       "</table>\n",
       "</div>"
      ],
      "text/plain": [
       "        Cows  Goats\n",
       "Year 1    12     22\n",
       "Year 2    20     19"
      ]
     },
     "execution_count": 14,
     "metadata": {},
     "output_type": "execute_result"
    }
   ],
   "source": [
    "animals_read = pd.read_csv(\"cows_and_goats.csv\", index_col=0)\n",
    "animals_read"
   ]
  },
  {
   "cell_type": "markdown",
   "id": "09a40681",
   "metadata": {
    "papermill": {
     "duration": 0.007792,
     "end_time": "2023-03-20T23:32:42.956374",
     "exception": false,
     "start_time": "2023-03-20T23:32:42.948582",
     "status": "completed"
    },
    "tags": []
   },
   "source": [
    "# Keep going\n",
    "\n",
    "Move on to learn about **[indexing, selecting and assigning](https://www.kaggle.com/residentmario/indexing-selecting-assigning)**."
   ]
  },
  {
   "cell_type": "markdown",
   "id": "64b24c81",
   "metadata": {
    "papermill": {
     "duration": 0.00763,
     "end_time": "2023-03-20T23:32:42.971911",
     "exception": false,
     "start_time": "2023-03-20T23:32:42.964281",
     "status": "completed"
    },
    "tags": []
   },
   "source": [
    "---\n",
    "\n",
    "\n",
    "\n",
    "\n",
    "*Have questions or comments? Visit the [course discussion forum](https://www.kaggle.com/learn/pandas/discussion) to chat with other learners.*"
   ]
  }
 ],
 "metadata": {
  "kernelspec": {
   "display_name": "Python 3",
   "language": "python",
   "name": "python3"
  },
  "language_info": {
   "codemirror_mode": {
    "name": "ipython",
    "version": 3
   },
   "file_extension": ".py",
   "mimetype": "text/x-python",
   "name": "python",
   "nbconvert_exporter": "python",
   "pygments_lexer": "ipython3",
   "version": "3.7.12"
  },
  "papermill": {
   "default_parameters": {},
   "duration": 13.050164,
   "end_time": "2023-03-20T23:32:43.601544",
   "environment_variables": {},
   "exception": null,
   "input_path": "__notebook__.ipynb",
   "output_path": "__notebook__.ipynb",
   "parameters": {},
   "start_time": "2023-03-20T23:32:30.551380",
   "version": "2.4.0"
  }
 },
 "nbformat": 4,
 "nbformat_minor": 5
}
