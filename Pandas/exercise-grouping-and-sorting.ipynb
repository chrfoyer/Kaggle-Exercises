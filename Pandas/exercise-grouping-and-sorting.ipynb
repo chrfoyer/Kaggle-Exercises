{
 "cells": [
  {
   "cell_type": "markdown",
   "id": "b623ed21",
   "metadata": {
    "papermill": {
     "duration": 0.007899,
     "end_time": "2023-04-05T21:26:27.804935",
     "exception": false,
     "start_time": "2023-04-05T21:26:27.797036",
     "status": "completed"
    },
    "tags": []
   },
   "source": [
    "**This notebook is an exercise in the [Pandas](https://www.kaggle.com/learn/pandas) course.  You can reference the tutorial at [this link](https://www.kaggle.com/residentmario/grouping-and-sorting).**\n",
    "\n",
    "---\n"
   ]
  },
  {
   "cell_type": "markdown",
   "id": "cac8b1ab",
   "metadata": {
    "papermill": {
     "duration": 0.005897,
     "end_time": "2023-04-05T21:26:27.817376",
     "exception": false,
     "start_time": "2023-04-05T21:26:27.811479",
     "status": "completed"
    },
    "tags": []
   },
   "source": [
    "# Introduction\n",
    "\n",
    "In these exercises we'll apply groupwise analysis to our dataset.\n",
    "\n",
    "Run the code cell below to load the data before running the exercises."
   ]
  },
  {
   "cell_type": "code",
   "execution_count": 1,
   "id": "85f1fbb4",
   "metadata": {
    "execution": {
     "iopub.execute_input": "2023-04-05T21:26:27.831667Z",
     "iopub.status.busy": "2023-04-05T21:26:27.831293Z",
     "iopub.status.idle": "2023-04-05T21:26:30.541141Z",
     "shell.execute_reply": "2023-04-05T21:26:30.539615Z"
    },
    "papermill": {
     "duration": 2.720326,
     "end_time": "2023-04-05T21:26:30.543908",
     "exception": false,
     "start_time": "2023-04-05T21:26:27.823582",
     "status": "completed"
    },
    "tags": []
   },
   "outputs": [
    {
     "name": "stdout",
     "output_type": "stream",
     "text": [
      "Setup complete.\n"
     ]
    }
   ],
   "source": [
    "import pandas as pd\n",
    "\n",
    "reviews = pd.read_csv(\"../input/wine-reviews/winemag-data-130k-v2.csv\", index_col=0)\n",
    "#pd.set_option(\"display.max_rows\", 5)\n",
    "\n",
    "from learntools.core import binder; binder.bind(globals())\n",
    "from learntools.pandas.grouping_and_sorting import *\n",
    "print(\"Setup complete.\")"
   ]
  },
  {
   "cell_type": "markdown",
   "id": "6b10d030",
   "metadata": {
    "papermill": {
     "duration": 0.005707,
     "end_time": "2023-04-05T21:26:30.556103",
     "exception": false,
     "start_time": "2023-04-05T21:26:30.550396",
     "status": "completed"
    },
    "tags": []
   },
   "source": [
    "# Exercises"
   ]
  },
  {
   "cell_type": "markdown",
   "id": "3767a585",
   "metadata": {
    "papermill": {
     "duration": 0.005691,
     "end_time": "2023-04-05T21:26:30.567920",
     "exception": false,
     "start_time": "2023-04-05T21:26:30.562229",
     "status": "completed"
    },
    "tags": []
   },
   "source": [
    "## 1.\n",
    "Who are the most common wine reviewers in the dataset? Create a `Series` whose index is the `taster_twitter_handle` category from the dataset, and whose values count how many reviews each person wrote."
   ]
  },
  {
   "cell_type": "code",
   "execution_count": 2,
   "id": "6f35708a",
   "metadata": {
    "execution": {
     "iopub.execute_input": "2023-04-05T21:26:30.581734Z",
     "iopub.status.busy": "2023-04-05T21:26:30.581341Z",
     "iopub.status.idle": "2023-04-05T21:26:30.610578Z",
     "shell.execute_reply": "2023-04-05T21:26:30.609278Z"
    },
    "papermill": {
     "duration": 0.039003,
     "end_time": "2023-04-05T21:26:30.612795",
     "exception": false,
     "start_time": "2023-04-05T21:26:30.573792",
     "status": "completed"
    },
    "tags": []
   },
   "outputs": [
    {
     "data": {
      "text/html": [
       "<div>\n",
       "<style scoped>\n",
       "    .dataframe tbody tr th:only-of-type {\n",
       "        vertical-align: middle;\n",
       "    }\n",
       "\n",
       "    .dataframe tbody tr th {\n",
       "        vertical-align: top;\n",
       "    }\n",
       "\n",
       "    .dataframe thead th {\n",
       "        text-align: right;\n",
       "    }\n",
       "</style>\n",
       "<table border=\"1\" class=\"dataframe\">\n",
       "  <thead>\n",
       "    <tr style=\"text-align: right;\">\n",
       "      <th></th>\n",
       "      <th>country</th>\n",
       "      <th>description</th>\n",
       "      <th>designation</th>\n",
       "      <th>points</th>\n",
       "      <th>price</th>\n",
       "      <th>province</th>\n",
       "      <th>region_1</th>\n",
       "      <th>region_2</th>\n",
       "      <th>taster_name</th>\n",
       "      <th>taster_twitter_handle</th>\n",
       "      <th>title</th>\n",
       "      <th>variety</th>\n",
       "      <th>winery</th>\n",
       "    </tr>\n",
       "  </thead>\n",
       "  <tbody>\n",
       "    <tr>\n",
       "      <th>0</th>\n",
       "      <td>Italy</td>\n",
       "      <td>Aromas include tropical fruit, broom, brimston...</td>\n",
       "      <td>Vulkà Bianco</td>\n",
       "      <td>87</td>\n",
       "      <td>NaN</td>\n",
       "      <td>Sicily &amp; Sardinia</td>\n",
       "      <td>Etna</td>\n",
       "      <td>NaN</td>\n",
       "      <td>Kerin O’Keefe</td>\n",
       "      <td>@kerinokeefe</td>\n",
       "      <td>Nicosia 2013 Vulkà Bianco  (Etna)</td>\n",
       "      <td>White Blend</td>\n",
       "      <td>Nicosia</td>\n",
       "    </tr>\n",
       "    <tr>\n",
       "      <th>1</th>\n",
       "      <td>Portugal</td>\n",
       "      <td>This is ripe and fruity, a wine that is smooth...</td>\n",
       "      <td>Avidagos</td>\n",
       "      <td>87</td>\n",
       "      <td>15.0</td>\n",
       "      <td>Douro</td>\n",
       "      <td>NaN</td>\n",
       "      <td>NaN</td>\n",
       "      <td>Roger Voss</td>\n",
       "      <td>@vossroger</td>\n",
       "      <td>Quinta dos Avidagos 2011 Avidagos Red (Douro)</td>\n",
       "      <td>Portuguese Red</td>\n",
       "      <td>Quinta dos Avidagos</td>\n",
       "    </tr>\n",
       "    <tr>\n",
       "      <th>2</th>\n",
       "      <td>US</td>\n",
       "      <td>Tart and snappy, the flavors of lime flesh and...</td>\n",
       "      <td>NaN</td>\n",
       "      <td>87</td>\n",
       "      <td>14.0</td>\n",
       "      <td>Oregon</td>\n",
       "      <td>Willamette Valley</td>\n",
       "      <td>Willamette Valley</td>\n",
       "      <td>Paul Gregutt</td>\n",
       "      <td>@paulgwine</td>\n",
       "      <td>Rainstorm 2013 Pinot Gris (Willamette Valley)</td>\n",
       "      <td>Pinot Gris</td>\n",
       "      <td>Rainstorm</td>\n",
       "    </tr>\n",
       "    <tr>\n",
       "      <th>3</th>\n",
       "      <td>US</td>\n",
       "      <td>Pineapple rind, lemon pith and orange blossom ...</td>\n",
       "      <td>Reserve Late Harvest</td>\n",
       "      <td>87</td>\n",
       "      <td>13.0</td>\n",
       "      <td>Michigan</td>\n",
       "      <td>Lake Michigan Shore</td>\n",
       "      <td>NaN</td>\n",
       "      <td>Alexander Peartree</td>\n",
       "      <td>NaN</td>\n",
       "      <td>St. Julian 2013 Reserve Late Harvest Riesling ...</td>\n",
       "      <td>Riesling</td>\n",
       "      <td>St. Julian</td>\n",
       "    </tr>\n",
       "    <tr>\n",
       "      <th>4</th>\n",
       "      <td>US</td>\n",
       "      <td>Much like the regular bottling from 2012, this...</td>\n",
       "      <td>Vintner's Reserve Wild Child Block</td>\n",
       "      <td>87</td>\n",
       "      <td>65.0</td>\n",
       "      <td>Oregon</td>\n",
       "      <td>Willamette Valley</td>\n",
       "      <td>Willamette Valley</td>\n",
       "      <td>Paul Gregutt</td>\n",
       "      <td>@paulgwine</td>\n",
       "      <td>Sweet Cheeks 2012 Vintner's Reserve Wild Child...</td>\n",
       "      <td>Pinot Noir</td>\n",
       "      <td>Sweet Cheeks</td>\n",
       "    </tr>\n",
       "  </tbody>\n",
       "</table>\n",
       "</div>"
      ],
      "text/plain": [
       "    country                                        description  \\\n",
       "0     Italy  Aromas include tropical fruit, broom, brimston...   \n",
       "1  Portugal  This is ripe and fruity, a wine that is smooth...   \n",
       "2        US  Tart and snappy, the flavors of lime flesh and...   \n",
       "3        US  Pineapple rind, lemon pith and orange blossom ...   \n",
       "4        US  Much like the regular bottling from 2012, this...   \n",
       "\n",
       "                          designation  points  price           province  \\\n",
       "0                        Vulkà Bianco      87    NaN  Sicily & Sardinia   \n",
       "1                            Avidagos      87   15.0              Douro   \n",
       "2                                 NaN      87   14.0             Oregon   \n",
       "3                Reserve Late Harvest      87   13.0           Michigan   \n",
       "4  Vintner's Reserve Wild Child Block      87   65.0             Oregon   \n",
       "\n",
       "              region_1           region_2         taster_name  \\\n",
       "0                 Etna                NaN       Kerin O’Keefe   \n",
       "1                  NaN                NaN          Roger Voss   \n",
       "2    Willamette Valley  Willamette Valley        Paul Gregutt   \n",
       "3  Lake Michigan Shore                NaN  Alexander Peartree   \n",
       "4    Willamette Valley  Willamette Valley        Paul Gregutt   \n",
       "\n",
       "  taster_twitter_handle                                              title  \\\n",
       "0          @kerinokeefe                  Nicosia 2013 Vulkà Bianco  (Etna)   \n",
       "1            @vossroger      Quinta dos Avidagos 2011 Avidagos Red (Douro)   \n",
       "2           @paulgwine       Rainstorm 2013 Pinot Gris (Willamette Valley)   \n",
       "3                   NaN  St. Julian 2013 Reserve Late Harvest Riesling ...   \n",
       "4           @paulgwine   Sweet Cheeks 2012 Vintner's Reserve Wild Child...   \n",
       "\n",
       "          variety               winery  \n",
       "0     White Blend              Nicosia  \n",
       "1  Portuguese Red  Quinta dos Avidagos  \n",
       "2      Pinot Gris            Rainstorm  \n",
       "3        Riesling           St. Julian  \n",
       "4      Pinot Noir         Sweet Cheeks  "
      ]
     },
     "execution_count": 2,
     "metadata": {},
     "output_type": "execute_result"
    }
   ],
   "source": [
    "reviews.head()"
   ]
  },
  {
   "cell_type": "code",
   "execution_count": 3,
   "id": "bf55ce61",
   "metadata": {
    "execution": {
     "iopub.execute_input": "2023-04-05T21:26:30.627080Z",
     "iopub.status.busy": "2023-04-05T21:26:30.626714Z",
     "iopub.status.idle": "2023-04-05T21:26:30.655151Z",
     "shell.execute_reply": "2023-04-05T21:26:30.654047Z"
    },
    "papermill": {
     "duration": 0.037995,
     "end_time": "2023-04-05T21:26:30.657443",
     "exception": false,
     "start_time": "2023-04-05T21:26:30.619448",
     "status": "completed"
    },
    "tags": []
   },
   "outputs": [
    {
     "data": {
      "application/javascript": [
       "parent.postMessage({\"jupyterEvent\": \"custom.exercise_interaction\", \"data\": {\"outcomeType\": 1, \"valueTowardsCompletion\": 0.16666666666666666, \"interactionType\": 1, \"questionType\": 1, \"questionId\": \"1_ReviewsWritten\", \"learnToolsVersion\": \"0.3.4\", \"failureMessage\": \"\", \"exceptionClass\": \"\", \"trace\": \"\"}}, \"*\")"
      ],
      "text/plain": [
       "<IPython.core.display.Javascript object>"
      ]
     },
     "metadata": {},
     "output_type": "display_data"
    },
    {
     "data": {
      "text/markdown": [
       "<span style=\"color:#33cc33\">Correct:</span> \n",
       "\n",
       "\n",
       "```python\n",
       "reviews_written = reviews.groupby('taster_twitter_handle').size()\n",
       "```\n",
       "or\n",
       "```python\n",
       "reviews_written = reviews.groupby('taster_twitter_handle').taster_twitter_handle.count()\n",
       "```\n"
      ],
      "text/plain": [
       "Correct: \n",
       "\n",
       "\n",
       "```python\n",
       "reviews_written = reviews.groupby('taster_twitter_handle').size()\n",
       "```\n",
       "or\n",
       "```python\n",
       "reviews_written = reviews.groupby('taster_twitter_handle').taster_twitter_handle.count()\n",
       "```"
      ]
     },
     "metadata": {},
     "output_type": "display_data"
    }
   ],
   "source": [
    "# Your code here\n",
    "reviews_written = reviews.groupby('taster_twitter_handle').taster_twitter_handle.count()\n",
    "\n",
    "# Check your answer\n",
    "q1.check()"
   ]
  },
  {
   "cell_type": "code",
   "execution_count": 4,
   "id": "8d6591eb",
   "metadata": {
    "execution": {
     "iopub.execute_input": "2023-04-05T21:26:30.672392Z",
     "iopub.status.busy": "2023-04-05T21:26:30.672031Z",
     "iopub.status.idle": "2023-04-05T21:26:30.676491Z",
     "shell.execute_reply": "2023-04-05T21:26:30.675269Z"
    },
    "papermill": {
     "duration": 0.014595,
     "end_time": "2023-04-05T21:26:30.678758",
     "exception": false,
     "start_time": "2023-04-05T21:26:30.664163",
     "status": "completed"
    },
    "tags": []
   },
   "outputs": [],
   "source": [
    "#q1.hint()\n",
    "#q1.solution()"
   ]
  },
  {
   "cell_type": "markdown",
   "id": "e8218983",
   "metadata": {
    "papermill": {
     "duration": 0.006385,
     "end_time": "2023-04-05T21:26:30.691858",
     "exception": false,
     "start_time": "2023-04-05T21:26:30.685473",
     "status": "completed"
    },
    "tags": []
   },
   "source": [
    "## 2.\n",
    "What is the best wine I can buy for a given amount of money? Create a `Series` whose index is wine prices and whose values is the maximum number of points a wine costing that much was given in a review. Sort the values by price, ascending (so that `4.0` dollars is at the top and `3300.0` dollars is at the bottom)."
   ]
  },
  {
   "cell_type": "code",
   "execution_count": 5,
   "id": "e7f06080",
   "metadata": {
    "execution": {
     "iopub.execute_input": "2023-04-05T21:26:30.707940Z",
     "iopub.status.busy": "2023-04-05T21:26:30.707549Z",
     "iopub.status.idle": "2023-04-05T21:26:30.720332Z",
     "shell.execute_reply": "2023-04-05T21:26:30.719521Z"
    },
    "papermill": {
     "duration": 0.023908,
     "end_time": "2023-04-05T21:26:30.722232",
     "exception": false,
     "start_time": "2023-04-05T21:26:30.698324",
     "status": "completed"
    },
    "tags": []
   },
   "outputs": [
    {
     "data": {
      "application/javascript": [
       "parent.postMessage({\"jupyterEvent\": \"custom.exercise_interaction\", \"data\": {\"outcomeType\": 1, \"valueTowardsCompletion\": 0.16666666666666666, \"interactionType\": 1, \"questionType\": 1, \"questionId\": \"2_BestRatingPerPrice\", \"learnToolsVersion\": \"0.3.4\", \"failureMessage\": \"\", \"exceptionClass\": \"\", \"trace\": \"\"}}, \"*\")"
      ],
      "text/plain": [
       "<IPython.core.display.Javascript object>"
      ]
     },
     "metadata": {},
     "output_type": "display_data"
    },
    {
     "data": {
      "text/markdown": [
       "<span style=\"color:#33cc33\">Correct</span>"
      ],
      "text/plain": [
       "Correct"
      ]
     },
     "metadata": {},
     "output_type": "display_data"
    }
   ],
   "source": [
    "best_rating_per_price = reviews.groupby('price').points.max()\n",
    "\n",
    "# Check your answer\n",
    "q2.check()"
   ]
  },
  {
   "cell_type": "code",
   "execution_count": 6,
   "id": "973dd4a8",
   "metadata": {
    "execution": {
     "iopub.execute_input": "2023-04-05T21:26:30.737442Z",
     "iopub.status.busy": "2023-04-05T21:26:30.737127Z",
     "iopub.status.idle": "2023-04-05T21:26:30.740719Z",
     "shell.execute_reply": "2023-04-05T21:26:30.739920Z"
    },
    "papermill": {
     "duration": 0.013656,
     "end_time": "2023-04-05T21:26:30.742682",
     "exception": false,
     "start_time": "2023-04-05T21:26:30.729026",
     "status": "completed"
    },
    "tags": []
   },
   "outputs": [],
   "source": [
    "#q2.hint()\n",
    "#q2.solution()"
   ]
  },
  {
   "cell_type": "code",
   "execution_count": 7,
   "id": "7feb51b6",
   "metadata": {
    "execution": {
     "iopub.execute_input": "2023-04-05T21:26:30.757974Z",
     "iopub.status.busy": "2023-04-05T21:26:30.757656Z",
     "iopub.status.idle": "2023-04-05T21:26:30.766283Z",
     "shell.execute_reply": "2023-04-05T21:26:30.765194Z"
    },
    "papermill": {
     "duration": 0.019112,
     "end_time": "2023-04-05T21:26:30.768499",
     "exception": false,
     "start_time": "2023-04-05T21:26:30.749387",
     "status": "completed"
    },
    "tags": []
   },
   "outputs": [
    {
     "data": {
      "text/plain": [
       "price\n",
       "4.0       86\n",
       "5.0       87\n",
       "6.0       88\n",
       "7.0       91\n",
       "8.0       91\n",
       "          ..\n",
       "1900.0    98\n",
       "2000.0    97\n",
       "2013.0    91\n",
       "2500.0    96\n",
       "3300.0    88\n",
       "Name: points, Length: 390, dtype: int64"
      ]
     },
     "execution_count": 7,
     "metadata": {},
     "output_type": "execute_result"
    }
   ],
   "source": [
    "best_rating_per_price"
   ]
  },
  {
   "cell_type": "markdown",
   "id": "eabd2ae4",
   "metadata": {
    "papermill": {
     "duration": 0.006912,
     "end_time": "2023-04-05T21:26:30.782423",
     "exception": false,
     "start_time": "2023-04-05T21:26:30.775511",
     "status": "completed"
    },
    "tags": []
   },
   "source": [
    "## 3.\n",
    "What are the minimum and maximum prices for each `variety` of wine? Create a `DataFrame` whose index is the `variety` category from the dataset and whose values are the `min` and `max` values thereof."
   ]
  },
  {
   "cell_type": "code",
   "execution_count": 8,
   "id": "7c1ff2e5",
   "metadata": {
    "execution": {
     "iopub.execute_input": "2023-04-05T21:26:30.798395Z",
     "iopub.status.busy": "2023-04-05T21:26:30.797998Z",
     "iopub.status.idle": "2023-04-05T21:26:30.824945Z",
     "shell.execute_reply": "2023-04-05T21:26:30.823828Z"
    },
    "papermill": {
     "duration": 0.038014,
     "end_time": "2023-04-05T21:26:30.827312",
     "exception": false,
     "start_time": "2023-04-05T21:26:30.789298",
     "status": "completed"
    },
    "tags": []
   },
   "outputs": [
    {
     "data": {
      "application/javascript": [
       "parent.postMessage({\"jupyterEvent\": \"custom.exercise_interaction\", \"data\": {\"outcomeType\": 1, \"valueTowardsCompletion\": 0.16666666666666666, \"interactionType\": 1, \"questionType\": 1, \"questionId\": \"3_PriceExtremes\", \"learnToolsVersion\": \"0.3.4\", \"failureMessage\": \"\", \"exceptionClass\": \"\", \"trace\": \"\"}}, \"*\")"
      ],
      "text/plain": [
       "<IPython.core.display.Javascript object>"
      ]
     },
     "metadata": {},
     "output_type": "display_data"
    },
    {
     "data": {
      "text/markdown": [
       "<span style=\"color:#33cc33\">Correct</span>"
      ],
      "text/plain": [
       "Correct"
      ]
     },
     "metadata": {},
     "output_type": "display_data"
    }
   ],
   "source": [
    "price_extremes = reviews.groupby('variety').price.agg([min, max])\n",
    "\n",
    "# Check your answer\n",
    "q3.check()"
   ]
  },
  {
   "cell_type": "raw",
   "id": "2aa3d2c2",
   "metadata": {
    "papermill": {
     "duration": 0.007441,
     "end_time": "2023-04-05T21:26:30.842932",
     "exception": false,
     "start_time": "2023-04-05T21:26:30.835491",
     "status": "completed"
    },
    "tags": []
   },
   "source": [
    "price_extremes.head()"
   ]
  },
  {
   "cell_type": "code",
   "execution_count": 9,
   "id": "22fd6e53",
   "metadata": {
    "execution": {
     "iopub.execute_input": "2023-04-05T21:26:30.859886Z",
     "iopub.status.busy": "2023-04-05T21:26:30.859464Z",
     "iopub.status.idle": "2023-04-05T21:26:30.863792Z",
     "shell.execute_reply": "2023-04-05T21:26:30.862360Z"
    },
    "papermill": {
     "duration": 0.015755,
     "end_time": "2023-04-05T21:26:30.866167",
     "exception": false,
     "start_time": "2023-04-05T21:26:30.850412",
     "status": "completed"
    },
    "tags": []
   },
   "outputs": [],
   "source": [
    "#q3.hint()\n",
    "#q3.solution()"
   ]
  },
  {
   "cell_type": "markdown",
   "id": "b7c316fd",
   "metadata": {
    "papermill": {
     "duration": 0.006997,
     "end_time": "2023-04-05T21:26:30.880538",
     "exception": false,
     "start_time": "2023-04-05T21:26:30.873541",
     "status": "completed"
    },
    "tags": []
   },
   "source": [
    "## 4.\n",
    "What are the most expensive wine varieties? Create a variable `sorted_varieties` containing a copy of the dataframe from the previous question where varieties are sorted in descending order based on minimum price, then on maximum price (to break ties)."
   ]
  },
  {
   "cell_type": "code",
   "execution_count": 10,
   "id": "a9897d87",
   "metadata": {
    "execution": {
     "iopub.execute_input": "2023-04-05T21:26:30.897115Z",
     "iopub.status.busy": "2023-04-05T21:26:30.896351Z",
     "iopub.status.idle": "2023-04-05T21:26:30.908531Z",
     "shell.execute_reply": "2023-04-05T21:26:30.907478Z"
    },
    "papermill": {
     "duration": 0.022937,
     "end_time": "2023-04-05T21:26:30.910804",
     "exception": false,
     "start_time": "2023-04-05T21:26:30.887867",
     "status": "completed"
    },
    "tags": []
   },
   "outputs": [
    {
     "data": {
      "application/javascript": [
       "parent.postMessage({\"jupyterEvent\": \"custom.exercise_interaction\", \"data\": {\"outcomeType\": 1, \"valueTowardsCompletion\": 0.16666666666666666, \"interactionType\": 1, \"questionType\": 1, \"questionId\": \"4_SortedVarieties\", \"learnToolsVersion\": \"0.3.4\", \"failureMessage\": \"\", \"exceptionClass\": \"\", \"trace\": \"\"}}, \"*\")"
      ],
      "text/plain": [
       "<IPython.core.display.Javascript object>"
      ]
     },
     "metadata": {},
     "output_type": "display_data"
    },
    {
     "data": {
      "text/markdown": [
       "<span style=\"color:#33cc33\">Correct</span>"
      ],
      "text/plain": [
       "Correct"
      ]
     },
     "metadata": {},
     "output_type": "display_data"
    }
   ],
   "source": [
    "sorted_varieties = price_extremes.sort_values(by=['min', 'max'], ascending=False)\n",
    "# Check your answer\n",
    "q4.check()"
   ]
  },
  {
   "cell_type": "code",
   "execution_count": 11,
   "id": "b4bfa913",
   "metadata": {
    "execution": {
     "iopub.execute_input": "2023-04-05T21:26:30.927348Z",
     "iopub.status.busy": "2023-04-05T21:26:30.926643Z",
     "iopub.status.idle": "2023-04-05T21:26:30.931404Z",
     "shell.execute_reply": "2023-04-05T21:26:30.930289Z"
    },
    "papermill": {
     "duration": 0.015433,
     "end_time": "2023-04-05T21:26:30.933614",
     "exception": false,
     "start_time": "2023-04-05T21:26:30.918181",
     "status": "completed"
    },
    "tags": []
   },
   "outputs": [],
   "source": [
    "#q4.hint()\n",
    "#q4.solution()"
   ]
  },
  {
   "cell_type": "markdown",
   "id": "28f352a4",
   "metadata": {
    "papermill": {
     "duration": 0.006932,
     "end_time": "2023-04-05T21:26:30.948052",
     "exception": false,
     "start_time": "2023-04-05T21:26:30.941120",
     "status": "completed"
    },
    "tags": []
   },
   "source": [
    "## 5.\n",
    "Create a `Series` whose index is reviewers and whose values is the average review score given out by that reviewer. Hint: you will need the `taster_name` and `points` columns."
   ]
  },
  {
   "cell_type": "code",
   "execution_count": 12,
   "id": "548adf87",
   "metadata": {
    "execution": {
     "iopub.execute_input": "2023-04-05T21:26:30.964915Z",
     "iopub.status.busy": "2023-04-05T21:26:30.964474Z",
     "iopub.status.idle": "2023-04-05T21:26:30.985555Z",
     "shell.execute_reply": "2023-04-05T21:26:30.984467Z"
    },
    "papermill": {
     "duration": 0.032571,
     "end_time": "2023-04-05T21:26:30.987972",
     "exception": false,
     "start_time": "2023-04-05T21:26:30.955401",
     "status": "completed"
    },
    "tags": []
   },
   "outputs": [
    {
     "data": {
      "application/javascript": [
       "parent.postMessage({\"jupyterEvent\": \"custom.exercise_interaction\", \"data\": {\"outcomeType\": 1, \"valueTowardsCompletion\": 0.16666666666666666, \"interactionType\": 1, \"questionType\": 1, \"questionId\": \"5_ReviewerMeanRatings\", \"learnToolsVersion\": \"0.3.4\", \"failureMessage\": \"\", \"exceptionClass\": \"\", \"trace\": \"\"}}, \"*\")"
      ],
      "text/plain": [
       "<IPython.core.display.Javascript object>"
      ]
     },
     "metadata": {},
     "output_type": "display_data"
    },
    {
     "data": {
      "text/markdown": [
       "<span style=\"color:#33cc33\">Correct</span>"
      ],
      "text/plain": [
       "Correct"
      ]
     },
     "metadata": {},
     "output_type": "display_data"
    }
   ],
   "source": [
    "reviewer_mean_ratings = reviews.groupby('taster_name').points.mean()\n",
    "\n",
    "# Check your answer\n",
    "q5.check()"
   ]
  },
  {
   "cell_type": "code",
   "execution_count": 13,
   "id": "c1c64002",
   "metadata": {
    "execution": {
     "iopub.execute_input": "2023-04-05T21:26:31.005070Z",
     "iopub.status.busy": "2023-04-05T21:26:31.004691Z",
     "iopub.status.idle": "2023-04-05T21:26:31.009196Z",
     "shell.execute_reply": "2023-04-05T21:26:31.007991Z"
    },
    "papermill": {
     "duration": 0.015579,
     "end_time": "2023-04-05T21:26:31.011111",
     "exception": false,
     "start_time": "2023-04-05T21:26:30.995532",
     "status": "completed"
    },
    "tags": []
   },
   "outputs": [],
   "source": [
    "#q5.hint()\n",
    "#q5.solution()"
   ]
  },
  {
   "cell_type": "markdown",
   "id": "e7938699",
   "metadata": {
    "papermill": {
     "duration": 0.007225,
     "end_time": "2023-04-05T21:26:31.026052",
     "exception": false,
     "start_time": "2023-04-05T21:26:31.018827",
     "status": "completed"
    },
    "tags": []
   },
   "source": [
    "Are there significant differences in the average scores assigned by the various reviewers? Run the cell below to use the `describe()` method to see a summary of the range of values."
   ]
  },
  {
   "cell_type": "code",
   "execution_count": 14,
   "id": "78559f14",
   "metadata": {
    "execution": {
     "iopub.execute_input": "2023-04-05T21:26:31.043240Z",
     "iopub.status.busy": "2023-04-05T21:26:31.042480Z",
     "iopub.status.idle": "2023-04-05T21:26:31.052841Z",
     "shell.execute_reply": "2023-04-05T21:26:31.052035Z"
    },
    "papermill": {
     "duration": 0.021261,
     "end_time": "2023-04-05T21:26:31.054803",
     "exception": false,
     "start_time": "2023-04-05T21:26:31.033542",
     "status": "completed"
    },
    "tags": []
   },
   "outputs": [
    {
     "data": {
      "text/plain": [
       "count    19.000000\n",
       "mean     88.233026\n",
       "std       1.243610\n",
       "min      85.855422\n",
       "25%      87.323501\n",
       "50%      88.536235\n",
       "75%      88.975256\n",
       "max      90.562551\n",
       "Name: points, dtype: float64"
      ]
     },
     "execution_count": 14,
     "metadata": {},
     "output_type": "execute_result"
    }
   ],
   "source": [
    "reviewer_mean_ratings.describe()"
   ]
  },
  {
   "cell_type": "markdown",
   "id": "6a855a2c",
   "metadata": {
    "papermill": {
     "duration": 0.007403,
     "end_time": "2023-04-05T21:26:31.069931",
     "exception": false,
     "start_time": "2023-04-05T21:26:31.062528",
     "status": "completed"
    },
    "tags": []
   },
   "source": [
    "## 6.\n",
    "What combination of countries and varieties are most common? Create a `Series` whose index is a `MultiIndex`of `{country, variety}` pairs. For example, a pinot noir produced in the US should map to `{\"US\", \"Pinot Noir\"}`. Sort the values in the `Series` in descending order based on wine count."
   ]
  },
  {
   "cell_type": "code",
   "execution_count": 15,
   "id": "b715f4e5",
   "metadata": {
    "execution": {
     "iopub.execute_input": "2023-04-05T21:26:31.087304Z",
     "iopub.status.busy": "2023-04-05T21:26:31.086951Z",
     "iopub.status.idle": "2023-04-05T21:26:31.121118Z",
     "shell.execute_reply": "2023-04-05T21:26:31.120022Z"
    },
    "papermill": {
     "duration": 0.045654,
     "end_time": "2023-04-05T21:26:31.123416",
     "exception": false,
     "start_time": "2023-04-05T21:26:31.077762",
     "status": "completed"
    },
    "tags": []
   },
   "outputs": [
    {
     "data": {
      "application/javascript": [
       "parent.postMessage({\"jupyterEvent\": \"custom.exercise_interaction\", \"data\": {\"outcomeType\": 1, \"valueTowardsCompletion\": 0.16666666666666666, \"interactionType\": 1, \"questionType\": 1, \"questionId\": \"6_GroupbyCountryVariety\", \"learnToolsVersion\": \"0.3.4\", \"failureMessage\": \"\", \"exceptionClass\": \"\", \"trace\": \"\"}}, \"*\")"
      ],
      "text/plain": [
       "<IPython.core.display.Javascript object>"
      ]
     },
     "metadata": {},
     "output_type": "display_data"
    },
    {
     "data": {
      "text/markdown": [
       "<span style=\"color:#33cc33\">Correct</span>"
      ],
      "text/plain": [
       "Correct"
      ]
     },
     "metadata": {},
     "output_type": "display_data"
    }
   ],
   "source": [
    "country_variety_counts = reviews.groupby(['country', 'variety']).size().sort_values(ascending=False)\n",
    "\n",
    "# Check your answer\n",
    "q6.check()"
   ]
  },
  {
   "cell_type": "code",
   "execution_count": 16,
   "id": "6c98c0ca",
   "metadata": {
    "execution": {
     "iopub.execute_input": "2023-04-05T21:26:31.141877Z",
     "iopub.status.busy": "2023-04-05T21:26:31.141145Z",
     "iopub.status.idle": "2023-04-05T21:26:31.145283Z",
     "shell.execute_reply": "2023-04-05T21:26:31.144353Z"
    },
    "papermill": {
     "duration": 0.015851,
     "end_time": "2023-04-05T21:26:31.147398",
     "exception": false,
     "start_time": "2023-04-05T21:26:31.131547",
     "status": "completed"
    },
    "tags": []
   },
   "outputs": [],
   "source": [
    "#q6.hint()\n",
    "#q6.solution()"
   ]
  },
  {
   "cell_type": "markdown",
   "id": "c8523547",
   "metadata": {
    "papermill": {
     "duration": 0.007793,
     "end_time": "2023-04-05T21:26:31.163421",
     "exception": false,
     "start_time": "2023-04-05T21:26:31.155628",
     "status": "completed"
    },
    "tags": []
   },
   "source": [
    "# Keep going\n",
    "\n",
    "Move on to the [**data types and missing data**](https://www.kaggle.com/residentmario/data-types-and-missing-values)."
   ]
  },
  {
   "cell_type": "markdown",
   "id": "cb0d4ef4",
   "metadata": {
    "papermill": {
     "duration": 0.007635,
     "end_time": "2023-04-05T21:26:31.179131",
     "exception": false,
     "start_time": "2023-04-05T21:26:31.171496",
     "status": "completed"
    },
    "tags": []
   },
   "source": [
    "---\n",
    "\n",
    "\n",
    "\n",
    "\n",
    "*Have questions or comments? Visit the [course discussion forum](https://www.kaggle.com/learn/pandas/discussion) to chat with other learners.*"
   ]
  }
 ],
 "metadata": {
  "kernelspec": {
   "display_name": "Python 3",
   "language": "python",
   "name": "python3"
  },
  "language_info": {
   "codemirror_mode": {
    "name": "ipython",
    "version": 3
   },
   "file_extension": ".py",
   "mimetype": "text/x-python",
   "name": "python",
   "nbconvert_exporter": "python",
   "pygments_lexer": "ipython3",
   "version": "3.7.12"
  },
  "papermill": {
   "default_parameters": {},
   "duration": 13.30226,
   "end_time": "2023-04-05T21:26:31.808606",
   "environment_variables": {},
   "exception": null,
   "input_path": "__notebook__.ipynb",
   "output_path": "__notebook__.ipynb",
   "parameters": {},
   "start_time": "2023-04-05T21:26:18.506346",
   "version": "2.4.0"
  }
 },
 "nbformat": 4,
 "nbformat_minor": 5
}
