{
 "cells": [
  {
   "cell_type": "markdown",
   "id": "8a51d1bc",
   "metadata": {
    "papermill": {
     "duration": 0.007896,
     "end_time": "2023-03-30T22:28:25.225063",
     "exception": false,
     "start_time": "2023-03-30T22:28:25.217167",
     "status": "completed"
    },
    "tags": []
   },
   "source": [
    "**This notebook is an exercise in the [Pandas](https://www.kaggle.com/learn/pandas) course.  You can reference the tutorial at [this link](https://www.kaggle.com/residentmario/summary-functions-and-maps).**\n",
    "\n",
    "---\n"
   ]
  },
  {
   "cell_type": "markdown",
   "id": "3f4cf299",
   "metadata": {
    "papermill": {
     "duration": 0.006395,
     "end_time": "2023-03-30T22:28:25.238349",
     "exception": false,
     "start_time": "2023-03-30T22:28:25.231954",
     "status": "completed"
    },
    "tags": []
   },
   "source": [
    "# Introduction\n",
    "\n",
    "Now you are ready to get a deeper understanding of your data.\n",
    "\n",
    "Run the following cell to load your data and some utility functions (including code to check your answers)."
   ]
  },
  {
   "cell_type": "code",
   "execution_count": 1,
   "id": "e8990866",
   "metadata": {
    "execution": {
     "iopub.execute_input": "2023-03-30T22:28:25.254332Z",
     "iopub.status.busy": "2023-03-30T22:28:25.253253Z",
     "iopub.status.idle": "2023-03-30T22:28:32.582696Z",
     "shell.execute_reply": "2023-03-30T22:28:32.580981Z"
    },
    "papermill": {
     "duration": 7.340923,
     "end_time": "2023-03-30T22:28:32.585961",
     "exception": false,
     "start_time": "2023-03-30T22:28:25.245038",
     "status": "completed"
    },
    "tags": []
   },
   "outputs": [
    {
     "name": "stdout",
     "output_type": "stream",
     "text": [
      "Setup complete.\n"
     ]
    },
    {
     "data": {
      "text/html": [
       "<div>\n",
       "<style scoped>\n",
       "    .dataframe tbody tr th:only-of-type {\n",
       "        vertical-align: middle;\n",
       "    }\n",
       "\n",
       "    .dataframe tbody tr th {\n",
       "        vertical-align: top;\n",
       "    }\n",
       "\n",
       "    .dataframe thead th {\n",
       "        text-align: right;\n",
       "    }\n",
       "</style>\n",
       "<table border=\"1\" class=\"dataframe\">\n",
       "  <thead>\n",
       "    <tr style=\"text-align: right;\">\n",
       "      <th></th>\n",
       "      <th>country</th>\n",
       "      <th>description</th>\n",
       "      <th>designation</th>\n",
       "      <th>points</th>\n",
       "      <th>price</th>\n",
       "      <th>province</th>\n",
       "      <th>region_1</th>\n",
       "      <th>region_2</th>\n",
       "      <th>taster_name</th>\n",
       "      <th>taster_twitter_handle</th>\n",
       "      <th>title</th>\n",
       "      <th>variety</th>\n",
       "      <th>winery</th>\n",
       "    </tr>\n",
       "  </thead>\n",
       "  <tbody>\n",
       "    <tr>\n",
       "      <th>0</th>\n",
       "      <td>Italy</td>\n",
       "      <td>Aromas include tropical fruit, broom, brimston...</td>\n",
       "      <td>Vulkà Bianco</td>\n",
       "      <td>87</td>\n",
       "      <td>NaN</td>\n",
       "      <td>Sicily &amp; Sardinia</td>\n",
       "      <td>Etna</td>\n",
       "      <td>NaN</td>\n",
       "      <td>Kerin O’Keefe</td>\n",
       "      <td>@kerinokeefe</td>\n",
       "      <td>Nicosia 2013 Vulkà Bianco  (Etna)</td>\n",
       "      <td>White Blend</td>\n",
       "      <td>Nicosia</td>\n",
       "    </tr>\n",
       "    <tr>\n",
       "      <th>1</th>\n",
       "      <td>Portugal</td>\n",
       "      <td>This is ripe and fruity, a wine that is smooth...</td>\n",
       "      <td>Avidagos</td>\n",
       "      <td>87</td>\n",
       "      <td>15.0</td>\n",
       "      <td>Douro</td>\n",
       "      <td>NaN</td>\n",
       "      <td>NaN</td>\n",
       "      <td>Roger Voss</td>\n",
       "      <td>@vossroger</td>\n",
       "      <td>Quinta dos Avidagos 2011 Avidagos Red (Douro)</td>\n",
       "      <td>Portuguese Red</td>\n",
       "      <td>Quinta dos Avidagos</td>\n",
       "    </tr>\n",
       "    <tr>\n",
       "      <th>2</th>\n",
       "      <td>US</td>\n",
       "      <td>Tart and snappy, the flavors of lime flesh and...</td>\n",
       "      <td>NaN</td>\n",
       "      <td>87</td>\n",
       "      <td>14.0</td>\n",
       "      <td>Oregon</td>\n",
       "      <td>Willamette Valley</td>\n",
       "      <td>Willamette Valley</td>\n",
       "      <td>Paul Gregutt</td>\n",
       "      <td>@paulgwine</td>\n",
       "      <td>Rainstorm 2013 Pinot Gris (Willamette Valley)</td>\n",
       "      <td>Pinot Gris</td>\n",
       "      <td>Rainstorm</td>\n",
       "    </tr>\n",
       "    <tr>\n",
       "      <th>3</th>\n",
       "      <td>US</td>\n",
       "      <td>Pineapple rind, lemon pith and orange blossom ...</td>\n",
       "      <td>Reserve Late Harvest</td>\n",
       "      <td>87</td>\n",
       "      <td>13.0</td>\n",
       "      <td>Michigan</td>\n",
       "      <td>Lake Michigan Shore</td>\n",
       "      <td>NaN</td>\n",
       "      <td>Alexander Peartree</td>\n",
       "      <td>NaN</td>\n",
       "      <td>St. Julian 2013 Reserve Late Harvest Riesling ...</td>\n",
       "      <td>Riesling</td>\n",
       "      <td>St. Julian</td>\n",
       "    </tr>\n",
       "    <tr>\n",
       "      <th>4</th>\n",
       "      <td>US</td>\n",
       "      <td>Much like the regular bottling from 2012, this...</td>\n",
       "      <td>Vintner's Reserve Wild Child Block</td>\n",
       "      <td>87</td>\n",
       "      <td>65.0</td>\n",
       "      <td>Oregon</td>\n",
       "      <td>Willamette Valley</td>\n",
       "      <td>Willamette Valley</td>\n",
       "      <td>Paul Gregutt</td>\n",
       "      <td>@paulgwine</td>\n",
       "      <td>Sweet Cheeks 2012 Vintner's Reserve Wild Child...</td>\n",
       "      <td>Pinot Noir</td>\n",
       "      <td>Sweet Cheeks</td>\n",
       "    </tr>\n",
       "  </tbody>\n",
       "</table>\n",
       "</div>"
      ],
      "text/plain": [
       "    country                                        description  \\\n",
       "0     Italy  Aromas include tropical fruit, broom, brimston...   \n",
       "1  Portugal  This is ripe and fruity, a wine that is smooth...   \n",
       "2        US  Tart and snappy, the flavors of lime flesh and...   \n",
       "3        US  Pineapple rind, lemon pith and orange blossom ...   \n",
       "4        US  Much like the regular bottling from 2012, this...   \n",
       "\n",
       "                          designation  points  price           province  \\\n",
       "0                        Vulkà Bianco      87    NaN  Sicily & Sardinia   \n",
       "1                            Avidagos      87   15.0              Douro   \n",
       "2                                 NaN      87   14.0             Oregon   \n",
       "3                Reserve Late Harvest      87   13.0           Michigan   \n",
       "4  Vintner's Reserve Wild Child Block      87   65.0             Oregon   \n",
       "\n",
       "              region_1           region_2         taster_name  \\\n",
       "0                 Etna                NaN       Kerin O’Keefe   \n",
       "1                  NaN                NaN          Roger Voss   \n",
       "2    Willamette Valley  Willamette Valley        Paul Gregutt   \n",
       "3  Lake Michigan Shore                NaN  Alexander Peartree   \n",
       "4    Willamette Valley  Willamette Valley        Paul Gregutt   \n",
       "\n",
       "  taster_twitter_handle                                              title  \\\n",
       "0          @kerinokeefe                  Nicosia 2013 Vulkà Bianco  (Etna)   \n",
       "1            @vossroger      Quinta dos Avidagos 2011 Avidagos Red (Douro)   \n",
       "2           @paulgwine       Rainstorm 2013 Pinot Gris (Willamette Valley)   \n",
       "3                   NaN  St. Julian 2013 Reserve Late Harvest Riesling ...   \n",
       "4           @paulgwine   Sweet Cheeks 2012 Vintner's Reserve Wild Child...   \n",
       "\n",
       "          variety               winery  \n",
       "0     White Blend              Nicosia  \n",
       "1  Portuguese Red  Quinta dos Avidagos  \n",
       "2      Pinot Gris            Rainstorm  \n",
       "3        Riesling           St. Julian  \n",
       "4      Pinot Noir         Sweet Cheeks  "
      ]
     },
     "execution_count": 1,
     "metadata": {},
     "output_type": "execute_result"
    }
   ],
   "source": [
    "import pandas as pd\n",
    "pd.set_option(\"display.max_rows\", 5)\n",
    "reviews = pd.read_csv(\"../input/wine-reviews/winemag-data-130k-v2.csv\", index_col=0)\n",
    "\n",
    "from learntools.core import binder; binder.bind(globals())\n",
    "from learntools.pandas.summary_functions_and_maps import *\n",
    "print(\"Setup complete.\")\n",
    "\n",
    "reviews.head()"
   ]
  },
  {
   "cell_type": "markdown",
   "id": "67826f1d",
   "metadata": {
    "papermill": {
     "duration": 0.006856,
     "end_time": "2023-03-30T22:28:32.600180",
     "exception": false,
     "start_time": "2023-03-30T22:28:32.593324",
     "status": "completed"
    },
    "tags": []
   },
   "source": [
    "# Exercises"
   ]
  },
  {
   "cell_type": "markdown",
   "id": "a85186fa",
   "metadata": {
    "papermill": {
     "duration": 0.006791,
     "end_time": "2023-03-30T22:28:32.614189",
     "exception": false,
     "start_time": "2023-03-30T22:28:32.607398",
     "status": "completed"
    },
    "tags": []
   },
   "source": [
    "## 1.\n",
    "\n",
    "What is the median of the `points` column in the `reviews` DataFrame?"
   ]
  },
  {
   "cell_type": "code",
   "execution_count": 2,
   "id": "b5033849",
   "metadata": {
    "execution": {
     "iopub.execute_input": "2023-03-30T22:28:32.632342Z",
     "iopub.status.busy": "2023-03-30T22:28:32.631897Z",
     "iopub.status.idle": "2023-03-30T22:28:32.645964Z",
     "shell.execute_reply": "2023-03-30T22:28:32.644090Z"
    },
    "papermill": {
     "duration": 0.026981,
     "end_time": "2023-03-30T22:28:32.649058",
     "exception": false,
     "start_time": "2023-03-30T22:28:32.622077",
     "status": "completed"
    },
    "tags": []
   },
   "outputs": [
    {
     "data": {
      "application/javascript": [
       "parent.postMessage({\"jupyterEvent\": \"custom.exercise_interaction\", \"data\": {\"outcomeType\": 1, \"valueTowardsCompletion\": 0.14285714285714285, \"interactionType\": 1, \"questionType\": 1, \"questionId\": \"1_MedianPoints\", \"learnToolsVersion\": \"0.3.4\", \"failureMessage\": \"\", \"exceptionClass\": \"\", \"trace\": \"\"}}, \"*\")"
      ],
      "text/plain": [
       "<IPython.core.display.Javascript object>"
      ]
     },
     "metadata": {},
     "output_type": "display_data"
    },
    {
     "data": {
      "text/markdown": [
       "<span style=\"color:#33cc33\">Correct</span>"
      ],
      "text/plain": [
       "Correct"
      ]
     },
     "metadata": {},
     "output_type": "display_data"
    }
   ],
   "source": [
    "median_points = reviews.points.median()\n",
    "\n",
    "# Check your answer\n",
    "q1.check()"
   ]
  },
  {
   "cell_type": "code",
   "execution_count": 3,
   "id": "48df5b1c",
   "metadata": {
    "execution": {
     "iopub.execute_input": "2023-03-30T22:28:32.668019Z",
     "iopub.status.busy": "2023-03-30T22:28:32.667559Z",
     "iopub.status.idle": "2023-03-30T22:28:32.673581Z",
     "shell.execute_reply": "2023-03-30T22:28:32.672187Z"
    },
    "papermill": {
     "duration": 0.019628,
     "end_time": "2023-03-30T22:28:32.676580",
     "exception": false,
     "start_time": "2023-03-30T22:28:32.656952",
     "status": "completed"
    },
    "tags": []
   },
   "outputs": [],
   "source": [
    "#q1.hint()\n",
    "#q1.solution()"
   ]
  },
  {
   "cell_type": "markdown",
   "id": "40d2ac07",
   "metadata": {
    "papermill": {
     "duration": 0.007081,
     "end_time": "2023-03-30T22:28:32.691166",
     "exception": false,
     "start_time": "2023-03-30T22:28:32.684085",
     "status": "completed"
    },
    "tags": []
   },
   "source": [
    "## 2. \n",
    "What countries are represented in the dataset? (Your answer should not include any duplicates.)"
   ]
  },
  {
   "cell_type": "code",
   "execution_count": 4,
   "id": "eb507b5c",
   "metadata": {
    "execution": {
     "iopub.execute_input": "2023-03-30T22:28:32.708503Z",
     "iopub.status.busy": "2023-03-30T22:28:32.707972Z",
     "iopub.status.idle": "2023-03-30T22:28:32.725966Z",
     "shell.execute_reply": "2023-03-30T22:28:32.724457Z"
    },
    "papermill": {
     "duration": 0.030065,
     "end_time": "2023-03-30T22:28:32.728698",
     "exception": false,
     "start_time": "2023-03-30T22:28:32.698633",
     "status": "completed"
    },
    "tags": []
   },
   "outputs": [
    {
     "data": {
      "application/javascript": [
       "parent.postMessage({\"jupyterEvent\": \"custom.exercise_interaction\", \"data\": {\"outcomeType\": 1, \"valueTowardsCompletion\": 0.14285714285714285, \"interactionType\": 1, \"questionType\": 2, \"questionId\": \"2_UniqueCountries\", \"learnToolsVersion\": \"0.3.4\", \"failureMessage\": \"\", \"exceptionClass\": \"\", \"trace\": \"\"}}, \"*\")"
      ],
      "text/plain": [
       "<IPython.core.display.Javascript object>"
      ]
     },
     "metadata": {},
     "output_type": "display_data"
    },
    {
     "data": {
      "text/markdown": [
       "<span style=\"color:#33cc33\">Correct</span>"
      ],
      "text/plain": [
       "Correct"
      ]
     },
     "metadata": {},
     "output_type": "display_data"
    }
   ],
   "source": [
    "countries = reviews.country.unique()\n",
    "countries\n",
    "\n",
    "# Check your answer\n",
    "q2.check()"
   ]
  },
  {
   "cell_type": "code",
   "execution_count": 5,
   "id": "c689d9ab",
   "metadata": {
    "execution": {
     "iopub.execute_input": "2023-03-30T22:28:32.746172Z",
     "iopub.status.busy": "2023-03-30T22:28:32.745753Z",
     "iopub.status.idle": "2023-03-30T22:28:32.754348Z",
     "shell.execute_reply": "2023-03-30T22:28:32.753246Z"
    },
    "papermill": {
     "duration": 0.020224,
     "end_time": "2023-03-30T22:28:32.756888",
     "exception": false,
     "start_time": "2023-03-30T22:28:32.736664",
     "status": "completed"
    },
    "tags": []
   },
   "outputs": [
    {
     "data": {
      "text/plain": [
       "array(['Italy', 'Portugal', 'US', 'Spain', 'France', 'Germany',\n",
       "       'Argentina', 'Chile', 'Australia', 'Austria', 'South Africa',\n",
       "       'New Zealand', 'Israel', 'Hungary', 'Greece', 'Romania', 'Mexico',\n",
       "       'Canada', nan, 'Turkey', 'Czech Republic', 'Slovenia',\n",
       "       'Luxembourg', 'Croatia', 'Georgia', 'Uruguay', 'England',\n",
       "       'Lebanon', 'Serbia', 'Brazil', 'Moldova', 'Morocco', 'Peru',\n",
       "       'India', 'Bulgaria', 'Cyprus', 'Armenia', 'Switzerland',\n",
       "       'Bosnia and Herzegovina', 'Ukraine', 'Slovakia', 'Macedonia',\n",
       "       'China', 'Egypt'], dtype=object)"
      ]
     },
     "execution_count": 5,
     "metadata": {},
     "output_type": "execute_result"
    }
   ],
   "source": [
    "countries"
   ]
  },
  {
   "cell_type": "code",
   "execution_count": 6,
   "id": "787c618e",
   "metadata": {
    "execution": {
     "iopub.execute_input": "2023-03-30T22:28:32.775497Z",
     "iopub.status.busy": "2023-03-30T22:28:32.773996Z",
     "iopub.status.idle": "2023-03-30T22:28:32.780739Z",
     "shell.execute_reply": "2023-03-30T22:28:32.779238Z"
    },
    "papermill": {
     "duration": 0.01904,
     "end_time": "2023-03-30T22:28:32.783752",
     "exception": false,
     "start_time": "2023-03-30T22:28:32.764712",
     "status": "completed"
    },
    "tags": []
   },
   "outputs": [],
   "source": [
    "#q2.hint()\n",
    "#q2.solution()"
   ]
  },
  {
   "cell_type": "markdown",
   "id": "7c1f3080",
   "metadata": {
    "papermill": {
     "duration": 0.007582,
     "end_time": "2023-03-30T22:28:32.799202",
     "exception": false,
     "start_time": "2023-03-30T22:28:32.791620",
     "status": "completed"
    },
    "tags": []
   },
   "source": [
    "## 3.\n",
    "How often does each country appear in the dataset? Create a Series `reviews_per_country` mapping countries to the count of reviews of wines from that country."
   ]
  },
  {
   "cell_type": "code",
   "execution_count": 7,
   "id": "693f1c16",
   "metadata": {
    "execution": {
     "iopub.execute_input": "2023-03-30T22:28:32.818815Z",
     "iopub.status.busy": "2023-03-30T22:28:32.818333Z",
     "iopub.status.idle": "2023-03-30T22:28:32.839902Z",
     "shell.execute_reply": "2023-03-30T22:28:32.838712Z"
    },
    "papermill": {
     "duration": 0.035403,
     "end_time": "2023-03-30T22:28:32.842508",
     "exception": false,
     "start_time": "2023-03-30T22:28:32.807105",
     "status": "completed"
    },
    "tags": []
   },
   "outputs": [
    {
     "data": {
      "application/javascript": [
       "parent.postMessage({\"jupyterEvent\": \"custom.exercise_interaction\", \"data\": {\"outcomeType\": 1, \"valueTowardsCompletion\": 0.14285714285714285, \"interactionType\": 1, \"questionType\": 1, \"questionId\": \"3_ReviewsPerCountry\", \"learnToolsVersion\": \"0.3.4\", \"failureMessage\": \"\", \"exceptionClass\": \"\", \"trace\": \"\"}}, \"*\")"
      ],
      "text/plain": [
       "<IPython.core.display.Javascript object>"
      ]
     },
     "metadata": {},
     "output_type": "display_data"
    },
    {
     "data": {
      "text/markdown": [
       "<span style=\"color:#33cc33\">Correct</span>"
      ],
      "text/plain": [
       "Correct"
      ]
     },
     "metadata": {},
     "output_type": "display_data"
    }
   ],
   "source": [
    "reviews_per_country = reviews.country.value_counts()\n",
    "\n",
    "# Check your answer\n",
    "q3.check()"
   ]
  },
  {
   "cell_type": "code",
   "execution_count": 8,
   "id": "f951759d",
   "metadata": {
    "execution": {
     "iopub.execute_input": "2023-03-30T22:28:32.861164Z",
     "iopub.status.busy": "2023-03-30T22:28:32.860733Z",
     "iopub.status.idle": "2023-03-30T22:28:32.865861Z",
     "shell.execute_reply": "2023-03-30T22:28:32.864533Z"
    },
    "papermill": {
     "duration": 0.017644,
     "end_time": "2023-03-30T22:28:32.868515",
     "exception": false,
     "start_time": "2023-03-30T22:28:32.850871",
     "status": "completed"
    },
    "tags": []
   },
   "outputs": [],
   "source": [
    "#q3.hint()\n",
    "#q3.solution()"
   ]
  },
  {
   "cell_type": "markdown",
   "id": "f685c24a",
   "metadata": {
    "papermill": {
     "duration": 0.007797,
     "end_time": "2023-03-30T22:28:32.884678",
     "exception": false,
     "start_time": "2023-03-30T22:28:32.876881",
     "status": "completed"
    },
    "tags": []
   },
   "source": [
    "## 4.\n",
    "Create variable `centered_price` containing a version of the `price` column with the mean price subtracted.\n",
    "\n",
    "(Note: this 'centering' transformation is a common preprocessing step before applying various machine learning algorithms.) "
   ]
  },
  {
   "cell_type": "code",
   "execution_count": 9,
   "id": "224c7ee8",
   "metadata": {
    "execution": {
     "iopub.execute_input": "2023-03-30T22:28:32.904005Z",
     "iopub.status.busy": "2023-03-30T22:28:32.903251Z",
     "iopub.status.idle": "2023-03-30T22:28:32.969808Z",
     "shell.execute_reply": "2023-03-30T22:28:32.968547Z"
    },
    "papermill": {
     "duration": 0.079597,
     "end_time": "2023-03-30T22:28:32.972341",
     "exception": false,
     "start_time": "2023-03-30T22:28:32.892744",
     "status": "completed"
    },
    "tags": []
   },
   "outputs": [
    {
     "data": {
      "application/javascript": [
       "parent.postMessage({\"jupyterEvent\": \"custom.exercise_interaction\", \"data\": {\"outcomeType\": 1, \"valueTowardsCompletion\": 0.14285714285714285, \"interactionType\": 1, \"questionType\": 1, \"questionId\": \"4_CenteredPrice\", \"learnToolsVersion\": \"0.3.4\", \"failureMessage\": \"\", \"exceptionClass\": \"\", \"trace\": \"\"}}, \"*\")"
      ],
      "text/plain": [
       "<IPython.core.display.Javascript object>"
      ]
     },
     "metadata": {},
     "output_type": "display_data"
    },
    {
     "data": {
      "text/markdown": [
       "<span style=\"color:#33cc33\">Correct</span>"
      ],
      "text/plain": [
       "Correct"
      ]
     },
     "metadata": {},
     "output_type": "display_data"
    }
   ],
   "source": [
    "price_mean = reviews.price.mean()\n",
    "centered_price = reviews.price.map(lambda p: p - price_mean)\n",
    "\n",
    "# Check your answer\n",
    "q4.check()"
   ]
  },
  {
   "cell_type": "code",
   "execution_count": 10,
   "id": "e8830fd1",
   "metadata": {
    "execution": {
     "iopub.execute_input": "2023-03-30T22:28:32.991223Z",
     "iopub.status.busy": "2023-03-30T22:28:32.990809Z",
     "iopub.status.idle": "2023-03-30T22:28:32.996005Z",
     "shell.execute_reply": "2023-03-30T22:28:32.994683Z"
    },
    "papermill": {
     "duration": 0.017864,
     "end_time": "2023-03-30T22:28:32.998623",
     "exception": false,
     "start_time": "2023-03-30T22:28:32.980759",
     "status": "completed"
    },
    "tags": []
   },
   "outputs": [],
   "source": [
    "#q4.hint()\n",
    "#q4.solution()"
   ]
  },
  {
   "cell_type": "markdown",
   "id": "a387d2bf",
   "metadata": {
    "papermill": {
     "duration": 0.007996,
     "end_time": "2023-03-30T22:28:33.015131",
     "exception": false,
     "start_time": "2023-03-30T22:28:33.007135",
     "status": "completed"
    },
    "tags": []
   },
   "source": [
    "## 5.\n",
    "I'm an economical wine buyer. Which wine is the \"best bargain\"? Create a variable `bargain_wine` with the title of the wine with the highest points-to-price ratio in the dataset."
   ]
  },
  {
   "cell_type": "code",
   "execution_count": 11,
   "id": "f5c47c63",
   "metadata": {
    "execution": {
     "iopub.execute_input": "2023-03-30T22:28:33.034046Z",
     "iopub.status.busy": "2023-03-30T22:28:33.033526Z",
     "iopub.status.idle": "2023-03-30T22:28:33.050696Z",
     "shell.execute_reply": "2023-03-30T22:28:33.049070Z"
    },
    "papermill": {
     "duration": 0.031369,
     "end_time": "2023-03-30T22:28:33.054800",
     "exception": false,
     "start_time": "2023-03-30T22:28:33.023431",
     "status": "completed"
    },
    "tags": []
   },
   "outputs": [
    {
     "data": {
      "application/javascript": [
       "parent.postMessage({\"jupyterEvent\": \"custom.exercise_interaction\", \"data\": {\"outcomeType\": 1, \"valueTowardsCompletion\": 0.14285714285714285, \"interactionType\": 1, \"questionType\": 2, \"questionId\": \"5_BargainWine\", \"learnToolsVersion\": \"0.3.4\", \"failureMessage\": \"\", \"exceptionClass\": \"\", \"trace\": \"\"}}, \"*\")"
      ],
      "text/plain": [
       "<IPython.core.display.Javascript object>"
      ]
     },
     "metadata": {},
     "output_type": "display_data"
    },
    {
     "data": {
      "text/markdown": [
       "<span style=\"color:#33cc33\">Correct</span>"
      ],
      "text/plain": [
       "Correct"
      ]
     },
     "metadata": {},
     "output_type": "display_data"
    }
   ],
   "source": [
    "bargain_table = (reviews.points / reviews.price)\n",
    "bargain_row = bargain_table.idxmax()\n",
    "bargain_wine = reviews.loc[bargain_row, \"title\"]\n",
    "\n",
    "# Check your answer\n",
    "q5.check()"
   ]
  },
  {
   "cell_type": "markdown",
   "id": "1bd9b4ec",
   "metadata": {
    "papermill": {
     "duration": 0.008309,
     "end_time": "2023-03-30T22:28:33.071940",
     "exception": false,
     "start_time": "2023-03-30T22:28:33.063631",
     "status": "completed"
    },
    "tags": []
   },
   "source": []
  },
  {
   "cell_type": "code",
   "execution_count": 12,
   "id": "990215c5",
   "metadata": {
    "execution": {
     "iopub.execute_input": "2023-03-30T22:28:33.093351Z",
     "iopub.status.busy": "2023-03-30T22:28:33.092886Z",
     "iopub.status.idle": "2023-03-30T22:28:33.102763Z",
     "shell.execute_reply": "2023-03-30T22:28:33.100656Z"
    },
    "papermill": {
     "duration": 0.025396,
     "end_time": "2023-03-30T22:28:33.106627",
     "exception": false,
     "start_time": "2023-03-30T22:28:33.081231",
     "status": "completed"
    },
    "tags": []
   },
   "outputs": [
    {
     "data": {
      "text/plain": [
       "'Bandit NV Merlot (California)'"
      ]
     },
     "execution_count": 12,
     "metadata": {},
     "output_type": "execute_result"
    }
   ],
   "source": [
    "bargain_wine"
   ]
  },
  {
   "cell_type": "code",
   "execution_count": 13,
   "id": "cf3e7fae",
   "metadata": {
    "execution": {
     "iopub.execute_input": "2023-03-30T22:28:33.128751Z",
     "iopub.status.busy": "2023-03-30T22:28:33.126721Z",
     "iopub.status.idle": "2023-03-30T22:28:33.134441Z",
     "shell.execute_reply": "2023-03-30T22:28:33.132422Z"
    },
    "papermill": {
     "duration": 0.023167,
     "end_time": "2023-03-30T22:28:33.138710",
     "exception": false,
     "start_time": "2023-03-30T22:28:33.115543",
     "status": "completed"
    },
    "tags": []
   },
   "outputs": [],
   "source": [
    "#q5.hint()\n",
    "#q5.solution()"
   ]
  },
  {
   "cell_type": "markdown",
   "id": "d7413412",
   "metadata": {
    "papermill": {
     "duration": 0.009692,
     "end_time": "2023-03-30T22:28:33.157696",
     "exception": false,
     "start_time": "2023-03-30T22:28:33.148004",
     "status": "completed"
    },
    "tags": []
   },
   "source": [
    "## 6.\n",
    "There are only so many words you can use when describing a bottle of wine. Is a wine more likely to be \"tropical\" or \"fruity\"? Create a Series `descriptor_counts` counting how many times each of these two words appears in the `description` column in the dataset. (For simplicity, let's ignore the capitalized versions of these words.)"
   ]
  },
  {
   "cell_type": "code",
   "execution_count": 14,
   "id": "f53cfa33",
   "metadata": {
    "execution": {
     "iopub.execute_input": "2023-03-30T22:28:33.177331Z",
     "iopub.status.busy": "2023-03-30T22:28:33.176895Z",
     "iopub.status.idle": "2023-03-30T22:28:33.330076Z",
     "shell.execute_reply": "2023-03-30T22:28:33.328112Z"
    },
    "papermill": {
     "duration": 0.167254,
     "end_time": "2023-03-30T22:28:33.333877",
     "exception": false,
     "start_time": "2023-03-30T22:28:33.166623",
     "status": "completed"
    },
    "tags": []
   },
   "outputs": [
    {
     "data": {
      "application/javascript": [
       "parent.postMessage({\"jupyterEvent\": \"custom.exercise_interaction\", \"data\": {\"outcomeType\": 1, \"valueTowardsCompletion\": 0.14285714285714285, \"interactionType\": 1, \"questionType\": 1, \"questionId\": \"6_DescriptorCounts\", \"learnToolsVersion\": \"0.3.4\", \"failureMessage\": \"\", \"exceptionClass\": \"\", \"trace\": \"\"}}, \"*\")"
      ],
      "text/plain": [
       "<IPython.core.display.Javascript object>"
      ]
     },
     "metadata": {},
     "output_type": "display_data"
    },
    {
     "data": {
      "text/markdown": [
       "<span style=\"color:#33cc33\">Correct</span>"
      ],
      "text/plain": [
       "Correct"
      ]
     },
     "metadata": {},
     "output_type": "display_data"
    }
   ],
   "source": [
    "trop_count = reviews.description.map(lambda script: \"tropical\" in script).sum()\n",
    "fruity_count = reviews.description.map(lambda script: \"fruity\" in script).sum()\n",
    "descriptor_counts = pd.Series([trop_count, fruity_count], index=[\"tropical\", \"fruity\"])\n",
    "\n",
    "# Check your answer\n",
    "q6.check()"
   ]
  },
  {
   "cell_type": "code",
   "execution_count": 15,
   "id": "9fe0bf20",
   "metadata": {
    "execution": {
     "iopub.execute_input": "2023-03-30T22:28:33.356029Z",
     "iopub.status.busy": "2023-03-30T22:28:33.355444Z",
     "iopub.status.idle": "2023-03-30T22:28:33.361383Z",
     "shell.execute_reply": "2023-03-30T22:28:33.359532Z"
    },
    "papermill": {
     "duration": 0.021202,
     "end_time": "2023-03-30T22:28:33.365274",
     "exception": false,
     "start_time": "2023-03-30T22:28:33.344072",
     "status": "completed"
    },
    "tags": []
   },
   "outputs": [],
   "source": [
    "#q6.hint()\n",
    "#q6.solution()"
   ]
  },
  {
   "cell_type": "markdown",
   "id": "30b86e8f",
   "metadata": {
    "papermill": {
     "duration": 0.00904,
     "end_time": "2023-03-30T22:28:33.384395",
     "exception": false,
     "start_time": "2023-03-30T22:28:33.375355",
     "status": "completed"
    },
    "tags": []
   },
   "source": [
    "## 7.\n",
    "We'd like to host these wine reviews on our website, but a rating system ranging from 80 to 100 points is too hard to understand - we'd like to translate them into simple star ratings. A score of 95 or higher counts as 3 stars, a score of at least 85 but less than 95 is 2 stars. Any other score is 1 star.\n",
    "\n",
    "Also, the Canadian Vintners Association bought a lot of ads on the site, so any wines from Canada should automatically get 3 stars, regardless of points.\n",
    "\n",
    "Create a series `star_ratings` with the number of stars corresponding to each review in the dataset."
   ]
  },
  {
   "cell_type": "code",
   "execution_count": 16,
   "id": "da60db37",
   "metadata": {
    "execution": {
     "iopub.execute_input": "2023-03-30T22:28:33.407828Z",
     "iopub.status.busy": "2023-03-30T22:28:33.407344Z",
     "iopub.status.idle": "2023-03-30T22:28:37.580801Z",
     "shell.execute_reply": "2023-03-30T22:28:37.579227Z"
    },
    "papermill": {
     "duration": 4.189363,
     "end_time": "2023-03-30T22:28:37.584292",
     "exception": false,
     "start_time": "2023-03-30T22:28:33.394929",
     "status": "completed"
    },
    "tags": []
   },
   "outputs": [
    {
     "data": {
      "application/javascript": [
       "parent.postMessage({\"jupyterEvent\": \"custom.exercise_interaction\", \"data\": {\"outcomeType\": 1, \"valueTowardsCompletion\": 0.14285714285714285, \"interactionType\": 1, \"questionType\": 1, \"questionId\": \"7_StarRatings\", \"learnToolsVersion\": \"0.3.4\", \"failureMessage\": \"\", \"exceptionClass\": \"\", \"trace\": \"\"}}, \"*\")"
      ],
      "text/plain": [
       "<IPython.core.display.Javascript object>"
      ]
     },
     "metadata": {},
     "output_type": "display_data"
    },
    {
     "data": {
      "text/markdown": [
       "<span style=\"color:#33cc33\">Correct</span>"
      ],
      "text/plain": [
       "Correct"
      ]
     },
     "metadata": {},
     "output_type": "display_data"
    }
   ],
   "source": [
    "def stars(row):\n",
    "    if row.country == 'Canada':\n",
    "        return 3\n",
    "    elif row.points >= 95:\n",
    "        return 3\n",
    "    elif row.points >= 85:\n",
    "        return 2\n",
    "    else:\n",
    "        return 1\n",
    "\n",
    "star_ratings = reviews.apply(stars, axis='columns')\n",
    "\n",
    "# Check your answer\n",
    "q7.check()"
   ]
  },
  {
   "cell_type": "code",
   "execution_count": 17,
   "id": "65c70360",
   "metadata": {
    "execution": {
     "iopub.execute_input": "2023-03-30T22:28:37.606457Z",
     "iopub.status.busy": "2023-03-30T22:28:37.605949Z",
     "iopub.status.idle": "2023-03-30T22:28:37.611502Z",
     "shell.execute_reply": "2023-03-30T22:28:37.610527Z"
    },
    "papermill": {
     "duration": 0.019134,
     "end_time": "2023-03-30T22:28:37.613902",
     "exception": false,
     "start_time": "2023-03-30T22:28:37.594768",
     "status": "completed"
    },
    "tags": []
   },
   "outputs": [],
   "source": [
    "#q7.hint()\n",
    "#q7.solution()"
   ]
  },
  {
   "cell_type": "markdown",
   "id": "9b2e3a91",
   "metadata": {
    "papermill": {
     "duration": 0.009635,
     "end_time": "2023-03-30T22:28:37.632537",
     "exception": false,
     "start_time": "2023-03-30T22:28:37.622902",
     "status": "completed"
    },
    "tags": []
   },
   "source": [
    "# Keep going\n",
    "Continue to **[grouping and sorting](https://www.kaggle.com/residentmario/grouping-and-sorting)**."
   ]
  },
  {
   "cell_type": "markdown",
   "id": "548c9720",
   "metadata": {
    "papermill": {
     "duration": 0.009531,
     "end_time": "2023-03-30T22:28:37.651291",
     "exception": false,
     "start_time": "2023-03-30T22:28:37.641760",
     "status": "completed"
    },
    "tags": []
   },
   "source": [
    "---\n",
    "\n",
    "\n",
    "\n",
    "\n",
    "*Have questions or comments? Visit the [course discussion forum](https://www.kaggle.com/learn/pandas/discussion) to chat with other learners.*"
   ]
  }
 ],
 "metadata": {
  "kernelspec": {
   "display_name": "Python 3",
   "language": "python",
   "name": "python3"
  },
  "language_info": {
   "codemirror_mode": {
    "name": "ipython",
    "version": 3
   },
   "file_extension": ".py",
   "mimetype": "text/x-python",
   "name": "python",
   "nbconvert_exporter": "python",
   "pygments_lexer": "ipython3",
   "version": "3.7.12"
  },
  "papermill": {
   "default_parameters": {},
   "duration": 26.103729,
   "end_time": "2023-03-30T22:28:38.486065",
   "environment_variables": {},
   "exception": null,
   "input_path": "__notebook__.ipynb",
   "output_path": "__notebook__.ipynb",
   "parameters": {},
   "start_time": "2023-03-30T22:28:12.382336",
   "version": "2.4.0"
  }
 },
 "nbformat": 4,
 "nbformat_minor": 5
}
