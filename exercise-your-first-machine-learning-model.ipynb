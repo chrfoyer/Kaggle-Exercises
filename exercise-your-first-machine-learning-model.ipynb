{
 "cells": [
  {
   "cell_type": "markdown",
   "id": "025b862f",
   "metadata": {
    "papermill": {
     "duration": 0.007079,
     "end_time": "2023-03-19T22:49:37.279675",
     "exception": false,
     "start_time": "2023-03-19T22:49:37.272596",
     "status": "completed"
    },
    "tags": []
   },
   "source": [
    "**This notebook is an exercise in the [Introduction to Machine Learning](https://www.kaggle.com/learn/intro-to-machine-learning) course.  You can reference the tutorial at [this link](https://www.kaggle.com/dansbecker/your-first-machine-learning-model).**\n",
    "\n",
    "---\n"
   ]
  },
  {
   "cell_type": "markdown",
   "id": "6f35f427",
   "metadata": {
    "papermill": {
     "duration": 0.00556,
     "end_time": "2023-03-19T22:49:37.291355",
     "exception": false,
     "start_time": "2023-03-19T22:49:37.285795",
     "status": "completed"
    },
    "tags": []
   },
   "source": [
    "## Recap\n",
    "So far, you have loaded your data and reviewed it with the following code. Run this cell to set up your coding environment where the previous step left off."
   ]
  },
  {
   "cell_type": "code",
   "execution_count": 1,
   "id": "84667d6e",
   "metadata": {
    "execution": {
     "iopub.execute_input": "2023-03-19T22:49:37.305234Z",
     "iopub.status.busy": "2023-03-19T22:49:37.304823Z",
     "iopub.status.idle": "2023-03-19T22:49:38.701551Z",
     "shell.execute_reply": "2023-03-19T22:49:38.699705Z"
    },
    "papermill": {
     "duration": 1.408303,
     "end_time": "2023-03-19T22:49:38.705667",
     "exception": false,
     "start_time": "2023-03-19T22:49:37.297364",
     "status": "completed"
    },
    "tags": []
   },
   "outputs": [
    {
     "name": "stdout",
     "output_type": "stream",
     "text": [
      "Setup Complete\n"
     ]
    }
   ],
   "source": [
    "# Code you have previously used to load data\n",
    "import pandas as pd\n",
    "\n",
    "# Path of the file to read\n",
    "iowa_file_path = '../input/home-data-for-ml-course/train.csv'\n",
    "\n",
    "home_data = pd.read_csv(iowa_file_path)\n",
    "\n",
    "# Set up code checking\n",
    "from learntools.core import binder\n",
    "binder.bind(globals())\n",
    "from learntools.machine_learning.ex3 import *\n",
    "\n",
    "print(\"Setup Complete\")"
   ]
  },
  {
   "cell_type": "markdown",
   "id": "05388375",
   "metadata": {
    "papermill": {
     "duration": 0.004817,
     "end_time": "2023-03-19T22:49:38.715908",
     "exception": false,
     "start_time": "2023-03-19T22:49:38.711091",
     "status": "completed"
    },
    "tags": []
   },
   "source": [
    "# Exercises\n",
    "\n",
    "## Step 1: Specify Prediction Target\n",
    "Select the target variable, which corresponds to the sales price. Save this to a new variable called `y`. You'll need to print a list of the columns to find the name of the column you need.\n"
   ]
  },
  {
   "cell_type": "code",
   "execution_count": 2,
   "id": "c02cfd19",
   "metadata": {
    "execution": {
     "iopub.execute_input": "2023-03-19T22:49:38.727479Z",
     "iopub.status.busy": "2023-03-19T22:49:38.727021Z",
     "iopub.status.idle": "2023-03-19T22:49:38.733415Z",
     "shell.execute_reply": "2023-03-19T22:49:38.731684Z"
    },
    "papermill": {
     "duration": 0.015311,
     "end_time": "2023-03-19T22:49:38.736091",
     "exception": false,
     "start_time": "2023-03-19T22:49:38.720780",
     "status": "completed"
    },
    "tags": []
   },
   "outputs": [
    {
     "name": "stdout",
     "output_type": "stream",
     "text": [
      "Index(['Id', 'MSSubClass', 'MSZoning', 'LotFrontage', 'LotArea', 'Street',\n",
      "       'Alley', 'LotShape', 'LandContour', 'Utilities', 'LotConfig',\n",
      "       'LandSlope', 'Neighborhood', 'Condition1', 'Condition2', 'BldgType',\n",
      "       'HouseStyle', 'OverallQual', 'OverallCond', 'YearBuilt', 'YearRemodAdd',\n",
      "       'RoofStyle', 'RoofMatl', 'Exterior1st', 'Exterior2nd', 'MasVnrType',\n",
      "       'MasVnrArea', 'ExterQual', 'ExterCond', 'Foundation', 'BsmtQual',\n",
      "       'BsmtCond', 'BsmtExposure', 'BsmtFinType1', 'BsmtFinSF1',\n",
      "       'BsmtFinType2', 'BsmtFinSF2', 'BsmtUnfSF', 'TotalBsmtSF', 'Heating',\n",
      "       'HeatingQC', 'CentralAir', 'Electrical', '1stFlrSF', '2ndFlrSF',\n",
      "       'LowQualFinSF', 'GrLivArea', 'BsmtFullBath', 'BsmtHalfBath', 'FullBath',\n",
      "       'HalfBath', 'BedroomAbvGr', 'KitchenAbvGr', 'KitchenQual',\n",
      "       'TotRmsAbvGrd', 'Functional', 'Fireplaces', 'FireplaceQu', 'GarageType',\n",
      "       'GarageYrBlt', 'GarageFinish', 'GarageCars', 'GarageArea', 'GarageQual',\n",
      "       'GarageCond', 'PavedDrive', 'WoodDeckSF', 'OpenPorchSF',\n",
      "       'EnclosedPorch', '3SsnPorch', 'ScreenPorch', 'PoolArea', 'PoolQC',\n",
      "       'Fence', 'MiscFeature', 'MiscVal', 'MoSold', 'YrSold', 'SaleType',\n",
      "       'SaleCondition', 'SalePrice'],\n",
      "      dtype='object')\n"
     ]
    }
   ],
   "source": [
    "# print the list of columns in the dataset to find the name of the prediction target\n",
    "print(home_data.columns)"
   ]
  },
  {
   "cell_type": "code",
   "execution_count": 3,
   "id": "aadd9340",
   "metadata": {
    "execution": {
     "iopub.execute_input": "2023-03-19T22:49:38.749152Z",
     "iopub.status.busy": "2023-03-19T22:49:38.748705Z",
     "iopub.status.idle": "2023-03-19T22:49:38.764880Z",
     "shell.execute_reply": "2023-03-19T22:49:38.763876Z"
    },
    "papermill": {
     "duration": 0.024968,
     "end_time": "2023-03-19T22:49:38.767005",
     "exception": false,
     "start_time": "2023-03-19T22:49:38.742037",
     "status": "completed"
    },
    "tags": []
   },
   "outputs": [
    {
     "data": {
      "application/javascript": [
       "parent.postMessage({\"jupyterEvent\": \"custom.exercise_interaction\", \"data\": {\"outcomeType\": 1, \"valueTowardsCompletion\": 0.25, \"interactionType\": 1, \"questionType\": 2, \"questionId\": \"1_SetTarget\", \"learnToolsVersion\": \"0.3.4\", \"failureMessage\": \"\", \"exceptionClass\": \"\", \"trace\": \"\"}}, \"*\")"
      ],
      "text/plain": [
       "<IPython.core.display.Javascript object>"
      ]
     },
     "metadata": {},
     "output_type": "display_data"
    },
    {
     "data": {
      "text/markdown": [
       "<span style=\"color:#33cc33\">Correct</span>"
      ],
      "text/plain": [
       "Correct"
      ]
     },
     "metadata": {},
     "output_type": "display_data"
    }
   ],
   "source": [
    "y = home_data.SalePrice\n",
    "\n",
    "# Check your answer\n",
    "step_1.check()"
   ]
  },
  {
   "cell_type": "code",
   "execution_count": 4,
   "id": "2c6f55b2",
   "metadata": {
    "execution": {
     "iopub.execute_input": "2023-03-19T22:49:38.779929Z",
     "iopub.status.busy": "2023-03-19T22:49:38.778548Z",
     "iopub.status.idle": "2023-03-19T22:49:38.784536Z",
     "shell.execute_reply": "2023-03-19T22:49:38.783428Z"
    },
    "papermill": {
     "duration": 0.014537,
     "end_time": "2023-03-19T22:49:38.786700",
     "exception": false,
     "start_time": "2023-03-19T22:49:38.772163",
     "status": "completed"
    },
    "tags": []
   },
   "outputs": [],
   "source": [
    "# The lines below will show you a hint or the solution.\n",
    "# step_1.hint() \n",
    "# step_1.solution()"
   ]
  },
  {
   "cell_type": "markdown",
   "id": "0c404c9e",
   "metadata": {
    "papermill": {
     "duration": 0.005044,
     "end_time": "2023-03-19T22:49:38.796995",
     "exception": false,
     "start_time": "2023-03-19T22:49:38.791951",
     "status": "completed"
    },
    "tags": []
   },
   "source": [
    "## Step 2: Create X\n",
    "Now you will create a DataFrame called `X` holding the predictive features.\n",
    "\n",
    "Since you want only some columns from the original data, you'll first create a list with the names of the columns you want in `X`.\n",
    "\n",
    "You'll use just the following columns in the list (you can copy and paste the whole list to save some typing, though you'll still need to add quotes):\n",
    "  * LotArea\n",
    "  * YearBuilt\n",
    "  * 1stFlrSF\n",
    "  * 2ndFlrSF\n",
    "  * FullBath\n",
    "  * BedroomAbvGr\n",
    "  * TotRmsAbvGrd\n",
    "\n",
    "After you've created that list of features, use it to create the DataFrame that you'll use to fit the model."
   ]
  },
  {
   "cell_type": "code",
   "execution_count": 5,
   "id": "0ac866ee",
   "metadata": {
    "execution": {
     "iopub.execute_input": "2023-03-19T22:49:38.808476Z",
     "iopub.status.busy": "2023-03-19T22:49:38.808103Z",
     "iopub.status.idle": "2023-03-19T22:49:38.821677Z",
     "shell.execute_reply": "2023-03-19T22:49:38.820673Z"
    },
    "papermill": {
     "duration": 0.022119,
     "end_time": "2023-03-19T22:49:38.823959",
     "exception": false,
     "start_time": "2023-03-19T22:49:38.801840",
     "status": "completed"
    },
    "tags": []
   },
   "outputs": [
    {
     "data": {
      "application/javascript": [
       "parent.postMessage({\"jupyterEvent\": \"custom.exercise_interaction\", \"data\": {\"outcomeType\": 1, \"valueTowardsCompletion\": 0.25, \"interactionType\": 1, \"questionType\": 2, \"questionId\": \"2_SelectPredictionData\", \"learnToolsVersion\": \"0.3.4\", \"failureMessage\": \"\", \"exceptionClass\": \"\", \"trace\": \"\"}}, \"*\")"
      ],
      "text/plain": [
       "<IPython.core.display.Javascript object>"
      ]
     },
     "metadata": {},
     "output_type": "display_data"
    },
    {
     "data": {
      "text/markdown": [
       "<span style=\"color:#33cc33\">Correct</span>"
      ],
      "text/plain": [
       "Correct"
      ]
     },
     "metadata": {},
     "output_type": "display_data"
    }
   ],
   "source": [
    "# Create the list of features below\n",
    "feature_names = [\"LotArea\", \"YearBuilt\", \"1stFlrSF\", \"2ndFlrSF\", \"FullBath\", \"BedroomAbvGr\", \"TotRmsAbvGrd\"]\n",
    "\n",
    "# Select data corresponding to features in feature_names\n",
    "X = home_data[feature_names]\n",
    "\n",
    "# Check your answer\n",
    "step_2.check()"
   ]
  },
  {
   "cell_type": "code",
   "execution_count": 6,
   "id": "49aaa7da",
   "metadata": {
    "execution": {
     "iopub.execute_input": "2023-03-19T22:49:38.837167Z",
     "iopub.status.busy": "2023-03-19T22:49:38.836753Z",
     "iopub.status.idle": "2023-03-19T22:49:38.841791Z",
     "shell.execute_reply": "2023-03-19T22:49:38.840189Z"
    },
    "papermill": {
     "duration": 0.014044,
     "end_time": "2023-03-19T22:49:38.843954",
     "exception": false,
     "start_time": "2023-03-19T22:49:38.829910",
     "status": "completed"
    },
    "tags": []
   },
   "outputs": [],
   "source": [
    "# step_2.hint()\n",
    "# step_2.solution()"
   ]
  },
  {
   "cell_type": "markdown",
   "id": "4b2f3d18",
   "metadata": {
    "papermill": {
     "duration": 0.004872,
     "end_time": "2023-03-19T22:49:38.854262",
     "exception": false,
     "start_time": "2023-03-19T22:49:38.849390",
     "status": "completed"
    },
    "tags": []
   },
   "source": [
    "## Review Data\n",
    "Before building a model, take a quick look at **X** to verify it looks sensible"
   ]
  },
  {
   "cell_type": "code",
   "execution_count": 7,
   "id": "e6a6ccf6",
   "metadata": {
    "execution": {
     "iopub.execute_input": "2023-03-19T22:49:38.866415Z",
     "iopub.status.busy": "2023-03-19T22:49:38.865936Z",
     "iopub.status.idle": "2023-03-19T22:49:38.882084Z",
     "shell.execute_reply": "2023-03-19T22:49:38.881090Z"
    },
    "papermill": {
     "duration": 0.025355,
     "end_time": "2023-03-19T22:49:38.884657",
     "exception": false,
     "start_time": "2023-03-19T22:49:38.859302",
     "status": "completed"
    },
    "tags": []
   },
   "outputs": [
    {
     "name": "stdout",
     "output_type": "stream",
     "text": [
      "      LotArea  YearBuilt  1stFlrSF  2ndFlrSF  FullBath  BedroomAbvGr  \\\n",
      "0        8450       2003       856       854         2             3   \n",
      "1        9600       1976      1262         0         2             3   \n",
      "2       11250       2001       920       866         2             3   \n",
      "3        9550       1915       961       756         1             3   \n",
      "4       14260       2000      1145      1053         2             4   \n",
      "...       ...        ...       ...       ...       ...           ...   \n",
      "1455     7917       1999       953       694         2             3   \n",
      "1456    13175       1978      2073         0         2             3   \n",
      "1457     9042       1941      1188      1152         2             4   \n",
      "1458     9717       1950      1078         0         1             2   \n",
      "1459     9937       1965      1256         0         1             3   \n",
      "\n",
      "      TotRmsAbvGrd  \n",
      "0                8  \n",
      "1                6  \n",
      "2                6  \n",
      "3                7  \n",
      "4                9  \n",
      "...            ...  \n",
      "1455             7  \n",
      "1456             7  \n",
      "1457             9  \n",
      "1458             5  \n",
      "1459             6  \n",
      "\n",
      "[1460 rows x 7 columns]\n",
      "   LotArea  YearBuilt  1stFlrSF  2ndFlrSF  FullBath  BedroomAbvGr  \\\n",
      "0     8450       2003       856       854         2             3   \n",
      "1     9600       1976      1262         0         2             3   \n",
      "2    11250       2001       920       866         2             3   \n",
      "3     9550       1915       961       756         1             3   \n",
      "4    14260       2000      1145      1053         2             4   \n",
      "\n",
      "   TotRmsAbvGrd  \n",
      "0             8  \n",
      "1             6  \n",
      "2             6  \n",
      "3             7  \n",
      "4             9  \n"
     ]
    }
   ],
   "source": [
    "# Review data\n",
    "# print description or statistics from X\n",
    "print(X)\n",
    "\n",
    "# print the top few lines\n",
    "print(X.head())"
   ]
  },
  {
   "cell_type": "markdown",
   "id": "bacc18dd",
   "metadata": {
    "papermill": {
     "duration": 0.005051,
     "end_time": "2023-03-19T22:49:38.896323",
     "exception": false,
     "start_time": "2023-03-19T22:49:38.891272",
     "status": "completed"
    },
    "tags": []
   },
   "source": [
    "## Step 3: Specify and Fit Model\n",
    "Create a `DecisionTreeRegressor` and save it iowa_model. Ensure you've done the relevant import from sklearn to run this command.\n",
    "\n",
    "Then fit the model you just created using the data in `X` and `y` that you saved above."
   ]
  },
  {
   "cell_type": "code",
   "execution_count": 8,
   "id": "dfa1097d",
   "metadata": {
    "execution": {
     "iopub.execute_input": "2023-03-19T22:49:38.909466Z",
     "iopub.status.busy": "2023-03-19T22:49:38.909089Z",
     "iopub.status.idle": "2023-03-19T22:49:38.934593Z",
     "shell.execute_reply": "2023-03-19T22:49:38.933373Z"
    },
    "papermill": {
     "duration": 0.03515,
     "end_time": "2023-03-19T22:49:38.936940",
     "exception": false,
     "start_time": "2023-03-19T22:49:38.901790",
     "status": "completed"
    },
    "tags": []
   },
   "outputs": [
    {
     "data": {
      "application/javascript": [
       "parent.postMessage({\"jupyterEvent\": \"custom.exercise_interaction\", \"data\": {\"outcomeType\": 1, \"valueTowardsCompletion\": 0.25, \"interactionType\": 1, \"questionType\": 2, \"questionId\": \"3_CreateModel\", \"learnToolsVersion\": \"0.3.4\", \"failureMessage\": \"\", \"exceptionClass\": \"\", \"trace\": \"\"}}, \"*\")"
      ],
      "text/plain": [
       "<IPython.core.display.Javascript object>"
      ]
     },
     "metadata": {},
     "output_type": "display_data"
    },
    {
     "data": {
      "text/markdown": [
       "<span style=\"color:#33cc33\">Correct</span>"
      ],
      "text/plain": [
       "Correct"
      ]
     },
     "metadata": {},
     "output_type": "display_data"
    }
   ],
   "source": [
    "from sklearn.tree import DecisionTreeRegressor\n",
    "#specify the model. \n",
    "#For model reproducibility, set a numeric value for random_state when specifying the model\n",
    "iowa_model = DecisionTreeRegressor(random_state = 1)\n",
    "\n",
    "# Fit the model\n",
    "iowa_model.fit(X, y)\n",
    "\n",
    "# Check your answer\n",
    "step_3.check()"
   ]
  },
  {
   "cell_type": "code",
   "execution_count": 9,
   "id": "7492b4c6",
   "metadata": {
    "collapsed": true,
    "execution": {
     "iopub.execute_input": "2023-03-19T22:49:38.953855Z",
     "iopub.status.busy": "2023-03-19T22:49:38.952873Z",
     "iopub.status.idle": "2023-03-19T22:49:38.964024Z",
     "shell.execute_reply": "2023-03-19T22:49:38.962263Z"
    },
    "jupyter": {
     "outputs_hidden": true
    },
    "papermill": {
     "duration": 0.025538,
     "end_time": "2023-03-19T22:49:38.968793",
     "exception": false,
     "start_time": "2023-03-19T22:49:38.943255",
     "status": "completed"
    },
    "tags": []
   },
   "outputs": [],
   "source": [
    "# step_3.hint()\n",
    "# step_3.solution()"
   ]
  },
  {
   "cell_type": "markdown",
   "id": "dae9b303",
   "metadata": {
    "papermill": {
     "duration": 0.005843,
     "end_time": "2023-03-19T22:49:38.982470",
     "exception": false,
     "start_time": "2023-03-19T22:49:38.976627",
     "status": "completed"
    },
    "tags": []
   },
   "source": [
    "## Step 4: Make Predictions\n",
    "Make predictions with the model's `predict` command using `X` as the data. Save the results to a variable called `predictions`."
   ]
  },
  {
   "cell_type": "code",
   "execution_count": 10,
   "id": "c69abfe2",
   "metadata": {
    "execution": {
     "iopub.execute_input": "2023-03-19T22:49:38.998262Z",
     "iopub.status.busy": "2023-03-19T22:49:38.997378Z",
     "iopub.status.idle": "2023-03-19T22:49:39.015496Z",
     "shell.execute_reply": "2023-03-19T22:49:39.012284Z"
    },
    "papermill": {
     "duration": 0.029648,
     "end_time": "2023-03-19T22:49:39.018673",
     "exception": false,
     "start_time": "2023-03-19T22:49:38.989025",
     "status": "completed"
    },
    "tags": []
   },
   "outputs": [
    {
     "name": "stdout",
     "output_type": "stream",
     "text": [
      "[208500. 181500. 223500. ... 266500. 142125. 147500.]\n"
     ]
    },
    {
     "data": {
      "application/javascript": [
       "parent.postMessage({\"jupyterEvent\": \"custom.exercise_interaction\", \"data\": {\"outcomeType\": 1, \"valueTowardsCompletion\": 0.25, \"interactionType\": 1, \"questionType\": 2, \"questionId\": \"4_MakePredictions\", \"learnToolsVersion\": \"0.3.4\", \"failureMessage\": \"\", \"exceptionClass\": \"\", \"trace\": \"\"}}, \"*\")"
      ],
      "text/plain": [
       "<IPython.core.display.Javascript object>"
      ]
     },
     "metadata": {},
     "output_type": "display_data"
    },
    {
     "data": {
      "text/markdown": [
       "<span style=\"color:#33cc33\">Correct</span>"
      ],
      "text/plain": [
       "Correct"
      ]
     },
     "metadata": {},
     "output_type": "display_data"
    }
   ],
   "source": [
    "predictions = iowa_model.predict(X)\n",
    "print(predictions)\n",
    "\n",
    "# Check your answer\n",
    "step_4.check()"
   ]
  },
  {
   "cell_type": "code",
   "execution_count": 11,
   "id": "01be7fff",
   "metadata": {
    "collapsed": true,
    "execution": {
     "iopub.execute_input": "2023-03-19T22:49:39.033990Z",
     "iopub.status.busy": "2023-03-19T22:49:39.033301Z",
     "iopub.status.idle": "2023-03-19T22:49:39.038683Z",
     "shell.execute_reply": "2023-03-19T22:49:39.037380Z"
    },
    "jupyter": {
     "outputs_hidden": true
    },
    "papermill": {
     "duration": 0.015479,
     "end_time": "2023-03-19T22:49:39.041025",
     "exception": false,
     "start_time": "2023-03-19T22:49:39.025546",
     "status": "completed"
    },
    "tags": []
   },
   "outputs": [],
   "source": [
    "# step_4.hint()\n",
    "# step_4.solution()"
   ]
  },
  {
   "cell_type": "markdown",
   "id": "94fffed2",
   "metadata": {
    "papermill": {
     "duration": 0.00561,
     "end_time": "2023-03-19T22:49:39.052906",
     "exception": false,
     "start_time": "2023-03-19T22:49:39.047296",
     "status": "completed"
    },
    "tags": []
   },
   "source": [
    "## Think About Your Results\n",
    "\n",
    "Use the `head` method to compare the top few predictions to the actual home values (in `y`) for those same homes. Anything surprising?\n"
   ]
  },
  {
   "cell_type": "code",
   "execution_count": 12,
   "id": "26fd2824",
   "metadata": {
    "execution": {
     "iopub.execute_input": "2023-03-19T22:49:39.066563Z",
     "iopub.status.busy": "2023-03-19T22:49:39.066179Z",
     "iopub.status.idle": "2023-03-19T22:49:39.072248Z",
     "shell.execute_reply": "2023-03-19T22:49:39.070428Z"
    },
    "papermill": {
     "duration": 0.015908,
     "end_time": "2023-03-19T22:49:39.074676",
     "exception": false,
     "start_time": "2023-03-19T22:49:39.058768",
     "status": "completed"
    },
    "tags": []
   },
   "outputs": [
    {
     "name": "stdout",
     "output_type": "stream",
     "text": [
      "[208500. 181500. 223500. ... 266500. 142125. 147500.]\n",
      "0    208500\n",
      "1    181500\n",
      "2    223500\n",
      "3    140000\n",
      "4    250000\n",
      "Name: SalePrice, dtype: int64\n"
     ]
    }
   ],
   "source": [
    "# You can write code in this cell\n",
    "print(predictions)\n",
    "print(y.head())"
   ]
  },
  {
   "cell_type": "markdown",
   "id": "5eaf635c",
   "metadata": {
    "papermill": {
     "duration": 0.005641,
     "end_time": "2023-03-19T22:49:39.087247",
     "exception": false,
     "start_time": "2023-03-19T22:49:39.081606",
     "status": "completed"
    },
    "tags": []
   },
   "source": [
    "It's natural to ask how accurate the model's predictions will be and how you can improve that. That will be you're next step.\n",
    "\n",
    "# Keep Going\n",
    "\n",
    "You are ready for **[Model Validation](https://www.kaggle.com/dansbecker/model-validation).**\n"
   ]
  },
  {
   "cell_type": "markdown",
   "id": "880a82b5",
   "metadata": {
    "papermill": {
     "duration": 0.005708,
     "end_time": "2023-03-19T22:49:39.098783",
     "exception": false,
     "start_time": "2023-03-19T22:49:39.093075",
     "status": "completed"
    },
    "tags": []
   },
   "source": [
    "---\n",
    "\n",
    "\n",
    "\n",
    "\n",
    "*Have questions or comments? Visit the [course discussion forum](https://www.kaggle.com/learn/intro-to-machine-learning/discussion) to chat with other learners.*"
   ]
  }
 ],
 "metadata": {
  "kernelspec": {
   "display_name": "Python 3",
   "language": "python",
   "name": "python3"
  },
  "language_info": {
   "codemirror_mode": {
    "name": "ipython",
    "version": 3
   },
   "file_extension": ".py",
   "mimetype": "text/x-python",
   "name": "python",
   "nbconvert_exporter": "python",
   "pygments_lexer": "ipython3",
   "version": "3.7.12"
  },
  "papermill": {
   "default_parameters": {},
   "duration": 11.755862,
   "end_time": "2023-03-19T22:49:39.829451",
   "environment_variables": {},
   "exception": null,
   "input_path": "__notebook__.ipynb",
   "output_path": "__notebook__.ipynb",
   "parameters": {},
   "start_time": "2023-03-19T22:49:28.073589",
   "version": "2.4.0"
  }
 },
 "nbformat": 4,
 "nbformat_minor": 5
}
