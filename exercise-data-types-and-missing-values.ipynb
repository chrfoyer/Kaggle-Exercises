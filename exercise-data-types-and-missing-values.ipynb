{
 "cells": [
  {
   "cell_type": "markdown",
   "id": "29d6bcd7",
   "metadata": {
    "papermill": {
     "duration": 0.005881,
     "end_time": "2023-04-06T07:39:51.714840",
     "exception": false,
     "start_time": "2023-04-06T07:39:51.708959",
     "status": "completed"
    },
    "tags": []
   },
   "source": [
    "**This notebook is an exercise in the [Pandas](https://www.kaggle.com/learn/pandas) course.  You can reference the tutorial at [this link](https://www.kaggle.com/residentmario/data-types-and-missing-values).**\n",
    "\n",
    "---\n"
   ]
  },
  {
   "cell_type": "markdown",
   "id": "bb578537",
   "metadata": {
    "papermill": {
     "duration": 0.004206,
     "end_time": "2023-04-06T07:39:51.723855",
     "exception": false,
     "start_time": "2023-04-06T07:39:51.719649",
     "status": "completed"
    },
    "tags": []
   },
   "source": [
    "# Introduction\n",
    "\n",
    "Run the following cell to load your data and some utility functions."
   ]
  },
  {
   "cell_type": "code",
   "execution_count": 1,
   "id": "c9fe22d8",
   "metadata": {
    "execution": {
     "iopub.execute_input": "2023-04-06T07:39:51.735212Z",
     "iopub.status.busy": "2023-04-06T07:39:51.734432Z",
     "iopub.status.idle": "2023-04-06T07:39:54.707152Z",
     "shell.execute_reply": "2023-04-06T07:39:54.705569Z"
    },
    "papermill": {
     "duration": 2.982214,
     "end_time": "2023-04-06T07:39:54.710567",
     "exception": false,
     "start_time": "2023-04-06T07:39:51.728353",
     "status": "completed"
    },
    "tags": []
   },
   "outputs": [
    {
     "name": "stdout",
     "output_type": "stream",
     "text": [
      "Setup complete.\n"
     ]
    }
   ],
   "source": [
    "import pandas as pd\n",
    "\n",
    "reviews = pd.read_csv(\"../input/wine-reviews/winemag-data-130k-v2.csv\", index_col=0)\n",
    "\n",
    "from learntools.core import binder; binder.bind(globals())\n",
    "from learntools.pandas.data_types_and_missing_data import *\n",
    "print(\"Setup complete.\")"
   ]
  },
  {
   "cell_type": "markdown",
   "id": "69321d3a",
   "metadata": {
    "papermill": {
     "duration": 0.004553,
     "end_time": "2023-04-06T07:39:54.720143",
     "exception": false,
     "start_time": "2023-04-06T07:39:54.715590",
     "status": "completed"
    },
    "tags": []
   },
   "source": [
    "# Exercises"
   ]
  },
  {
   "cell_type": "markdown",
   "id": "41dbd77f",
   "metadata": {
    "papermill": {
     "duration": 0.004489,
     "end_time": "2023-04-06T07:39:54.730044",
     "exception": false,
     "start_time": "2023-04-06T07:39:54.725555",
     "status": "completed"
    },
    "tags": []
   },
   "source": [
    "## 1. \n",
    "What is the data type of the `points` column in the dataset?"
   ]
  },
  {
   "cell_type": "code",
   "execution_count": 2,
   "id": "70fbd2bb",
   "metadata": {
    "execution": {
     "iopub.execute_input": "2023-04-06T07:39:54.742138Z",
     "iopub.status.busy": "2023-04-06T07:39:54.740909Z",
     "iopub.status.idle": "2023-04-06T07:39:54.752971Z",
     "shell.execute_reply": "2023-04-06T07:39:54.751740Z"
    },
    "papermill": {
     "duration": 0.020882,
     "end_time": "2023-04-06T07:39:54.755703",
     "exception": false,
     "start_time": "2023-04-06T07:39:54.734821",
     "status": "completed"
    },
    "tags": []
   },
   "outputs": [
    {
     "data": {
      "application/javascript": [
       "parent.postMessage({\"jupyterEvent\": \"custom.exercise_interaction\", \"data\": {\"outcomeType\": 1, \"valueTowardsCompletion\": 0.25, \"interactionType\": 1, \"questionType\": 1, \"questionId\": \"1_PointsDtype\", \"learnToolsVersion\": \"0.3.4\", \"failureMessage\": \"\", \"exceptionClass\": \"\", \"trace\": \"\"}}, \"*\")"
      ],
      "text/plain": [
       "<IPython.core.display.Javascript object>"
      ]
     },
     "metadata": {},
     "output_type": "display_data"
    },
    {
     "data": {
      "text/markdown": [
       "<span style=\"color:#33cc33\">Correct</span>"
      ],
      "text/plain": [
       "Correct"
      ]
     },
     "metadata": {},
     "output_type": "display_data"
    }
   ],
   "source": [
    "# Your code here\n",
    "dtype = reviews.points.dtype\n",
    "\n",
    "# Check your answer\n",
    "q1.check()"
   ]
  },
  {
   "cell_type": "code",
   "execution_count": 3,
   "id": "a41c9208",
   "metadata": {
    "execution": {
     "iopub.execute_input": "2023-04-06T07:39:54.769158Z",
     "iopub.status.busy": "2023-04-06T07:39:54.767812Z",
     "iopub.status.idle": "2023-04-06T07:39:54.773609Z",
     "shell.execute_reply": "2023-04-06T07:39:54.772314Z"
    },
    "papermill": {
     "duration": 0.01528,
     "end_time": "2023-04-06T07:39:54.776241",
     "exception": false,
     "start_time": "2023-04-06T07:39:54.760961",
     "status": "completed"
    },
    "tags": []
   },
   "outputs": [],
   "source": [
    "#q1.hint()\n",
    "#q1.solution()"
   ]
  },
  {
   "cell_type": "markdown",
   "id": "0b963090",
   "metadata": {
    "papermill": {
     "duration": 0.004751,
     "end_time": "2023-04-06T07:39:54.786134",
     "exception": false,
     "start_time": "2023-04-06T07:39:54.781383",
     "status": "completed"
    },
    "tags": []
   },
   "source": [
    "## 2. \n",
    "Create a Series from entries in the `points` column, but convert the entries to strings. Hint: strings are `str` in native Python."
   ]
  },
  {
   "cell_type": "code",
   "execution_count": 4,
   "id": "e0e82416",
   "metadata": {
    "execution": {
     "iopub.execute_input": "2023-04-06T07:39:54.798282Z",
     "iopub.status.busy": "2023-04-06T07:39:54.797784Z",
     "iopub.status.idle": "2023-04-06T07:39:54.887068Z",
     "shell.execute_reply": "2023-04-06T07:39:54.885517Z"
    },
    "papermill": {
     "duration": 0.098405,
     "end_time": "2023-04-06T07:39:54.889805",
     "exception": false,
     "start_time": "2023-04-06T07:39:54.791400",
     "status": "completed"
    },
    "tags": []
   },
   "outputs": [
    {
     "data": {
      "application/javascript": [
       "parent.postMessage({\"jupyterEvent\": \"custom.exercise_interaction\", \"data\": {\"outcomeType\": 1, \"valueTowardsCompletion\": 0.25, \"interactionType\": 1, \"questionType\": 1, \"questionId\": \"2_StrPoints\", \"learnToolsVersion\": \"0.3.4\", \"failureMessage\": \"\", \"exceptionClass\": \"\", \"trace\": \"\"}}, \"*\")"
      ],
      "text/plain": [
       "<IPython.core.display.Javascript object>"
      ]
     },
     "metadata": {},
     "output_type": "display_data"
    },
    {
     "data": {
      "text/markdown": [
       "<span style=\"color:#33cc33\">Correct</span>"
      ],
      "text/plain": [
       "Correct"
      ]
     },
     "metadata": {},
     "output_type": "display_data"
    }
   ],
   "source": [
    "point_strings = reviews.points.astype('str')\n",
    "\n",
    "# Check your answer\n",
    "q2.check()"
   ]
  },
  {
   "cell_type": "code",
   "execution_count": 5,
   "id": "3109e677",
   "metadata": {
    "execution": {
     "iopub.execute_input": "2023-04-06T07:39:54.903003Z",
     "iopub.status.busy": "2023-04-06T07:39:54.901930Z",
     "iopub.status.idle": "2023-04-06T07:39:54.907549Z",
     "shell.execute_reply": "2023-04-06T07:39:54.906153Z"
    },
    "papermill": {
     "duration": 0.01523,
     "end_time": "2023-04-06T07:39:54.910345",
     "exception": false,
     "start_time": "2023-04-06T07:39:54.895115",
     "status": "completed"
    },
    "tags": []
   },
   "outputs": [],
   "source": [
    "#q2.hint()\n",
    "#q2.solution()"
   ]
  },
  {
   "cell_type": "markdown",
   "id": "736907e5",
   "metadata": {
    "papermill": {
     "duration": 0.004999,
     "end_time": "2023-04-06T07:39:54.920825",
     "exception": false,
     "start_time": "2023-04-06T07:39:54.915826",
     "status": "completed"
    },
    "tags": []
   },
   "source": [
    "## 3.\n",
    "Sometimes the price column is null. How many reviews in the dataset are missing a price?"
   ]
  },
  {
   "cell_type": "code",
   "execution_count": 6,
   "id": "b6aa0b8f",
   "metadata": {
    "execution": {
     "iopub.execute_input": "2023-04-06T07:39:54.933891Z",
     "iopub.status.busy": "2023-04-06T07:39:54.933158Z",
     "iopub.status.idle": "2023-04-06T07:39:54.969911Z",
     "shell.execute_reply": "2023-04-06T07:39:54.968445Z"
    },
    "papermill": {
     "duration": 0.0463,
     "end_time": "2023-04-06T07:39:54.972654",
     "exception": false,
     "start_time": "2023-04-06T07:39:54.926354",
     "status": "completed"
    },
    "tags": []
   },
   "outputs": [
    {
     "data": {
      "text/plain": [
       "<bound method NDFrame._add_numeric_operations.<locals>.sum of          country                                        description  \\\n",
       "0          Italy  Aromas include tropical fruit, broom, brimston...   \n",
       "13         Italy  This is dominated by oak and oak-driven aromas...   \n",
       "30        France  Red cherry fruit comes laced with light tannin...   \n",
       "31         Italy  Merlot and Nero d'Avola form the base for this...   \n",
       "32         Italy  Part of the extended Calanìca series, this Gri...   \n",
       "...          ...                                                ...   \n",
       "129844     Italy  Doga delle Clavule is a neutral, mineral-drive...   \n",
       "129860  Portugal  This rich wine has a firm structure as well as...   \n",
       "129863  Portugal  This mature wine that has 50% Touriga Nacional...   \n",
       "129893     Italy  Aromas of passion fruit, hay and a vegetal not...   \n",
       "129964    France  Initially quite muted, this wine slowly develo...   \n",
       "\n",
       "                         designation  points  price           province  \\\n",
       "0                       Vulkà Bianco      87    NaN  Sicily & Sardinia   \n",
       "13                             Rosso      87    NaN  Sicily & Sardinia   \n",
       "30                           Nouveau      86    NaN         Beaujolais   \n",
       "31      Calanìca Nero d'Avola-Merlot      86    NaN  Sicily & Sardinia   \n",
       "32          Calanìca Grillo-Viognier      86    NaN  Sicily & Sardinia   \n",
       "...                              ...     ...    ...                ...   \n",
       "129844            Doga delle Clavule      86    NaN            Tuscany   \n",
       "129860              Pacheca Superior      90    NaN              Douro   \n",
       "129863                       Reserva      90    NaN                Dão   \n",
       "129893                  Corte Menini      91    NaN             Veneto   \n",
       "129964  Domaine Saint-Rémy Herrenweg      90    NaN             Alsace   \n",
       "\n",
       "                     region_1 region_2    taster_name taster_twitter_handle  \\\n",
       "0                        Etna      NaN  Kerin O’Keefe          @kerinokeefe   \n",
       "13                       Etna      NaN  Kerin O’Keefe          @kerinokeefe   \n",
       "30        Beaujolais-Villages      NaN     Roger Voss            @vossroger   \n",
       "31                    Sicilia      NaN            NaN                   NaN   \n",
       "32                    Sicilia      NaN            NaN                   NaN   \n",
       "...                       ...      ...            ...                   ...   \n",
       "129844  Morellino di Scansano      NaN            NaN                   NaN   \n",
       "129860                    NaN      NaN     Roger Voss            @vossroger   \n",
       "129863                    NaN      NaN     Roger Voss            @vossroger   \n",
       "129893         Soave Classico      NaN  Kerin O’Keefe          @kerinokeefe   \n",
       "129964                 Alsace      NaN     Roger Voss            @vossroger   \n",
       "\n",
       "                                                    title            variety  \\\n",
       "0                       Nicosia 2013 Vulkà Bianco  (Etna)        White Blend   \n",
       "13                 Masseria Setteporte 2012 Rosso  (Etna)  Nerello Mascalese   \n",
       "30      Domaine de la Madone 2012 Nouveau  (Beaujolais...              Gamay   \n",
       "31      Duca di Salaparuta 2010 Calanìca Nero d'Avola-...          Red Blend   \n",
       "32      Duca di Salaparuta 2011 Calanìca Grillo-Viogni...        White Blend   \n",
       "...                                                   ...                ...   \n",
       "129844  Caparzo 2006 Doga delle Clavule  (Morellino di...         Sangiovese   \n",
       "129860  Quinta da Pacheca 2013 Pacheca Superior Red (D...     Portuguese Red   \n",
       "129863                    Seacampo 2011 Reserva Red (Dão)     Portuguese Red   \n",
       "129893   Le Mandolare 2015 Corte Menini  (Soave Classico)          Garganega   \n",
       "129964  Domaine Ehrhart 2013 Domaine Saint-Rémy Herren...     Gewürztraminer   \n",
       "\n",
       "                      winery  \n",
       "0                    Nicosia  \n",
       "13       Masseria Setteporte  \n",
       "30      Domaine de la Madone  \n",
       "31        Duca di Salaparuta  \n",
       "32        Duca di Salaparuta  \n",
       "...                      ...  \n",
       "129844               Caparzo  \n",
       "129860     Quinta da Pacheca  \n",
       "129863              Seacampo  \n",
       "129893          Le Mandolare  \n",
       "129964       Domaine Ehrhart  \n",
       "\n",
       "[8996 rows x 13 columns]>"
      ]
     },
     "execution_count": 6,
     "metadata": {},
     "output_type": "execute_result"
    }
   ],
   "source": [
    "reviews[pd.isnull(reviews.price)].size\n",
    "reviews[pd.isnull(reviews.price)].sum"
   ]
  },
  {
   "cell_type": "code",
   "execution_count": 7,
   "id": "839a7565",
   "metadata": {
    "execution": {
     "iopub.execute_input": "2023-04-06T07:39:54.985844Z",
     "iopub.status.busy": "2023-04-06T07:39:54.985411Z",
     "iopub.status.idle": "2023-04-06T07:39:54.996876Z",
     "shell.execute_reply": "2023-04-06T07:39:54.995608Z"
    },
    "papermill": {
     "duration": 0.021072,
     "end_time": "2023-04-06T07:39:54.999545",
     "exception": false,
     "start_time": "2023-04-06T07:39:54.978473",
     "status": "completed"
    },
    "tags": []
   },
   "outputs": [
    {
     "data": {
      "application/javascript": [
       "parent.postMessage({\"jupyterEvent\": \"custom.exercise_interaction\", \"data\": {\"outcomeType\": 1, \"valueTowardsCompletion\": 0.25, \"interactionType\": 1, \"questionType\": 1, \"questionId\": \"3_CountMissingPrices\", \"learnToolsVersion\": \"0.3.4\", \"failureMessage\": \"\", \"exceptionClass\": \"\", \"trace\": \"\"}}, \"*\")"
      ],
      "text/plain": [
       "<IPython.core.display.Javascript object>"
      ]
     },
     "metadata": {},
     "output_type": "display_data"
    },
    {
     "data": {
      "text/markdown": [
       "<span style=\"color:#33cc33\">Correct</span>"
      ],
      "text/plain": [
       "Correct"
      ]
     },
     "metadata": {},
     "output_type": "display_data"
    }
   ],
   "source": [
    "n_missing_prices = pd.isnull(reviews.price).sum()\n",
    "\n",
    "# Check your answer\n",
    "q3.check()"
   ]
  },
  {
   "cell_type": "code",
   "execution_count": 8,
   "id": "81854054",
   "metadata": {
    "execution": {
     "iopub.execute_input": "2023-04-06T07:39:55.013867Z",
     "iopub.status.busy": "2023-04-06T07:39:55.012875Z",
     "iopub.status.idle": "2023-04-06T07:39:55.017755Z",
     "shell.execute_reply": "2023-04-06T07:39:55.016498Z"
    },
    "papermill": {
     "duration": 0.014834,
     "end_time": "2023-04-06T07:39:55.020269",
     "exception": false,
     "start_time": "2023-04-06T07:39:55.005435",
     "status": "completed"
    },
    "tags": []
   },
   "outputs": [],
   "source": [
    "#q3.hint()\n",
    "#q3.solution()"
   ]
  },
  {
   "cell_type": "markdown",
   "id": "49a6d999",
   "metadata": {
    "papermill": {
     "duration": 0.005597,
     "end_time": "2023-04-06T07:39:55.031871",
     "exception": false,
     "start_time": "2023-04-06T07:39:55.026274",
     "status": "completed"
    },
    "tags": []
   },
   "source": [
    "## 4.\n",
    "What are the most common wine-producing regions? Create a Series counting the number of times each value occurs in the `region_1` field. This field is often missing data, so replace missing values with `Unknown`. Sort in descending order.  Your output should look something like this:\n",
    "\n",
    "```\n",
    "Unknown                    21247\n",
    "Napa Valley                 4480\n",
    "                           ...  \n",
    "Bardolino Superiore            1\n",
    "Primitivo del Tarantino        1\n",
    "Name: region_1, Length: 1230, dtype: int64\n",
    "```"
   ]
  },
  {
   "cell_type": "code",
   "execution_count": 9,
   "id": "58811e6e",
   "metadata": {
    "execution": {
     "iopub.execute_input": "2023-04-06T07:39:55.046648Z",
     "iopub.status.busy": "2023-04-06T07:39:55.046206Z",
     "iopub.status.idle": "2023-04-06T07:39:55.095842Z",
     "shell.execute_reply": "2023-04-06T07:39:55.094541Z"
    },
    "papermill": {
     "duration": 0.059339,
     "end_time": "2023-04-06T07:39:55.098255",
     "exception": false,
     "start_time": "2023-04-06T07:39:55.038916",
     "status": "completed"
    },
    "tags": []
   },
   "outputs": [
    {
     "data": {
      "application/javascript": [
       "parent.postMessage({\"jupyterEvent\": \"custom.exercise_interaction\", \"data\": {\"outcomeType\": 1, \"valueTowardsCompletion\": 0.25, \"interactionType\": 1, \"questionType\": 2, \"questionId\": \"4_ReviewsPerRegion\", \"learnToolsVersion\": \"0.3.4\", \"failureMessage\": \"\", \"exceptionClass\": \"\", \"trace\": \"\"}}, \"*\")"
      ],
      "text/plain": [
       "<IPython.core.display.Javascript object>"
      ]
     },
     "metadata": {},
     "output_type": "display_data"
    },
    {
     "data": {
      "text/markdown": [
       "<span style=\"color:#33cc33\">Correct</span>"
      ],
      "text/plain": [
       "Correct"
      ]
     },
     "metadata": {},
     "output_type": "display_data"
    }
   ],
   "source": [
    "reviews_per_region = reviews.region_1.fillna('Unknown').value_counts().sort_values(ascending=False)\n",
    "\n",
    "# Check your answer\n",
    "q4.check()"
   ]
  },
  {
   "cell_type": "code",
   "execution_count": 10,
   "id": "2b8b4566",
   "metadata": {
    "execution": {
     "iopub.execute_input": "2023-04-06T07:39:55.112593Z",
     "iopub.status.busy": "2023-04-06T07:39:55.112159Z",
     "iopub.status.idle": "2023-04-06T07:39:55.117288Z",
     "shell.execute_reply": "2023-04-06T07:39:55.116143Z"
    },
    "papermill": {
     "duration": 0.015515,
     "end_time": "2023-04-06T07:39:55.120021",
     "exception": false,
     "start_time": "2023-04-06T07:39:55.104506",
     "status": "completed"
    },
    "tags": []
   },
   "outputs": [],
   "source": [
    "#q4.hint()\n",
    "#q4.solution()"
   ]
  },
  {
   "cell_type": "markdown",
   "id": "1c56b377",
   "metadata": {
    "papermill": {
     "duration": 0.005797,
     "end_time": "2023-04-06T07:39:55.131955",
     "exception": false,
     "start_time": "2023-04-06T07:39:55.126158",
     "status": "completed"
    },
    "tags": []
   },
   "source": [
    "# Keep going\n",
    "\n",
    "Move on to **[renaming and combining](https://www.kaggle.com/residentmario/renaming-and-combining)**."
   ]
  },
  {
   "cell_type": "markdown",
   "id": "1ed4945b",
   "metadata": {
    "papermill": {
     "duration": 0.005757,
     "end_time": "2023-04-06T07:39:55.144247",
     "exception": false,
     "start_time": "2023-04-06T07:39:55.138490",
     "status": "completed"
    },
    "tags": []
   },
   "source": [
    "---\n",
    "\n",
    "\n",
    "\n",
    "\n",
    "*Have questions or comments? Visit the [course discussion forum](https://www.kaggle.com/learn/pandas/discussion) to chat with other learners.*"
   ]
  }
 ],
 "metadata": {
  "kernelspec": {
   "display_name": "Python 3",
   "language": "python",
   "name": "python3"
  },
  "language_info": {
   "codemirror_mode": {
    "name": "ipython",
    "version": 3
   },
   "file_extension": ".py",
   "mimetype": "text/x-python",
   "name": "python",
   "nbconvert_exporter": "python",
   "pygments_lexer": "ipython3",
   "version": "3.7.12"
  },
  "papermill": {
   "default_parameters": {},
   "duration": 14.971755,
   "end_time": "2023-04-06T07:39:55.872118",
   "environment_variables": {},
   "exception": null,
   "input_path": "__notebook__.ipynb",
   "output_path": "__notebook__.ipynb",
   "parameters": {},
   "start_time": "2023-04-06T07:39:40.900363",
   "version": "2.4.0"
  }
 },
 "nbformat": 4,
 "nbformat_minor": 5
}
