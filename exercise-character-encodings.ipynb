{
 "cells": [
  {
   "cell_type": "markdown",
   "id": "756e9632",
   "metadata": {
    "papermill": {
     "duration": 0.006844,
     "end_time": "2023-06-24T09:35:40.340717",
     "exception": false,
     "start_time": "2023-06-24T09:35:40.333873",
     "status": "completed"
    },
    "tags": []
   },
   "source": [
    "**This notebook is an exercise in the [Data Cleaning](https://www.kaggle.com/learn/data-cleaning) course.  You can reference the tutorial at [this link](https://www.kaggle.com/alexisbcook/character-encodings).**\n",
    "\n",
    "---\n"
   ]
  },
  {
   "cell_type": "markdown",
   "id": "b5729bd5",
   "metadata": {
    "papermill": {
     "duration": 0.005942,
     "end_time": "2023-06-24T09:35:40.352965",
     "exception": false,
     "start_time": "2023-06-24T09:35:40.347023",
     "status": "completed"
    },
    "tags": []
   },
   "source": [
    "In this exercise, you'll apply what you learned in the **Character encodings** tutorial.\n",
    "\n",
    "# Setup\n",
    "\n",
    "The questions below will give you feedback on your work. Run the following cell to set up the feedback system."
   ]
  },
  {
   "cell_type": "code",
   "execution_count": 1,
   "id": "c2c98164",
   "metadata": {
    "execution": {
     "iopub.execute_input": "2023-06-24T09:35:40.367695Z",
     "iopub.status.busy": "2023-06-24T09:35:40.366997Z",
     "iopub.status.idle": "2023-06-24T09:35:40.462784Z",
     "shell.execute_reply": "2023-06-24T09:35:40.461519Z"
    },
    "papermill": {
     "duration": 0.10629,
     "end_time": "2023-06-24T09:35:40.465579",
     "exception": false,
     "start_time": "2023-06-24T09:35:40.359289",
     "status": "completed"
    },
    "tags": []
   },
   "outputs": [
    {
     "name": "stdout",
     "output_type": "stream",
     "text": [
      "Setup Complete\n"
     ]
    }
   ],
   "source": [
    "from learntools.core import binder\n",
    "binder.bind(globals())\n",
    "from learntools.data_cleaning.ex4 import *\n",
    "print(\"Setup Complete\")"
   ]
  },
  {
   "cell_type": "markdown",
   "id": "de96ffd1",
   "metadata": {
    "papermill": {
     "duration": 0.006258,
     "end_time": "2023-06-24T09:35:40.478343",
     "exception": false,
     "start_time": "2023-06-24T09:35:40.472085",
     "status": "completed"
    },
    "tags": []
   },
   "source": [
    "# Get our environment set up\n",
    "\n",
    "The first thing we'll need to do is load in the libraries we'll be using."
   ]
  },
  {
   "cell_type": "code",
   "execution_count": 2,
   "id": "6a161740",
   "metadata": {
    "execution": {
     "iopub.execute_input": "2023-06-24T09:35:40.493739Z",
     "iopub.status.busy": "2023-06-24T09:35:40.492596Z",
     "iopub.status.idle": "2023-06-24T09:35:40.499778Z",
     "shell.execute_reply": "2023-06-24T09:35:40.499012Z"
    },
    "papermill": {
     "duration": 0.017243,
     "end_time": "2023-06-24T09:35:40.502041",
     "exception": false,
     "start_time": "2023-06-24T09:35:40.484798",
     "status": "completed"
    },
    "tags": []
   },
   "outputs": [],
   "source": [
    "# modules we'll use\n",
    "import pandas as pd\n",
    "import numpy as np\n",
    "\n",
    "# helpful character encoding module\n",
    "import charset_normalizer\n",
    "\n",
    "# set seed for reproducibility\n",
    "np.random.seed(0)"
   ]
  },
  {
   "cell_type": "markdown",
   "id": "29573069",
   "metadata": {
    "papermill": {
     "duration": 0.007675,
     "end_time": "2023-06-24T09:35:40.516056",
     "exception": false,
     "start_time": "2023-06-24T09:35:40.508381",
     "status": "completed"
    },
    "tags": []
   },
   "source": [
    "# 1) What are encodings?\n",
    "\n",
    "You're working with a dataset composed of bytes.  Run the code cell below to print a sample entry."
   ]
  },
  {
   "cell_type": "code",
   "execution_count": 3,
   "id": "1565f7d8",
   "metadata": {
    "execution": {
     "iopub.execute_input": "2023-06-24T09:35:40.530826Z",
     "iopub.status.busy": "2023-06-24T09:35:40.530202Z",
     "iopub.status.idle": "2023-06-24T09:35:40.536660Z",
     "shell.execute_reply": "2023-06-24T09:35:40.535276Z"
    },
    "papermill": {
     "duration": 0.016411,
     "end_time": "2023-06-24T09:35:40.538829",
     "exception": false,
     "start_time": "2023-06-24T09:35:40.522418",
     "status": "completed"
    },
    "tags": []
   },
   "outputs": [
    {
     "name": "stdout",
     "output_type": "stream",
     "text": [
      "b'\\xa7A\\xa6n'\n",
      "data type: <class 'bytes'>\n"
     ]
    }
   ],
   "source": [
    "sample_entry = b'\\xa7A\\xa6n'\n",
    "print(sample_entry)\n",
    "print('data type:', type(sample_entry))"
   ]
  },
  {
   "cell_type": "markdown",
   "id": "069b6cfa",
   "metadata": {
    "papermill": {
     "duration": 0.006273,
     "end_time": "2023-06-24T09:35:40.551532",
     "exception": false,
     "start_time": "2023-06-24T09:35:40.545259",
     "status": "completed"
    },
    "tags": []
   },
   "source": [
    "You notice that it doesn't use the standard UTF-8 encoding. \n",
    "\n",
    "Use the next code cell to create a variable `new_entry` that changes the encoding from `\"big5-tw\"` to `\"utf-8\"`.  `new_entry` should have the bytes datatype."
   ]
  },
  {
   "cell_type": "code",
   "execution_count": 4,
   "id": "54143347",
   "metadata": {
    "execution": {
     "iopub.execute_input": "2023-06-24T09:35:40.566638Z",
     "iopub.status.busy": "2023-06-24T09:35:40.566024Z",
     "iopub.status.idle": "2023-06-24T09:35:40.576448Z",
     "shell.execute_reply": "2023-06-24T09:35:40.575288Z"
    },
    "papermill": {
     "duration": 0.020733,
     "end_time": "2023-06-24T09:35:40.578779",
     "exception": false,
     "start_time": "2023-06-24T09:35:40.558046",
     "status": "completed"
    },
    "tags": []
   },
   "outputs": [
    {
     "data": {
      "application/javascript": [
       "parent.postMessage({\"jupyterEvent\": \"custom.exercise_interaction\", \"data\": {\"outcomeType\": 1, \"valueTowardsCompletion\": 0.3333333333333333, \"interactionType\": 1, \"questionType\": 1, \"questionId\": \"1_EncodingsIntro\", \"learnToolsVersion\": \"0.3.4\", \"failureMessage\": \"\", \"exceptionClass\": \"\", \"trace\": \"\"}}, \"*\")"
      ],
      "text/plain": [
       "<IPython.core.display.Javascript object>"
      ]
     },
     "metadata": {},
     "output_type": "display_data"
    },
    {
     "data": {
      "text/markdown": [
       "<span style=\"color:#33cc33\">Correct</span>"
      ],
      "text/plain": [
       "Correct"
      ]
     },
     "metadata": {},
     "output_type": "display_data"
    }
   ],
   "source": [
    "before = sample_entry.decode(\"big5-tw\")\n",
    "new_entry = before.encode()\n",
    "\n",
    "# Check your answer\n",
    "q1.check()"
   ]
  },
  {
   "cell_type": "code",
   "execution_count": 5,
   "id": "9f4d7c00",
   "metadata": {
    "execution": {
     "iopub.execute_input": "2023-06-24T09:35:40.594277Z",
     "iopub.status.busy": "2023-06-24T09:35:40.593871Z",
     "iopub.status.idle": "2023-06-24T09:35:40.598073Z",
     "shell.execute_reply": "2023-06-24T09:35:40.596997Z"
    },
    "papermill": {
     "duration": 0.014743,
     "end_time": "2023-06-24T09:35:40.600360",
     "exception": false,
     "start_time": "2023-06-24T09:35:40.585617",
     "status": "completed"
    },
    "tags": []
   },
   "outputs": [],
   "source": [
    "# Lines below will give you a hint or solution code\n",
    "#q1.hint()\n",
    "#q1.solution()"
   ]
  },
  {
   "cell_type": "markdown",
   "id": "994c6545",
   "metadata": {
    "papermill": {
     "duration": 0.006519,
     "end_time": "2023-06-24T09:35:40.613760",
     "exception": false,
     "start_time": "2023-06-24T09:35:40.607241",
     "status": "completed"
    },
    "tags": []
   },
   "source": [
    "# 2) Reading in files with encoding problems\n",
    "\n",
    "Use the code cell below to read in this file at path `\"../input/fatal-police-shootings-in-the-us/PoliceKillingsUS.csv\"`.  \n",
    "\n",
    "Figure out what the correct encoding should be and read in the file to a DataFrame `police_killings`."
   ]
  },
  {
   "cell_type": "code",
   "execution_count": 6,
   "id": "0cb4b7e0",
   "metadata": {
    "execution": {
     "iopub.execute_input": "2023-06-24T09:35:40.629508Z",
     "iopub.status.busy": "2023-06-24T09:35:40.629135Z",
     "iopub.status.idle": "2023-06-24T09:35:41.472189Z",
     "shell.execute_reply": "2023-06-24T09:35:41.471087Z"
    },
    "papermill": {
     "duration": 0.853989,
     "end_time": "2023-06-24T09:35:41.474768",
     "exception": false,
     "start_time": "2023-06-24T09:35:40.620779",
     "status": "completed"
    },
    "tags": []
   },
   "outputs": [
    {
     "name": "stdout",
     "output_type": "stream",
     "text": [
      "{'encoding': 'windows-1250', 'language': 'English', 'confidence': 1.0}\n"
     ]
    }
   ],
   "source": [
    "# look at the first ten thousand bytes to guess the character encoding\n",
    "with open(\"../input/fatal-police-shootings-in-the-us/PoliceKillingsUS.csv\", 'rb') as rawdata:\n",
    "    result = charset_normalizer.detect(rawdata.read(1000000))\n",
    "\n",
    "# check what the character encoding might be\n",
    "print(result)"
   ]
  },
  {
   "cell_type": "code",
   "execution_count": 7,
   "id": "0b80eec9",
   "metadata": {
    "execution": {
     "iopub.execute_input": "2023-06-24T09:35:41.490999Z",
     "iopub.status.busy": "2023-06-24T09:35:41.490561Z",
     "iopub.status.idle": "2023-06-24T09:35:41.521163Z",
     "shell.execute_reply": "2023-06-24T09:35:41.520369Z"
    },
    "papermill": {
     "duration": 0.041165,
     "end_time": "2023-06-24T09:35:41.523352",
     "exception": false,
     "start_time": "2023-06-24T09:35:41.482187",
     "status": "completed"
    },
    "tags": []
   },
   "outputs": [
    {
     "data": {
      "application/javascript": [
       "parent.postMessage({\"jupyterEvent\": \"custom.exercise_interaction\", \"data\": {\"outcomeType\": 1, \"valueTowardsCompletion\": 0.3333333333333333, \"interactionType\": 1, \"questionType\": 1, \"questionId\": \"2_ReadIn\", \"learnToolsVersion\": \"0.3.4\", \"failureMessage\": \"\", \"exceptionClass\": \"\", \"trace\": \"\"}}, \"*\")"
      ],
      "text/plain": [
       "<IPython.core.display.Javascript object>"
      ]
     },
     "metadata": {},
     "output_type": "display_data"
    },
    {
     "data": {
      "text/markdown": [
       "<span style=\"color:#33cc33\">Correct</span>"
      ],
      "text/plain": [
       "Correct"
      ]
     },
     "metadata": {},
     "output_type": "display_data"
    }
   ],
   "source": [
    "# TODO: Load in the DataFrame correctly.\n",
    "police_killings = pd.read_csv(\"../input/fatal-police-shootings-in-the-us/PoliceKillingsUS.csv\", encoding=\"windows-1250\")\n",
    "police_killings.head()\n",
    "\n",
    "# Check your answer\n",
    "q2.check()"
   ]
  },
  {
   "cell_type": "markdown",
   "id": "24c7e6ca",
   "metadata": {
    "papermill": {
     "duration": 0.006975,
     "end_time": "2023-06-24T09:35:41.537795",
     "exception": false,
     "start_time": "2023-06-24T09:35:41.530820",
     "status": "completed"
    },
    "tags": []
   },
   "source": [
    "Feel free to use any additional code cells for supplemental work.  To get credit for finishing this question, you'll need to run `q2.check()` and get a result of **Correct**."
   ]
  },
  {
   "cell_type": "code",
   "execution_count": 8,
   "id": "75588d53",
   "metadata": {
    "execution": {
     "iopub.execute_input": "2023-06-24T09:35:41.554386Z",
     "iopub.status.busy": "2023-06-24T09:35:41.553575Z",
     "iopub.status.idle": "2023-06-24T09:35:41.558668Z",
     "shell.execute_reply": "2023-06-24T09:35:41.557498Z"
    },
    "papermill": {
     "duration": 0.015953,
     "end_time": "2023-06-24T09:35:41.561022",
     "exception": false,
     "start_time": "2023-06-24T09:35:41.545069",
     "status": "completed"
    },
    "tags": []
   },
   "outputs": [],
   "source": [
    "# (Optional) Use this code cell for any additional work."
   ]
  },
  {
   "cell_type": "code",
   "execution_count": 9,
   "id": "58074e6f",
   "metadata": {
    "execution": {
     "iopub.execute_input": "2023-06-24T09:35:41.577772Z",
     "iopub.status.busy": "2023-06-24T09:35:41.577392Z",
     "iopub.status.idle": "2023-06-24T09:35:41.581673Z",
     "shell.execute_reply": "2023-06-24T09:35:41.580544Z"
    },
    "papermill": {
     "duration": 0.015719,
     "end_time": "2023-06-24T09:35:41.584160",
     "exception": false,
     "start_time": "2023-06-24T09:35:41.568441",
     "status": "completed"
    },
    "tags": []
   },
   "outputs": [],
   "source": [
    "# Lines below will give you a hint or solution code\n",
    "#q2.hint()\n",
    "#q2.solution()"
   ]
  },
  {
   "cell_type": "markdown",
   "id": "7ba2032d",
   "metadata": {
    "papermill": {
     "duration": 0.007184,
     "end_time": "2023-06-24T09:35:41.599091",
     "exception": false,
     "start_time": "2023-06-24T09:35:41.591907",
     "status": "completed"
    },
    "tags": []
   },
   "source": [
    "# 3) Saving your files with UTF-8 encoding\n",
    "\n",
    "Save a version of the police killings dataset to CSV with UTF-8 encoding.  Your answer will be marked correct after saving this file.  \n",
    "\n",
    "Note: When using the `to_csv()` method, supply only the name of the file (e.g., `\"my_file.csv\"`).  This saves the file at the filepath `\"/kaggle/working/my_file.csv\"`."
   ]
  },
  {
   "cell_type": "code",
   "execution_count": 10,
   "id": "64850250",
   "metadata": {
    "execution": {
     "iopub.execute_input": "2023-06-24T09:35:41.615682Z",
     "iopub.status.busy": "2023-06-24T09:35:41.615279Z",
     "iopub.status.idle": "2023-06-24T09:35:41.672860Z",
     "shell.execute_reply": "2023-06-24T09:35:41.671883Z"
    },
    "papermill": {
     "duration": 0.068895,
     "end_time": "2023-06-24T09:35:41.675359",
     "exception": false,
     "start_time": "2023-06-24T09:35:41.606464",
     "status": "completed"
    },
    "tags": []
   },
   "outputs": [
    {
     "data": {
      "application/javascript": [
       "parent.postMessage({\"jupyterEvent\": \"custom.exercise_interaction\", \"data\": {\"outcomeType\": 1, \"valueTowardsCompletion\": 0.3333333333333333, \"interactionType\": 1, \"questionType\": 2, \"questionId\": \"3_SaveCSV\", \"learnToolsVersion\": \"0.3.4\", \"failureMessage\": \"\", \"exceptionClass\": \"\", \"trace\": \"\"}}, \"*\")"
      ],
      "text/plain": [
       "<IPython.core.display.Javascript object>"
      ]
     },
     "metadata": {},
     "output_type": "display_data"
    },
    {
     "data": {
      "text/markdown": [
       "<span style=\"color:#33cc33\">Correct</span>"
      ],
      "text/plain": [
       "Correct"
      ]
     },
     "metadata": {},
     "output_type": "display_data"
    }
   ],
   "source": [
    "# TODO: Save the police killings dataset to CSV\n",
    "police_killings.to_csv(\"police-killings-utf8.csv\")\n",
    "\n",
    "# Check your answer\n",
    "q3.check()"
   ]
  },
  {
   "cell_type": "code",
   "execution_count": 11,
   "id": "b1dc5a8e",
   "metadata": {
    "execution": {
     "iopub.execute_input": "2023-06-24T09:35:41.692618Z",
     "iopub.status.busy": "2023-06-24T09:35:41.692234Z",
     "iopub.status.idle": "2023-06-24T09:35:41.696348Z",
     "shell.execute_reply": "2023-06-24T09:35:41.695301Z"
    },
    "papermill": {
     "duration": 0.015597,
     "end_time": "2023-06-24T09:35:41.698626",
     "exception": false,
     "start_time": "2023-06-24T09:35:41.683029",
     "status": "completed"
    },
    "tags": []
   },
   "outputs": [],
   "source": [
    "# Lines below will give you a hint or solution code\n",
    "#q3.hint()\n",
    "#q3.solution()"
   ]
  },
  {
   "cell_type": "markdown",
   "id": "20867b0c",
   "metadata": {
    "papermill": {
     "duration": 0.007332,
     "end_time": "2023-06-24T09:35:41.713663",
     "exception": false,
     "start_time": "2023-06-24T09:35:41.706331",
     "status": "completed"
    },
    "tags": []
   },
   "source": [
    "# (Optional) More practice\n",
    "\n",
    "Check out [this dataset of files in different character encodings](https://www.kaggle.com/rtatman/character-encoding-examples). Can you read in all the files with their original encodings and them save them out as UTF-8 files?\n",
    "\n",
    "If you have a file that's in UTF-8 but has just a couple of weird-looking characters in it, you can try out the [ftfy module](https://ftfy.readthedocs.io/en/latest/#) and see if it helps. \n",
    "\n",
    "# Keep going\n",
    "\n",
    "In the final lesson, learn how to [**clean up inconsistent text entries**](https://www.kaggle.com/alexisbcook/inconsistent-data-entry) in your dataset."
   ]
  },
  {
   "cell_type": "markdown",
   "id": "fd774de8",
   "metadata": {
    "papermill": {
     "duration": 0.007288,
     "end_time": "2023-06-24T09:35:41.728617",
     "exception": false,
     "start_time": "2023-06-24T09:35:41.721329",
     "status": "completed"
    },
    "tags": []
   },
   "source": [
    "---\n",
    "\n",
    "\n",
    "\n",
    "\n",
    "*Have questions or comments? Visit the [course discussion forum](https://www.kaggle.com/learn/data-cleaning/discussion) to chat with other learners.*"
   ]
  }
 ],
 "metadata": {
  "kernelspec": {
   "display_name": "Python 3",
   "language": "python",
   "name": "python3"
  },
  "language_info": {
   "codemirror_mode": {
    "name": "ipython",
    "version": 3
   },
   "file_extension": ".py",
   "mimetype": "text/x-python",
   "name": "python",
   "nbconvert_exporter": "python",
   "pygments_lexer": "ipython3",
   "version": "3.10.10"
  },
  "papermill": {
   "default_parameters": {},
   "duration": 14.728472,
   "end_time": "2023-06-24T09:35:42.658827",
   "environment_variables": {},
   "exception": null,
   "input_path": "__notebook__.ipynb",
   "output_path": "__notebook__.ipynb",
   "parameters": {},
   "start_time": "2023-06-24T09:35:27.930355",
   "version": "2.4.0"
  }
 },
 "nbformat": 4,
 "nbformat_minor": 5
}
