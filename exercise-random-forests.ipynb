{
 "cells": [
  {
   "cell_type": "markdown",
   "id": "bf62dd1a",
   "metadata": {
    "papermill": {
     "duration": 0.004101,
     "end_time": "2023-03-20T23:02:40.487497",
     "exception": false,
     "start_time": "2023-03-20T23:02:40.483396",
     "status": "completed"
    },
    "tags": []
   },
   "source": [
    "**This notebook is an exercise in the [Introduction to Machine Learning](https://www.kaggle.com/learn/intro-to-machine-learning) course.  You can reference the tutorial at [this link](https://www.kaggle.com/dansbecker/random-forests).**\n",
    "\n",
    "---\n"
   ]
  },
  {
   "cell_type": "markdown",
   "id": "eb214f0d",
   "metadata": {
    "papermill": {
     "duration": 0.002718,
     "end_time": "2023-03-20T23:02:40.493488",
     "exception": false,
     "start_time": "2023-03-20T23:02:40.490770",
     "status": "completed"
    },
    "tags": []
   },
   "source": [
    "## Recap\n",
    "Here's the code you've written so far."
   ]
  },
  {
   "cell_type": "code",
   "execution_count": 1,
   "id": "ff0fe2f1",
   "metadata": {
    "execution": {
     "iopub.execute_input": "2023-03-20T23:02:40.501565Z",
     "iopub.status.busy": "2023-03-20T23:02:40.501176Z",
     "iopub.status.idle": "2023-03-20T23:02:42.112396Z",
     "shell.execute_reply": "2023-03-20T23:02:42.110982Z"
    },
    "papermill": {
     "duration": 1.619022,
     "end_time": "2023-03-20T23:02:42.115464",
     "exception": false,
     "start_time": "2023-03-20T23:02:40.496442",
     "status": "completed"
    },
    "tags": []
   },
   "outputs": [
    {
     "name": "stdout",
     "output_type": "stream",
     "text": [
      "Validation MAE when not specifying max_leaf_nodes: 29,653\n",
      "Validation MAE for best value of max_leaf_nodes: 27,283\n",
      "\n",
      "Setup complete\n"
     ]
    }
   ],
   "source": [
    "# Code you have previously used to load data\n",
    "import pandas as pd\n",
    "from sklearn.metrics import mean_absolute_error\n",
    "from sklearn.model_selection import train_test_split\n",
    "from sklearn.tree import DecisionTreeRegressor\n",
    "\n",
    "\n",
    "# Path of the file to read\n",
    "iowa_file_path = '../input/home-data-for-ml-course/train.csv'\n",
    "\n",
    "home_data = pd.read_csv(iowa_file_path)\n",
    "# Create target object and call it y\n",
    "y = home_data.SalePrice\n",
    "# Create X\n",
    "features = ['LotArea', 'YearBuilt', '1stFlrSF', '2ndFlrSF', 'FullBath', 'BedroomAbvGr', 'TotRmsAbvGrd']\n",
    "X = home_data[features]\n",
    "\n",
    "# Split into validation and training data\n",
    "train_X, val_X, train_y, val_y = train_test_split(X, y, random_state=1)\n",
    "\n",
    "# Specify Model\n",
    "iowa_model = DecisionTreeRegressor(random_state=1)\n",
    "# Fit Model\n",
    "iowa_model.fit(train_X, train_y)\n",
    "\n",
    "# Make validation predictions and calculate mean absolute error\n",
    "val_predictions = iowa_model.predict(val_X)\n",
    "val_mae = mean_absolute_error(val_predictions, val_y)\n",
    "print(\"Validation MAE when not specifying max_leaf_nodes: {:,.0f}\".format(val_mae))\n",
    "\n",
    "# Using best value for max_leaf_nodes\n",
    "iowa_model = DecisionTreeRegressor(max_leaf_nodes=100, random_state=1)\n",
    "iowa_model.fit(train_X, train_y)\n",
    "val_predictions = iowa_model.predict(val_X)\n",
    "val_mae = mean_absolute_error(val_predictions, val_y)\n",
    "print(\"Validation MAE for best value of max_leaf_nodes: {:,.0f}\".format(val_mae))\n",
    "\n",
    "\n",
    "# Set up code checking\n",
    "from learntools.core import binder\n",
    "binder.bind(globals())\n",
    "from learntools.machine_learning.ex6 import *\n",
    "print(\"\\nSetup complete\")"
   ]
  },
  {
   "cell_type": "markdown",
   "id": "2040606a",
   "metadata": {
    "papermill": {
     "duration": 0.0038,
     "end_time": "2023-03-20T23:02:42.122879",
     "exception": false,
     "start_time": "2023-03-20T23:02:42.119079",
     "status": "completed"
    },
    "tags": []
   },
   "source": [
    "# Exercises\n",
    "Data science isn't always this easy. But replacing the decision tree with a Random Forest is going to be an easy win."
   ]
  },
  {
   "cell_type": "markdown",
   "id": "da4a72d2",
   "metadata": {
    "papermill": {
     "duration": 0.003091,
     "end_time": "2023-03-20T23:02:42.129518",
     "exception": false,
     "start_time": "2023-03-20T23:02:42.126427",
     "status": "completed"
    },
    "tags": []
   },
   "source": [
    "## Step 1: Use a Random Forest"
   ]
  },
  {
   "cell_type": "code",
   "execution_count": 2,
   "id": "3302265c",
   "metadata": {
    "execution": {
     "iopub.execute_input": "2023-03-20T23:02:42.138130Z",
     "iopub.status.busy": "2023-03-20T23:02:42.137654Z",
     "iopub.status.idle": "2023-03-20T23:02:42.141811Z",
     "shell.execute_reply": "2023-03-20T23:02:42.140929Z"
    },
    "papermill": {
     "duration": 0.011947,
     "end_time": "2023-03-20T23:02:42.144578",
     "exception": false,
     "start_time": "2023-03-20T23:02:42.132631",
     "status": "completed"
    },
    "tags": []
   },
   "outputs": [],
   "source": [
    "# from sklearn.ensemble import RandomForestRegressor\n",
    "# help(RandomForestRegressor)"
   ]
  },
  {
   "cell_type": "code",
   "execution_count": 3,
   "id": "37c2216b",
   "metadata": {
    "execution": {
     "iopub.execute_input": "2023-03-20T23:02:42.153591Z",
     "iopub.status.busy": "2023-03-20T23:02:42.152622Z",
     "iopub.status.idle": "2023-03-20T23:02:42.764413Z",
     "shell.execute_reply": "2023-03-20T23:02:42.762875Z"
    },
    "papermill": {
     "duration": 0.619607,
     "end_time": "2023-03-20T23:02:42.767608",
     "exception": false,
     "start_time": "2023-03-20T23:02:42.148001",
     "status": "completed"
    },
    "tags": []
   },
   "outputs": [
    {
     "name": "stdout",
     "output_type": "stream",
     "text": [
      "Validation MAE for Random Forest Model: 21857.15912981083\n"
     ]
    },
    {
     "data": {
      "application/javascript": [
       "parent.postMessage({\"jupyterEvent\": \"custom.exercise_interaction\", \"data\": {\"outcomeType\": 1, \"valueTowardsCompletion\": 1.0, \"interactionType\": 1, \"questionType\": 2, \"questionId\": \"1_CheckRfScore\", \"learnToolsVersion\": \"0.3.4\", \"failureMessage\": \"\", \"exceptionClass\": \"\", \"trace\": \"\"}}, \"*\")"
      ],
      "text/plain": [
       "<IPython.core.display.Javascript object>"
      ]
     },
     "metadata": {},
     "output_type": "display_data"
    },
    {
     "data": {
      "text/markdown": [
       "<span style=\"color:#33cc33\">Correct</span>"
      ],
      "text/plain": [
       "Correct"
      ]
     },
     "metadata": {},
     "output_type": "display_data"
    }
   ],
   "source": [
    "from sklearn.ensemble import RandomForestRegressor\n",
    "# Define the model. Set random_state to 1\n",
    "rf_model = RandomForestRegressor(random_state = 1)\n",
    "\n",
    "# fit your model\n",
    "rf_model.fit(train_X, train_y)\n",
    "\n",
    "# Calculate the mean absolute error of your Random Forest model on the validation data\n",
    "rf_preds = rf_model.predict(val_X)\n",
    "rf_val_mae = mean_absolute_error(val_y, rf_preds)\n",
    "\n",
    "print(\"Validation MAE for Random Forest Model: {}\".format(rf_val_mae))\n",
    "\n",
    "# Check your answer\n",
    "step_1.check()"
   ]
  },
  {
   "cell_type": "code",
   "execution_count": 4,
   "id": "2db7f1c9",
   "metadata": {
    "execution": {
     "iopub.execute_input": "2023-03-20T23:02:42.776987Z",
     "iopub.status.busy": "2023-03-20T23:02:42.776547Z",
     "iopub.status.idle": "2023-03-20T23:02:42.782017Z",
     "shell.execute_reply": "2023-03-20T23:02:42.780703Z"
    },
    "papermill": {
     "duration": 0.0132,
     "end_time": "2023-03-20T23:02:42.784601",
     "exception": false,
     "start_time": "2023-03-20T23:02:42.771401",
     "status": "completed"
    },
    "tags": []
   },
   "outputs": [],
   "source": [
    "# The lines below will show you a hint or the solution.\n",
    "# step_1.hint() \n",
    "# step_1.solution()\n"
   ]
  },
  {
   "cell_type": "markdown",
   "id": "98353c44",
   "metadata": {
    "papermill": {
     "duration": 0.003351,
     "end_time": "2023-03-20T23:02:42.791631",
     "exception": false,
     "start_time": "2023-03-20T23:02:42.788280",
     "status": "completed"
    },
    "tags": []
   },
   "source": [
    "So far, you have followed specific instructions at each step of your project. This helped learn key ideas and build your first model, but now you know enough to try things on your own. \n",
    "\n",
    "Machine Learning competitions are a great way to try your own ideas and learn more as you independently navigate a machine learning project. \n",
    "\n",
    "# Keep Going\n",
    "\n",
    "You are ready for **[Machine Learning Competitions](https://www.kaggle.com/alexisbcook/machine-learning-competitions).**\n"
   ]
  },
  {
   "cell_type": "markdown",
   "id": "5609fb07",
   "metadata": {
    "papermill": {
     "duration": 0.003212,
     "end_time": "2023-03-20T23:02:42.798487",
     "exception": false,
     "start_time": "2023-03-20T23:02:42.795275",
     "status": "completed"
    },
    "tags": []
   },
   "source": [
    "---\n",
    "\n",
    "\n",
    "\n",
    "\n",
    "*Have questions or comments? Visit the [course discussion forum](https://www.kaggle.com/learn/intro-to-machine-learning/discussion) to chat with other learners.*"
   ]
  }
 ],
 "metadata": {
  "kernelspec": {
   "display_name": "Python 3",
   "language": "python",
   "name": "python3"
  },
  "language_info": {
   "codemirror_mode": {
    "name": "ipython",
    "version": 3
   },
   "file_extension": ".py",
   "mimetype": "text/x-python",
   "name": "python",
   "nbconvert_exporter": "python",
   "pygments_lexer": "ipython3",
   "version": "3.7.12"
  },
  "papermill": {
   "default_parameters": {},
   "duration": 14.031178,
   "end_time": "2023-03-20T23:02:43.626685",
   "environment_variables": {},
   "exception": null,
   "input_path": "__notebook__.ipynb",
   "output_path": "__notebook__.ipynb",
   "parameters": {},
   "start_time": "2023-03-20T23:02:29.595507",
   "version": "2.4.0"
  }
 },
 "nbformat": 4,
 "nbformat_minor": 5
}
